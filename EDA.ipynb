{
 "cells": [
  {
   "cell_type": "markdown",
   "metadata": {},
   "source": [
    "# Análsis Exploraotio de precios de compras y ventas Supermercado La Osa - Madrid"
   ]
  },
  {
   "cell_type": "code",
   "execution_count": 2,
   "metadata": {
    "collapsed": false,
    "jupyter": {
     "outputs_hidden": false
    },
    "tags": []
   },
   "outputs": [],
   "source": [
    "import pandas as pd\n",
    "import seaborn as sn\n",
    "import numpy as np\n",
    "import matplotlib as ploty"
   ]
  },
  {
   "cell_type": "markdown",
   "metadata": {
    "tags": []
   },
   "source": [
    "### Importamos los datasets"
   ]
  },
  {
   "cell_type": "code",
   "execution_count": 55,
   "metadata": {
    "collapsed": false,
    "jupyter": {
     "outputs_hidden": false
    },
    "tags": []
   },
   "outputs": [],
   "source": [
    "#Datasets de compra de productos a proveedores 2021-2022\n",
    "precio_enejun= pd.read_excel(\"Evolución_precio_enerojunio22.xls\")\n",
    "precio_juldic= pd.read_excel(\"Evolución_precio_juliodiciembre22.xls\")\n",
    "precio_2021= pd.read_excel(\"Price_history_2021.xls\")\n",
    "precio_2022= pd.read_excel(\"Price_history_122022.xls\")\n",
    "\n",
    "#Datasets de venta de productis al publico 2021-2022\n",
    "ventas_2021= pd.read_excel(\"Ventas_PVP_inflación_2021.xls\")\n",
    "ventas_2022= pd.read_excel(\"Ventas_PVP_inflación_2022.xls\")"
   ]
  },
  {
   "cell_type": "markdown",
   "metadata": {},
   "source": [
    "### Exploramos los datasets de precio\n",
    "* `Price_history_122022.xls` -->Hay información de Diciembre del 2022, la cual aparentemente ya está en el archivo `Evolución_precio_juliodiciembre22.xls`\n",
    "* Tenemos que corroborar si esta es informacion adicional del mes de Diciembre del 2022 o es información duplicada (Preguntar al Stakeholder)\n",
    "* El supermercado comenzó en el año 2020 --> Preguntar si hay información de Dicembre 2020\n",
    "* ¿Puede haber erro en los nombres de los archivos?"
   ]
  },
  {
   "cell_type": "markdown",
   "metadata": {},
   "source": [
    "### Precios de Compra de Productos a Proveedores\n",
    "* Se revisan los archivos:\n",
    "\n",
    "`Evolución_precio_enerojunio22.xls` \n",
    "\n",
    "`Evolución_precio_juliodiciembre22.xls`\n",
    "\n",
    "`Price_history_2021.xls`\n",
    "\n",
    "`Price_history_122022.xls`\n",
    "\n",
    "\n"
   ]
  },
  {
   "cell_type": "code",
   "execution_count": 11,
   "metadata": {
    "collapsed": false,
    "jupyter": {
     "outputs_hidden": false
    },
    "tags": []
   },
   "outputs": [
    {
     "name": "stdout",
     "output_type": "stream",
     "text": [
      "<class 'pandas.core.frame.DataFrame'>\n",
      "RangeIndex: 33361 entries, 0 to 33360\n",
      "Data columns (total 8 columns):\n",
      " #   Column                                                  Non-Null Count  Dtype         \n",
      "---  ------                                                  --------------  -----         \n",
      " 0   External ID                                             21005 non-null  object        \n",
      " 1   Producto/Nombre                                         21005 non-null  object        \n",
      " 2   Coste                                                   21005 non-null  float64       \n",
      " 3   Fecha                                                   21005 non-null  datetime64[ns]\n",
      " 4   Producto/Cuenta analítica para gastos/Nombre a mostrar  21005 non-null  object        \n",
      " 5   Producto/Referencia interna                             21005 non-null  float64       \n",
      " 6   Producto/Proveedores/Nombre a mostrar                   33361 non-null  object        \n",
      " 7   Producto/Categoría de producto/Nombre a mostrar         21005 non-null  object        \n",
      "dtypes: datetime64[ns](1), float64(2), object(5)\n",
      "memory usage: 2.0+ MB\n"
     ]
    }
   ],
   "source": [
    "precio_enejun.info()"
   ]
  },
  {
   "cell_type": "code",
   "execution_count": 15,
   "metadata": {
    "collapsed": false,
    "jupyter": {
     "outputs_hidden": false
    },
    "tags": []
   },
   "outputs": [
    {
     "name": "stdout",
     "output_type": "stream",
     "text": [
      "<class 'pandas.core.frame.DataFrame'>\n",
      "RangeIndex: 24783 entries, 0 to 24782\n",
      "Data columns (total 8 columns):\n",
      " #   Column                                                  Non-Null Count  Dtype         \n",
      "---  ------                                                  --------------  -----         \n",
      " 0   External ID                                             16217 non-null  object        \n",
      " 1   Producto/Nombre                                         16217 non-null  object        \n",
      " 2   Coste                                                   16217 non-null  float64       \n",
      " 3   Fecha                                                   16217 non-null  datetime64[ns]\n",
      " 4   Producto/Cuenta analítica para gastos/Nombre a mostrar  16217 non-null  object        \n",
      " 5   Producto/Referencia interna                             16217 non-null  float64       \n",
      " 6   Producto/Proveedores/Nombre a mostrar                   24783 non-null  object        \n",
      " 7   Producto/Categoría de producto/Nombre a mostrar         16217 non-null  object        \n",
      "dtypes: datetime64[ns](1), float64(2), object(5)\n",
      "memory usage: 1.5+ MB\n"
     ]
    }
   ],
   "source": [
    "precio_juldic.info()"
   ]
  },
  {
   "cell_type": "code",
   "execution_count": 49,
   "metadata": {},
   "outputs": [
    {
     "name": "stdout",
     "output_type": "stream",
     "text": [
      "<class 'pandas.core.frame.DataFrame'>\n",
      "RangeIndex: 57558 entries, 0 to 57557\n",
      "Data columns (total 8 columns):\n",
      " #   Column                                                  Non-Null Count  Dtype         \n",
      "---  ------                                                  --------------  -----         \n",
      " 0   External ID                                             37023 non-null  object        \n",
      " 1   Producto/Nombre                                         37023 non-null  object        \n",
      " 2   Coste                                                   37023 non-null  float64       \n",
      " 3   Fecha                                                   37023 non-null  datetime64[ns]\n",
      " 4   Producto/Cuenta analítica para gastos/Nombre a mostrar  37023 non-null  object        \n",
      " 5   Producto/Referencia interna                             37023 non-null  float64       \n",
      " 6   Producto/Proveedores/Nombre a mostrar                   57558 non-null  object        \n",
      " 7   Producto/Categoría de producto/Nombre a mostrar         37023 non-null  object        \n",
      "dtypes: datetime64[ns](1), float64(2), object(5)\n",
      "memory usage: 3.5+ MB\n"
     ]
    }
   ],
   "source": [
    "precio_2021.info()"
   ]
  },
  {
   "cell_type": "code",
   "execution_count": 51,
   "metadata": {
    "tags": []
   },
   "outputs": [
    {
     "name": "stdout",
     "output_type": "stream",
     "text": [
      "<class 'pandas.core.frame.DataFrame'>\n",
      "RangeIndex: 4254 entries, 0 to 4253\n",
      "Data columns (total 8 columns):\n",
      " #   Column                                                  Non-Null Count  Dtype         \n",
      "---  ------                                                  --------------  -----         \n",
      " 0   External ID                                             2809 non-null   object        \n",
      " 1   Producto/Nombre                                         2809 non-null   object        \n",
      " 2   Coste                                                   2809 non-null   float64       \n",
      " 3   Fecha                                                   2809 non-null   datetime64[ns]\n",
      " 4   Producto/Cuenta analítica para gastos/Nombre a mostrar  2809 non-null   object        \n",
      " 5   Producto/Referencia interna                             2809 non-null   float64       \n",
      " 6   Producto/Proveedores/Nombre a mostrar                   4254 non-null   object        \n",
      " 7   Producto/Categoría de producto/Nombre a mostrar         2809 non-null   object        \n",
      "dtypes: datetime64[ns](1), float64(2), object(5)\n",
      "memory usage: 266.0+ KB\n"
     ]
    }
   ],
   "source": [
    "precio_2022.info()"
   ]
  },
  {
   "cell_type": "markdown",
   "metadata": {},
   "source": [
    "> #### Los 4 archivos de precios de compra tienen las mismas 8 columnas.\n",
    "> #### Se concatenarán los 4 archivos en un solo dataframe `precios_compra_2022` para su manipulación.\n",
    "\n",
    "> #### Las columnas o variables:\n",
    "\n",
    "* External ID\n",
    "* Producto/Nombre\n",
    "* Coste\n",
    "* Fecha\n",
    "* Producto/Cuenta analítica para gastos/Nombre a mostrar\n",
    "* Producto/Referencia interna\n",
    "* Producto/Proveedores/Nombre a mostrar\n",
    "* Producto/Categoría de producto/Nombre a mostrar\n"
   ]
  },
  {
   "cell_type": "code",
   "execution_count": 56,
   "metadata": {
    "tags": []
   },
   "outputs": [
    {
     "name": "stdout",
     "output_type": "stream",
     "text": [
      "<class 'pandas.core.frame.DataFrame'>\n",
      "Int64Index: 173260 entries, 0 to 57557\n",
      "Data columns (total 8 columns):\n",
      " #   Column                                                  Non-Null Count   Dtype         \n",
      "---  ------                                                  --------------   -----         \n",
      " 0   External ID                                             111268 non-null  object        \n",
      " 1   Producto/Nombre                                         111268 non-null  object        \n",
      " 2   Coste                                                   111268 non-null  float64       \n",
      " 3   Fecha                                                   111268 non-null  datetime64[ns]\n",
      " 4   Producto/Cuenta analítica para gastos/Nombre a mostrar  111268 non-null  object        \n",
      " 5   Producto/Referencia interna                             111268 non-null  float64       \n",
      " 6   Producto/Proveedores/Nombre a mostrar                   173260 non-null  object        \n",
      " 7   Producto/Categoría de producto/Nombre a mostrar         111268 non-null  object        \n",
      "dtypes: datetime64[ns](1), float64(2), object(5)\n",
      "memory usage: 11.9+ MB\n"
     ]
    }
   ],
   "source": [
    "precios_compra_2022 = pd.concat([precio_enejun, precio_juldic,precio_2021,precio_2021])\n",
    "precios_compra_2022.info()\n"
   ]
  },
  {
   "cell_type": "code",
   "execution_count": 57,
   "metadata": {
    "tags": []
   },
   "outputs": [
    {
     "data": {
      "text/plain": [
       "Index(['External ID', 'Producto/Nombre', 'Coste', 'Fecha',\n",
       "       'Producto/Cuenta analítica para gastos/Nombre a mostrar',\n",
       "       'Producto/Referencia interna', 'Producto/Proveedores/Nombre a mostrar',\n",
       "       'Producto/Categoría de producto/Nombre a mostrar'],\n",
       "      dtype='object')"
      ]
     },
     "execution_count": 57,
     "metadata": {},
     "output_type": "execute_result"
    }
   ],
   "source": [
    "precios_compra_2022.columns"
   ]
  },
  {
   "cell_type": "markdown",
   "metadata": {},
   "source": [
    "### Renombramos las columnas para que sea más fácil su manipulación"
   ]
  },
  {
   "cell_type": "code",
   "execution_count": 58,
   "metadata": {
    "tags": []
   },
   "outputs": [],
   "source": [
    "precios_compra_2022.rename(columns={'External ID':'External_ID',\n",
    "                              'Producto/Nombre':'Producto_nombre', \n",
    "                              'Coste':'Coste',\n",
    "                             'Fecha':'Fecha', \n",
    "                              'Producto/Cuenta analítica para gastos/Nombre a mostrar':'Producto_nombre_publico',\n",
    "                             'Producto/Referencia interna':'Producto_Refint', \n",
    "                              'Producto/Proveedores/Nombre a mostrar':'Producto_Proveedores_publico',\n",
    "                              'Producto/Categoría de producto/Nombre a mostrar':'Producto_Categoría_publico'\n",
    "                             }, inplace=True)"
   ]
  },
  {
   "cell_type": "code",
   "execution_count": 59,
   "metadata": {
    "tags": []
   },
   "outputs": [
    {
     "name": "stdout",
     "output_type": "stream",
     "text": [
      "<class 'pandas.core.frame.DataFrame'>\n",
      "Int64Index: 173260 entries, 0 to 57557\n",
      "Data columns (total 8 columns):\n",
      " #   Column                        Non-Null Count   Dtype         \n",
      "---  ------                        --------------   -----         \n",
      " 0   External_ID                   111268 non-null  object        \n",
      " 1   Producto_nombre               111268 non-null  object        \n",
      " 2   Coste                         111268 non-null  float64       \n",
      " 3   Fecha                         111268 non-null  datetime64[ns]\n",
      " 4   Producto_nombre_publico       111268 non-null  object        \n",
      " 5   Producto_Refint               111268 non-null  float64       \n",
      " 6   Producto_Proveedores_publico  173260 non-null  object        \n",
      " 7   Producto_Categoría_publico    111268 non-null  object        \n",
      "dtypes: datetime64[ns](1), float64(2), object(5)\n",
      "memory usage: 11.9+ MB\n"
     ]
    }
   ],
   "source": [
    "precios_compra_2022.info()"
   ]
  },
  {
   "cell_type": "markdown",
   "metadata": {},
   "source": [
    "### Revisamos que si hay valores duplicados en los dataset de compra de productos para el mes de Diciembre de 2022."
   ]
  },
  {
   "cell_type": "code",
   "execution_count": 61,
   "metadata": {
    "tags": []
   },
   "outputs": [
    {
     "data": {
      "text/html": [
       "<div>\n",
       "<style scoped>\n",
       "    .dataframe tbody tr th:only-of-type {\n",
       "        vertical-align: middle;\n",
       "    }\n",
       "\n",
       "    .dataframe tbody tr th {\n",
       "        vertical-align: top;\n",
       "    }\n",
       "\n",
       "    .dataframe thead th {\n",
       "        text-align: right;\n",
       "    }\n",
       "</style>\n",
       "<table border=\"1\" class=\"dataframe\">\n",
       "  <thead>\n",
       "    <tr style=\"text-align: right;\">\n",
       "      <th></th>\n",
       "      <th>External_ID</th>\n",
       "      <th>Producto_nombre</th>\n",
       "      <th>Coste</th>\n",
       "      <th>Fecha</th>\n",
       "      <th>Producto_nombre_publico</th>\n",
       "      <th>Producto_Refint</th>\n",
       "      <th>Producto_Proveedores_publico</th>\n",
       "      <th>Producto_Categoría_publico</th>\n",
       "    </tr>\n",
       "  </thead>\n",
       "  <tbody>\n",
       "    <tr>\n",
       "      <th>1578</th>\n",
       "      <td>__export__.product_price_history_77812_27d7d769</td>\n",
       "      <td>Yogur desnatado vainilla Casa grande xanceda 2...</td>\n",
       "      <td>1.45</td>\n",
       "      <td>2022-06-21 10:47:34</td>\n",
       "      <td>Eco</td>\n",
       "      <td>1559.0</td>\n",
       "      <td>(CASA GRANDE XANCEDA) CASA GRANDE DE XANCEDA S.L.</td>\n",
       "      <td>Resto Producto Fresco / Leche, zumos, producto...</td>\n",
       "    </tr>\n",
       "    <tr>\n",
       "      <th>1627</th>\n",
       "      <td>__export__.product_price_history_77785_e20a0bfa</td>\n",
       "      <td>Yogur desnatado vainilla Casa grande xanceda 2...</td>\n",
       "      <td>1.45</td>\n",
       "      <td>2022-06-21 09:18:18</td>\n",
       "      <td>Eco</td>\n",
       "      <td>1559.0</td>\n",
       "      <td>(CASA GRANDE XANCEDA) CASA GRANDE DE XANCEDA S.L.</td>\n",
       "      <td>Resto Producto Fresco / Leche, zumos, producto...</td>\n",
       "    </tr>\n",
       "    <tr>\n",
       "      <th>4142</th>\n",
       "      <td>__export__.product_price_history_76286_874cf258</td>\n",
       "      <td>Yogur desnatado vainilla Casa grande xanceda 2...</td>\n",
       "      <td>1.45</td>\n",
       "      <td>2022-06-07 19:21:58</td>\n",
       "      <td>Eco</td>\n",
       "      <td>1559.0</td>\n",
       "      <td>(CASA GRANDE XANCEDA) CASA GRANDE DE XANCEDA S.L.</td>\n",
       "      <td>Resto Producto Fresco / Leche, zumos, producto...</td>\n",
       "    </tr>\n",
       "    <tr>\n",
       "      <th>6484</th>\n",
       "      <td>__export__.product_price_history_74757_1a0cf488</td>\n",
       "      <td>Yogur desnatado vainilla Casa grande xanceda 2...</td>\n",
       "      <td>1.45</td>\n",
       "      <td>2022-05-24 18:10:53</td>\n",
       "      <td>Eco</td>\n",
       "      <td>1559.0</td>\n",
       "      <td>(CASA GRANDE XANCEDA) CASA GRANDE DE XANCEDA S.L.</td>\n",
       "      <td>Resto Producto Fresco / Leche, zumos, producto...</td>\n",
       "    </tr>\n",
       "    <tr>\n",
       "      <th>8751</th>\n",
       "      <td>__export__.product_price_history_73353_6e898abd</td>\n",
       "      <td>Yogur desnatado vainilla Casa grande xanceda 2...</td>\n",
       "      <td>1.45</td>\n",
       "      <td>2022-05-10 12:14:32</td>\n",
       "      <td>Eco</td>\n",
       "      <td>1559.0</td>\n",
       "      <td>(CASA GRANDE XANCEDA) CASA GRANDE DE XANCEDA S.L.</td>\n",
       "      <td>Resto Producto Fresco / Leche, zumos, producto...</td>\n",
       "    </tr>\n",
       "    <tr>\n",
       "      <th>...</th>\n",
       "      <td>...</td>\n",
       "      <td>...</td>\n",
       "      <td>...</td>\n",
       "      <td>...</td>\n",
       "      <td>...</td>\n",
       "      <td>...</td>\n",
       "      <td>...</td>\n",
       "      <td>...</td>\n",
       "    </tr>\n",
       "    <tr>\n",
       "      <th>45168</th>\n",
       "      <td>__export__.product_price_history_27220_a88bb48a</td>\n",
       "      <td>Yogur desnatado vainilla Casa grande xanceda 2...</td>\n",
       "      <td>1.45</td>\n",
       "      <td>2021-03-24 09:31:04</td>\n",
       "      <td>Eco</td>\n",
       "      <td>1559.0</td>\n",
       "      <td>(CASA GRANDE XANCEDA) CASA GRANDE DE XANCEDA S.L.</td>\n",
       "      <td>Resto Producto Fresco / Leche, zumos, producto...</td>\n",
       "    </tr>\n",
       "    <tr>\n",
       "      <th>47545</th>\n",
       "      <td>__export__.product_price_history_25658_0963d74f</td>\n",
       "      <td>Yogur desnatado vainilla Casa grande xanceda 2...</td>\n",
       "      <td>1.45</td>\n",
       "      <td>2021-03-10 09:57:37</td>\n",
       "      <td>Eco</td>\n",
       "      <td>1559.0</td>\n",
       "      <td>(CASA GRANDE XANCEDA) CASA GRANDE DE XANCEDA S.L.</td>\n",
       "      <td>Resto Producto Fresco / Leche, zumos, producto...</td>\n",
       "    </tr>\n",
       "    <tr>\n",
       "      <th>48590</th>\n",
       "      <td>__export__.product_price_history_24956_2f82915f</td>\n",
       "      <td>Yogur desnatado vainilla Casa grande xanceda 2...</td>\n",
       "      <td>1.45</td>\n",
       "      <td>2021-03-02 12:11:16</td>\n",
       "      <td>Eco</td>\n",
       "      <td>1559.0</td>\n",
       "      <td>(CASA GRANDE XANCEDA) CASA GRANDE DE XANCEDA S.L.</td>\n",
       "      <td>Resto Producto Fresco / Leche, zumos, producto...</td>\n",
       "    </tr>\n",
       "    <tr>\n",
       "      <th>50411</th>\n",
       "      <td>__export__.product_price_history_23664_d513e609</td>\n",
       "      <td>Yogur desnatado vainilla Casa grande xanceda 2...</td>\n",
       "      <td>1.45</td>\n",
       "      <td>2021-02-17 10:48:40</td>\n",
       "      <td>Eco</td>\n",
       "      <td>1559.0</td>\n",
       "      <td>(CASA GRANDE XANCEDA) CASA GRANDE DE XANCEDA S.L.</td>\n",
       "      <td>Resto Producto Fresco / Leche, zumos, producto...</td>\n",
       "    </tr>\n",
       "    <tr>\n",
       "      <th>52632</th>\n",
       "      <td>__export__.product_price_history_20750_5ef29dee</td>\n",
       "      <td>Yogur desnatado vainilla Casa grande xanceda 2...</td>\n",
       "      <td>1.45</td>\n",
       "      <td>2021-02-04 14:38:32</td>\n",
       "      <td>Eco</td>\n",
       "      <td>1559.0</td>\n",
       "      <td>(CASA GRANDE XANCEDA) CASA GRANDE DE XANCEDA S.L.</td>\n",
       "      <td>Resto Producto Fresco / Leche, zumos, producto...</td>\n",
       "    </tr>\n",
       "  </tbody>\n",
       "</table>\n",
       "<p>81 rows × 8 columns</p>\n",
       "</div>"
      ],
      "text/plain": [
       "                                           External_ID  \\\n",
       "1578   __export__.product_price_history_77812_27d7d769   \n",
       "1627   __export__.product_price_history_77785_e20a0bfa   \n",
       "4142   __export__.product_price_history_76286_874cf258   \n",
       "6484   __export__.product_price_history_74757_1a0cf488   \n",
       "8751   __export__.product_price_history_73353_6e898abd   \n",
       "...                                                ...   \n",
       "45168  __export__.product_price_history_27220_a88bb48a   \n",
       "47545  __export__.product_price_history_25658_0963d74f   \n",
       "48590  __export__.product_price_history_24956_2f82915f   \n",
       "50411  __export__.product_price_history_23664_d513e609   \n",
       "52632  __export__.product_price_history_20750_5ef29dee   \n",
       "\n",
       "                                         Producto_nombre  Coste  \\\n",
       "1578   Yogur desnatado vainilla Casa grande xanceda 2...   1.45   \n",
       "1627   Yogur desnatado vainilla Casa grande xanceda 2...   1.45   \n",
       "4142   Yogur desnatado vainilla Casa grande xanceda 2...   1.45   \n",
       "6484   Yogur desnatado vainilla Casa grande xanceda 2...   1.45   \n",
       "8751   Yogur desnatado vainilla Casa grande xanceda 2...   1.45   \n",
       "...                                                  ...    ...   \n",
       "45168  Yogur desnatado vainilla Casa grande xanceda 2...   1.45   \n",
       "47545  Yogur desnatado vainilla Casa grande xanceda 2...   1.45   \n",
       "48590  Yogur desnatado vainilla Casa grande xanceda 2...   1.45   \n",
       "50411  Yogur desnatado vainilla Casa grande xanceda 2...   1.45   \n",
       "52632  Yogur desnatado vainilla Casa grande xanceda 2...   1.45   \n",
       "\n",
       "                    Fecha Producto_nombre_publico  Producto_Refint  \\\n",
       "1578  2022-06-21 10:47:34                     Eco           1559.0   \n",
       "1627  2022-06-21 09:18:18                     Eco           1559.0   \n",
       "4142  2022-06-07 19:21:58                     Eco           1559.0   \n",
       "6484  2022-05-24 18:10:53                     Eco           1559.0   \n",
       "8751  2022-05-10 12:14:32                     Eco           1559.0   \n",
       "...                   ...                     ...              ...   \n",
       "45168 2021-03-24 09:31:04                     Eco           1559.0   \n",
       "47545 2021-03-10 09:57:37                     Eco           1559.0   \n",
       "48590 2021-03-02 12:11:16                     Eco           1559.0   \n",
       "50411 2021-02-17 10:48:40                     Eco           1559.0   \n",
       "52632 2021-02-04 14:38:32                     Eco           1559.0   \n",
       "\n",
       "                            Producto_Proveedores_publico  \\\n",
       "1578   (CASA GRANDE XANCEDA) CASA GRANDE DE XANCEDA S.L.   \n",
       "1627   (CASA GRANDE XANCEDA) CASA GRANDE DE XANCEDA S.L.   \n",
       "4142   (CASA GRANDE XANCEDA) CASA GRANDE DE XANCEDA S.L.   \n",
       "6484   (CASA GRANDE XANCEDA) CASA GRANDE DE XANCEDA S.L.   \n",
       "8751   (CASA GRANDE XANCEDA) CASA GRANDE DE XANCEDA S.L.   \n",
       "...                                                  ...   \n",
       "45168  (CASA GRANDE XANCEDA) CASA GRANDE DE XANCEDA S.L.   \n",
       "47545  (CASA GRANDE XANCEDA) CASA GRANDE DE XANCEDA S.L.   \n",
       "48590  (CASA GRANDE XANCEDA) CASA GRANDE DE XANCEDA S.L.   \n",
       "50411  (CASA GRANDE XANCEDA) CASA GRANDE DE XANCEDA S.L.   \n",
       "52632  (CASA GRANDE XANCEDA) CASA GRANDE DE XANCEDA S.L.   \n",
       "\n",
       "                              Producto_Categoría_publico  \n",
       "1578   Resto Producto Fresco / Leche, zumos, producto...  \n",
       "1627   Resto Producto Fresco / Leche, zumos, producto...  \n",
       "4142   Resto Producto Fresco / Leche, zumos, producto...  \n",
       "6484   Resto Producto Fresco / Leche, zumos, producto...  \n",
       "8751   Resto Producto Fresco / Leche, zumos, producto...  \n",
       "...                                                  ...  \n",
       "45168  Resto Producto Fresco / Leche, zumos, producto...  \n",
       "47545  Resto Producto Fresco / Leche, zumos, producto...  \n",
       "48590  Resto Producto Fresco / Leche, zumos, producto...  \n",
       "50411  Resto Producto Fresco / Leche, zumos, producto...  \n",
       "52632  Resto Producto Fresco / Leche, zumos, producto...  \n",
       "\n",
       "[81 rows x 8 columns]"
      ]
     },
     "execution_count": 61,
     "metadata": {},
     "output_type": "execute_result"
    }
   ],
   "source": [
    "precios_compra_2022[precios_compra_2022['Producto_nombre']=='Yogur desnatado vainilla Casa grande xanceda 2 x 125 g']"
   ]
  },
  {
   "cell_type": "code",
   "execution_count": null,
   "metadata": {},
   "outputs": [],
   "source": []
  }
 ],
 "metadata": {
  "kernelspec": {
   "display_name": "Python 3 (ipykernel)",
   "language": "python",
   "name": "python3"
  },
  "language_info": {
   "codemirror_mode": {
    "name": "ipython",
    "version": 3
   },
   "file_extension": ".py",
   "mimetype": "text/x-python",
   "name": "python",
   "nbconvert_exporter": "python",
   "pygments_lexer": "ipython3",
   "version": "3.10.9"
  }
 },
 "nbformat": 4,
 "nbformat_minor": 4
}
