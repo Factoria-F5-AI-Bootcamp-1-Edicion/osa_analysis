{
 "cells": [
  {
   "cell_type": "markdown",
   "metadata": {},
   "source": [
    "# Ingeniería de datos de los precios de compras del Supermercado La Osa - Madrid\n",
    "* Se le dará formato adecuado a los datasets entregados por La Osa."
   ]
  },
  {
   "cell_type": "code",
   "execution_count": 8,
   "metadata": {
    "collapsed": false,
    "jupyter": {
     "outputs_hidden": false
    },
    "tags": []
   },
   "outputs": [],
   "source": [
    "import pandas as pd\n",
    "import seaborn as sn\n",
    "import numpy as np\n",
    "import matplotlib as ploty"
   ]
  },
  {
   "cell_type": "markdown",
   "metadata": {
    "tags": []
   },
   "source": [
    "### Importamos los datasets"
   ]
  },
  {
   "cell_type": "code",
   "execution_count": 51,
   "metadata": {
    "collapsed": false,
    "jupyter": {
     "outputs_hidden": false
    },
    "tags": []
   },
   "outputs": [],
   "source": [
    "#Datasets de compra de productos a proveedores 2021-2022\n",
    "coste_enejun= pd.read_excel(\"Evolución_precio_enerojunio22.xls\")\n",
    "coste_juldic= pd.read_excel(\"Evolución_precio_juliodiciembre22.xls\")\n",
    "coste_2021= pd.read_excel(\"Price_history_2021.xls\")\n",
    "coste_2022= pd.read_excel(\"Price_history_122022.xls\")"
   ]
  },
  {
   "cell_type": "markdown",
   "metadata": {},
   "source": [
    "### Exploramos los datasets de precio\n",
    "* `Price_history_122022.xls` -->Hay información de Diciembre del 2022, la cual aparentemente ya está en el archivo `Evolución_precio_juliodiciembre22.xls`\n",
    "* Tenemos que corroborar si esta es informacion adicional del mes de Diciembre del 2022 o es información duplicada (Preguntar al Stakeholder)\n",
    "* El supermercado comenzó en el año 2020 --> Preguntar si hay información de Dicembre 2020\n",
    "* ¿Puede haber erro en los nombres de los archivos?"
   ]
  },
  {
   "cell_type": "markdown",
   "metadata": {},
   "source": [
    "### Precios de Compra de Productos a Proveedores\n",
    "* Se revisan los archivos:\n",
    "\n",
    "`Evolución_precio_enerojunio22.xls` \n",
    "\n",
    "`Evolución_precio_juliodiciembre22.xls`\n",
    "\n",
    "`Price_history_2021.xls`\n",
    "\n",
    "`Price_history_122022.xls`\n",
    "\n",
    "\n"
   ]
  },
  {
   "cell_type": "code",
   "execution_count": 52,
   "metadata": {
    "collapsed": false,
    "jupyter": {
     "outputs_hidden": false
    },
    "tags": []
   },
   "outputs": [
    {
     "name": "stdout",
     "output_type": "stream",
     "text": [
      "<class 'pandas.core.frame.DataFrame'>\n",
      "RangeIndex: 33361 entries, 0 to 33360\n",
      "Data columns (total 8 columns):\n",
      " #   Column                                                  Non-Null Count  Dtype         \n",
      "---  ------                                                  --------------  -----         \n",
      " 0   External ID                                             21005 non-null  object        \n",
      " 1   Producto/Nombre                                         21005 non-null  object        \n",
      " 2   Coste                                                   21005 non-null  float64       \n",
      " 3   Fecha                                                   21005 non-null  datetime64[ns]\n",
      " 4   Producto/Cuenta analítica para gastos/Nombre a mostrar  21005 non-null  object        \n",
      " 5   Producto/Referencia interna                             21005 non-null  float64       \n",
      " 6   Producto/Proveedores/Nombre a mostrar                   33361 non-null  object        \n",
      " 7   Producto/Categoría de producto/Nombre a mostrar         21005 non-null  object        \n",
      "dtypes: datetime64[ns](1), float64(2), object(5)\n",
      "memory usage: 2.0+ MB\n"
     ]
    }
   ],
   "source": [
    "coste_enejun.info()"
   ]
  },
  {
   "cell_type": "code",
   "execution_count": 53,
   "metadata": {
    "tags": []
   },
   "outputs": [
    {
     "data": {
      "text/plain": [
       "External ID                                               12356\n",
       "Producto/Nombre                                           12356\n",
       "Coste                                                     12356\n",
       "Fecha                                                     12356\n",
       "Producto/Cuenta analítica para gastos/Nombre a mostrar    12356\n",
       "Producto/Referencia interna                               12356\n",
       "Producto/Proveedores/Nombre a mostrar                         0\n",
       "Producto/Categoría de producto/Nombre a mostrar           12356\n",
       "dtype: int64"
      ]
     },
     "execution_count": 53,
     "metadata": {},
     "output_type": "execute_result"
    }
   ],
   "source": [
    "coste_enejun.isnull().sum()"
   ]
  },
  {
   "cell_type": "code",
   "execution_count": 54,
   "metadata": {
    "tags": []
   },
   "outputs": [
    {
     "data": {
      "text/plain": [
       "External ID                                               8566\n",
       "Producto/Nombre                                           8566\n",
       "Coste                                                     8566\n",
       "Fecha                                                     8566\n",
       "Producto/Cuenta analítica para gastos/Nombre a mostrar    8566\n",
       "Producto/Referencia interna                               8566\n",
       "Producto/Proveedores/Nombre a mostrar                        0\n",
       "Producto/Categoría de producto/Nombre a mostrar           8566\n",
       "dtype: int64"
      ]
     },
     "execution_count": 54,
     "metadata": {},
     "output_type": "execute_result"
    }
   ],
   "source": [
    "coste_juldic.isnull().sum()"
   ]
  },
  {
   "cell_type": "code",
   "execution_count": 55,
   "metadata": {
    "tags": []
   },
   "outputs": [
    {
     "data": {
      "text/plain": [
       "External ID                                               20535\n",
       "Producto/Nombre                                           20535\n",
       "Coste                                                     20535\n",
       "Fecha                                                     20535\n",
       "Producto/Cuenta analítica para gastos/Nombre a mostrar    20535\n",
       "Producto/Referencia interna                               20535\n",
       "Producto/Proveedores/Nombre a mostrar                         0\n",
       "Producto/Categoría de producto/Nombre a mostrar           20535\n",
       "dtype: int64"
      ]
     },
     "execution_count": 55,
     "metadata": {},
     "output_type": "execute_result"
    }
   ],
   "source": [
    "coste_2021.isnull().sum()"
   ]
  },
  {
   "cell_type": "code",
   "execution_count": 56,
   "metadata": {
    "tags": []
   },
   "outputs": [
    {
     "data": {
      "text/plain": [
       "External ID                                               1445\n",
       "Producto/Nombre                                           1445\n",
       "Coste                                                     1445\n",
       "Fecha                                                     1445\n",
       "Producto/Cuenta analítica para gastos/Nombre a mostrar    1445\n",
       "Producto/Referencia interna                               1445\n",
       "Producto/Proveedores/Nombre a mostrar                        0\n",
       "Producto/Categoría de producto/Nombre a mostrar           1445\n",
       "dtype: int64"
      ]
     },
     "execution_count": 56,
     "metadata": {},
     "output_type": "execute_result"
    }
   ],
   "source": [
    "coste_2022.isnull().sum()"
   ]
  },
  {
   "cell_type": "code",
   "execution_count": 57,
   "metadata": {
    "tags": []
   },
   "outputs": [
    {
     "data": {
      "text/plain": [
       "External ID                                               0\n",
       "Producto/Nombre                                           0\n",
       "Coste                                                     0\n",
       "Fecha                                                     0\n",
       "Producto/Cuenta analítica para gastos/Nombre a mostrar    0\n",
       "Producto/Referencia interna                               0\n",
       "Producto/Proveedores/Nombre a mostrar                     0\n",
       "Producto/Categoría de producto/Nombre a mostrar           0\n",
       "dtype: int64"
      ]
     },
     "execution_count": 57,
     "metadata": {},
     "output_type": "execute_result"
    }
   ],
   "source": [
    "coste_enejun=coste_enejun.dropna()\n",
    "coste_enejun.isnull().sum()"
   ]
  },
  {
   "cell_type": "code",
   "execution_count": 58,
   "metadata": {
    "collapsed": false,
    "jupyter": {
     "outputs_hidden": false
    },
    "tags": []
   },
   "outputs": [
    {
     "data": {
      "text/plain": [
       "External ID                                               0\n",
       "Producto/Nombre                                           0\n",
       "Coste                                                     0\n",
       "Fecha                                                     0\n",
       "Producto/Cuenta analítica para gastos/Nombre a mostrar    0\n",
       "Producto/Referencia interna                               0\n",
       "Producto/Proveedores/Nombre a mostrar                     0\n",
       "Producto/Categoría de producto/Nombre a mostrar           0\n",
       "dtype: int64"
      ]
     },
     "execution_count": 58,
     "metadata": {},
     "output_type": "execute_result"
    }
   ],
   "source": [
    "coste_juldic= coste_juldic.dropna()\n",
    "coste_juldic.isnull().sum()"
   ]
  },
  {
   "cell_type": "code",
   "execution_count": 59,
   "metadata": {},
   "outputs": [
    {
     "data": {
      "text/plain": [
       "External ID                                               0\n",
       "Producto/Nombre                                           0\n",
       "Coste                                                     0\n",
       "Fecha                                                     0\n",
       "Producto/Cuenta analítica para gastos/Nombre a mostrar    0\n",
       "Producto/Referencia interna                               0\n",
       "Producto/Proveedores/Nombre a mostrar                     0\n",
       "Producto/Categoría de producto/Nombre a mostrar           0\n",
       "dtype: int64"
      ]
     },
     "execution_count": 59,
     "metadata": {},
     "output_type": "execute_result"
    }
   ],
   "source": [
    "coste_2021=coste_2021.dropna()\n",
    "coste_2021.isnull().sum()"
   ]
  },
  {
   "cell_type": "code",
   "execution_count": 60,
   "metadata": {},
   "outputs": [
    {
     "data": {
      "text/plain": [
       "External ID                                               0\n",
       "Producto/Nombre                                           0\n",
       "Coste                                                     0\n",
       "Fecha                                                     0\n",
       "Producto/Cuenta analítica para gastos/Nombre a mostrar    0\n",
       "Producto/Referencia interna                               0\n",
       "Producto/Proveedores/Nombre a mostrar                     0\n",
       "Producto/Categoría de producto/Nombre a mostrar           0\n",
       "dtype: int64"
      ]
     },
     "execution_count": 60,
     "metadata": {},
     "output_type": "execute_result"
    }
   ],
   "source": [
    "coste_2022=coste_2022.dropna()\n",
    "coste_2022.isnull().sum()"
   ]
  },
  {
   "cell_type": "markdown",
   "metadata": {},
   "source": [
    "> #### Los 4 archivos de precios de compra tienen las mismas 8 columnas.\n",
    "> #### Se concatenarán los 4 archivos en un solo dataframe `precios_compra_2022` para su manipulación.\n",
    "\n",
    "> #### Las columnas o variables:\n",
    "\n",
    "* External ID\n",
    "* Producto/Nombre\n",
    "* Coste\n",
    "* Fecha\n",
    "* Producto/Cuenta analítica para gastos/Nombre a mostrar\n",
    "* Producto/Referencia interna\n",
    "* Producto/Proveedores/Nombre a mostrar\n",
    "* Producto/Categoría de producto/Nombre a mostrar\n"
   ]
  },
  {
   "cell_type": "code",
   "execution_count": 61,
   "metadata": {
    "tags": []
   },
   "outputs": [
    {
     "name": "stdout",
     "output_type": "stream",
     "text": [
      "<class 'pandas.core.frame.DataFrame'>\n",
      "Int64Index: 111268 entries, 0 to 57557\n",
      "Data columns (total 8 columns):\n",
      " #   Column                                                  Non-Null Count   Dtype         \n",
      "---  ------                                                  --------------   -----         \n",
      " 0   External ID                                             111268 non-null  object        \n",
      " 1   Producto/Nombre                                         111268 non-null  object        \n",
      " 2   Coste                                                   111268 non-null  float64       \n",
      " 3   Fecha                                                   111268 non-null  datetime64[ns]\n",
      " 4   Producto/Cuenta analítica para gastos/Nombre a mostrar  111268 non-null  object        \n",
      " 5   Producto/Referencia interna                             111268 non-null  float64       \n",
      " 6   Producto/Proveedores/Nombre a mostrar                   111268 non-null  object        \n",
      " 7   Producto/Categoría de producto/Nombre a mostrar         111268 non-null  object        \n",
      "dtypes: datetime64[ns](1), float64(2), object(5)\n",
      "memory usage: 7.6+ MB\n"
     ]
    }
   ],
   "source": [
    "coste_compra_2021_2022 = pd.concat([coste_enejun, coste_juldic,coste_2021,coste_2021])\n",
    "coste_compra_2021_2022.info()\n"
   ]
  },
  {
   "cell_type": "code",
   "execution_count": 63,
   "metadata": {
    "tags": []
   },
   "outputs": [
    {
     "data": {
      "text/plain": [
       "Index(['External ID', 'Producto/Nombre', 'Coste', 'Fecha',\n",
       "       'Producto/Cuenta analítica para gastos/Nombre a mostrar',\n",
       "       'Producto/Referencia interna', 'Producto/Proveedores/Nombre a mostrar',\n",
       "       'Producto/Categoría de producto/Nombre a mostrar'],\n",
       "      dtype='object')"
      ]
     },
     "execution_count": 63,
     "metadata": {},
     "output_type": "execute_result"
    }
   ],
   "source": [
    "coste_compra_2021_2022.columns"
   ]
  },
  {
   "cell_type": "markdown",
   "metadata": {},
   "source": [
    "### Renombramos las columnas para que sea más fácil su manipulación"
   ]
  },
  {
   "cell_type": "code",
   "execution_count": 65,
   "metadata": {
    "tags": []
   },
   "outputs": [
    {
     "name": "stdout",
     "output_type": "stream",
     "text": [
      "<class 'pandas.core.frame.DataFrame'>\n",
      "Int64Index: 111268 entries, 0 to 57557\n",
      "Data columns (total 8 columns):\n",
      " #   Column                        Non-Null Count   Dtype         \n",
      "---  ------                        --------------   -----         \n",
      " 0   External_ID                   111268 non-null  object        \n",
      " 1   Producto_nombre               111268 non-null  object        \n",
      " 2   Coste                         111268 non-null  float64       \n",
      " 3   Fecha                         111268 non-null  datetime64[ns]\n",
      " 4   Producto_nombre_publico       111268 non-null  object        \n",
      " 5   Producto_Referencia_interna   111268 non-null  float64       \n",
      " 6   Producto_Proveedores_publico  111268 non-null  object        \n",
      " 7   Producto_Categoría_publico    111268 non-null  object        \n",
      "dtypes: datetime64[ns](1), float64(2), object(5)\n",
      "memory usage: 7.6+ MB\n"
     ]
    }
   ],
   "source": [
    "coste_compra_2021_2022.rename(columns={'External ID':'External_ID',\n",
    "                              'Producto/Nombre':'Producto_nombre', \n",
    "                              'Coste':'Coste',\n",
    "                             'Fecha':'Fecha', \n",
    "                              'Producto/Cuenta analítica para gastos/Nombre a mostrar':'Producto_nombre_publico',\n",
    "                             'Producto/Referencia interna':'Producto_Referencia_interna', \n",
    "                              'Producto/Proveedores/Nombre a mostrar':'Producto_Proveedores_publico',\n",
    "                              'Producto/Categoría de producto/Nombre a mostrar':'Producto_Categoría_publico'\n",
    "                             }, inplace=True)\n",
    "coste_compra_2021_2022.info()"
   ]
  },
  {
   "cell_type": "code",
   "execution_count": 67,
   "metadata": {
    "tags": []
   },
   "outputs": [
    {
     "data": {
      "text/html": [
       "<div>\n",
       "<style scoped>\n",
       "    .dataframe tbody tr th:only-of-type {\n",
       "        vertical-align: middle;\n",
       "    }\n",
       "\n",
       "    .dataframe tbody tr th {\n",
       "        vertical-align: top;\n",
       "    }\n",
       "\n",
       "    .dataframe thead th {\n",
       "        text-align: right;\n",
       "    }\n",
       "</style>\n",
       "<table border=\"1\" class=\"dataframe\">\n",
       "  <thead>\n",
       "    <tr style=\"text-align: right;\">\n",
       "      <th></th>\n",
       "      <th>Coste</th>\n",
       "      <th>Producto_Referencia_interna</th>\n",
       "    </tr>\n",
       "  </thead>\n",
       "  <tbody>\n",
       "    <tr>\n",
       "      <th>count</th>\n",
       "      <td>111268.000000</td>\n",
       "      <td>111268.000000</td>\n",
       "    </tr>\n",
       "    <tr>\n",
       "      <th>mean</th>\n",
       "      <td>2.963484</td>\n",
       "      <td>2678.294640</td>\n",
       "    </tr>\n",
       "    <tr>\n",
       "      <th>std</th>\n",
       "      <td>3.425243</td>\n",
       "      <td>1691.079528</td>\n",
       "    </tr>\n",
       "    <tr>\n",
       "      <th>min</th>\n",
       "      <td>0.000000</td>\n",
       "      <td>5.000000</td>\n",
       "    </tr>\n",
       "    <tr>\n",
       "      <th>25%</th>\n",
       "      <td>1.350000</td>\n",
       "      <td>1113.000000</td>\n",
       "    </tr>\n",
       "    <tr>\n",
       "      <th>50%</th>\n",
       "      <td>2.010000</td>\n",
       "      <td>2668.000000</td>\n",
       "    </tr>\n",
       "    <tr>\n",
       "      <th>75%</th>\n",
       "      <td>3.100000</td>\n",
       "      <td>4087.000000</td>\n",
       "    </tr>\n",
       "    <tr>\n",
       "      <th>max</th>\n",
       "      <td>156.000000</td>\n",
       "      <td>6499.000000</td>\n",
       "    </tr>\n",
       "  </tbody>\n",
       "</table>\n",
       "</div>"
      ],
      "text/plain": [
       "               Coste  Producto_Referencia_interna\n",
       "count  111268.000000                111268.000000\n",
       "mean        2.963484                  2678.294640\n",
       "std         3.425243                  1691.079528\n",
       "min         0.000000                     5.000000\n",
       "25%         1.350000                  1113.000000\n",
       "50%         2.010000                  2668.000000\n",
       "75%         3.100000                  4087.000000\n",
       "max       156.000000                  6499.000000"
      ]
     },
     "execution_count": 67,
     "metadata": {},
     "output_type": "execute_result"
    }
   ],
   "source": [
    "coste_compra_2021_2022.describe()"
   ]
  },
  {
   "cell_type": "code",
   "execution_count": 68,
   "metadata": {
    "tags": []
   },
   "outputs": [
    {
     "data": {
      "text/plain": [
       "External_ID                             object\n",
       "Producto_nombre                         object\n",
       "Coste                                  float64\n",
       "Fecha                           datetime64[ns]\n",
       "Producto_nombre_publico                 object\n",
       "Producto_Referencia_interna            float64\n",
       "Producto_Proveedores_publico            object\n",
       "Producto_Categoría_publico              object\n",
       "dtype: object"
      ]
     },
     "execution_count": 68,
     "metadata": {},
     "output_type": "execute_result"
    }
   ],
   "source": [
    "coste_compra_2021_2022.dtypes"
   ]
  },
  {
   "cell_type": "code",
   "execution_count": 69,
   "metadata": {
    "tags": []
   },
   "outputs": [
    {
     "data": {
      "text/html": [
       "<div>\n",
       "<style scoped>\n",
       "    .dataframe tbody tr th:only-of-type {\n",
       "        vertical-align: middle;\n",
       "    }\n",
       "\n",
       "    .dataframe tbody tr th {\n",
       "        vertical-align: top;\n",
       "    }\n",
       "\n",
       "    .dataframe thead th {\n",
       "        text-align: right;\n",
       "    }\n",
       "</style>\n",
       "<table border=\"1\" class=\"dataframe\">\n",
       "  <thead>\n",
       "    <tr style=\"text-align: right;\">\n",
       "      <th></th>\n",
       "      <th>External_ID</th>\n",
       "      <th>Producto_nombre</th>\n",
       "      <th>Coste</th>\n",
       "      <th>Fecha</th>\n",
       "      <th>Producto_nombre_publico</th>\n",
       "      <th>Producto_Referencia_interna</th>\n",
       "      <th>Producto_Proveedores_publico</th>\n",
       "      <th>Producto_Categoría_publico</th>\n",
       "    </tr>\n",
       "  </thead>\n",
       "  <tbody>\n",
       "    <tr>\n",
       "      <th>0</th>\n",
       "      <td>__export__.product_price_history_78926_abded360</td>\n",
       "      <td>Envase Veer 33cl</td>\n",
       "      <td>0.15</td>\n",
       "      <td>2022-06-29 21:10:50</td>\n",
       "      <td>Eco</td>\n",
       "      <td>1637.0</td>\n",
       "      <td>(VEER) MISSON S.COOP.CYL.</td>\n",
       "      <td>Seco Envasado / Vinos, cervezas, sidras / Cerv...</td>\n",
       "    </tr>\n",
       "    <tr>\n",
       "      <th>1</th>\n",
       "      <td>__export__.product_price_history_78925_30713b35</td>\n",
       "      <td>Envase Veer 33cl</td>\n",
       "      <td>0.15</td>\n",
       "      <td>2022-06-29 20:25:26</td>\n",
       "      <td>Eco</td>\n",
       "      <td>1637.0</td>\n",
       "      <td>(VEER) MISSON S.COOP.CYL.</td>\n",
       "      <td>Seco Envasado / Vinos, cervezas, sidras / Cerv...</td>\n",
       "    </tr>\n",
       "    <tr>\n",
       "      <th>2</th>\n",
       "      <td>__export__.product_price_history_78916_73aa1b21</td>\n",
       "      <td>Fuet extra Biobardales 200 gr</td>\n",
       "      <td>2.95</td>\n",
       "      <td>2022-06-29 19:22:59</td>\n",
       "      <td>Eco</td>\n",
       "      <td>597.0</td>\n",
       "      <td>(BIOBARDALES) COMERCIAL BELDREA S.L.</td>\n",
       "      <td>Resto Producto Fresco / Charcutería animal / E...</td>\n",
       "    </tr>\n",
       "    <tr>\n",
       "      <th>3</th>\n",
       "      <td>__export__.product_price_history_78919_197ec6c0</td>\n",
       "      <td>Preparado para legumbres chorizo, morcilla, pa...</td>\n",
       "      <td>2.90</td>\n",
       "      <td>2022-06-29 19:22:59</td>\n",
       "      <td>Eco</td>\n",
       "      <td>1252.0</td>\n",
       "      <td>(BIOBARDALES) COMERCIAL BELDREA S.L.</td>\n",
       "      <td>Resto Producto Fresco / Charcutería animal / E...</td>\n",
       "    </tr>\n",
       "    <tr>\n",
       "      <th>4</th>\n",
       "      <td>__export__.product_price_history_78918_c43ac4cb</td>\n",
       "      <td>Lomo extra lonchas Biobardales 100 gr</td>\n",
       "      <td>3.45</td>\n",
       "      <td>2022-06-29 19:22:59</td>\n",
       "      <td>Eco</td>\n",
       "      <td>877.0</td>\n",
       "      <td>(BIOBARDALES) COMERCIAL BELDREA S.L.</td>\n",
       "      <td>Resto Producto Fresco / Charcutería animal / E...</td>\n",
       "    </tr>\n",
       "  </tbody>\n",
       "</table>\n",
       "</div>"
      ],
      "text/plain": [
       "                                       External_ID  \\\n",
       "0  __export__.product_price_history_78926_abded360   \n",
       "1  __export__.product_price_history_78925_30713b35   \n",
       "2  __export__.product_price_history_78916_73aa1b21   \n",
       "3  __export__.product_price_history_78919_197ec6c0   \n",
       "4  __export__.product_price_history_78918_c43ac4cb   \n",
       "\n",
       "                                     Producto_nombre  Coste  \\\n",
       "0                                   Envase Veer 33cl   0.15   \n",
       "1                                   Envase Veer 33cl   0.15   \n",
       "2                      Fuet extra Biobardales 200 gr   2.95   \n",
       "3  Preparado para legumbres chorizo, morcilla, pa...   2.90   \n",
       "4              Lomo extra lonchas Biobardales 100 gr   3.45   \n",
       "\n",
       "                Fecha Producto_nombre_publico  Producto_Referencia_interna  \\\n",
       "0 2022-06-29 21:10:50                     Eco                       1637.0   \n",
       "1 2022-06-29 20:25:26                     Eco                       1637.0   \n",
       "2 2022-06-29 19:22:59                     Eco                        597.0   \n",
       "3 2022-06-29 19:22:59                     Eco                       1252.0   \n",
       "4 2022-06-29 19:22:59                     Eco                        877.0   \n",
       "\n",
       "           Producto_Proveedores_publico  \\\n",
       "0             (VEER) MISSON S.COOP.CYL.   \n",
       "1             (VEER) MISSON S.COOP.CYL.   \n",
       "2  (BIOBARDALES) COMERCIAL BELDREA S.L.   \n",
       "3  (BIOBARDALES) COMERCIAL BELDREA S.L.   \n",
       "4  (BIOBARDALES) COMERCIAL BELDREA S.L.   \n",
       "\n",
       "                          Producto_Categoría_publico  \n",
       "0  Seco Envasado / Vinos, cervezas, sidras / Cerv...  \n",
       "1  Seco Envasado / Vinos, cervezas, sidras / Cerv...  \n",
       "2  Resto Producto Fresco / Charcutería animal / E...  \n",
       "3  Resto Producto Fresco / Charcutería animal / E...  \n",
       "4  Resto Producto Fresco / Charcutería animal / E...  "
      ]
     },
     "execution_count": 69,
     "metadata": {},
     "output_type": "execute_result"
    }
   ],
   "source": [
    "coste_compra_2021_2022.head(5)"
   ]
  },
  {
   "cell_type": "code",
   "execution_count": 71,
   "metadata": {
    "tags": []
   },
   "outputs": [],
   "source": [
    "coste_compra_2021_2022= coste_compra_2021_2022.drop(['External_ID'],axis=1)"
   ]
  },
  {
   "cell_type": "code",
   "execution_count": 72,
   "metadata": {
    "tags": []
   },
   "outputs": [
    {
     "data": {
      "text/html": [
       "<div>\n",
       "<style scoped>\n",
       "    .dataframe tbody tr th:only-of-type {\n",
       "        vertical-align: middle;\n",
       "    }\n",
       "\n",
       "    .dataframe tbody tr th {\n",
       "        vertical-align: top;\n",
       "    }\n",
       "\n",
       "    .dataframe thead th {\n",
       "        text-align: right;\n",
       "    }\n",
       "</style>\n",
       "<table border=\"1\" class=\"dataframe\">\n",
       "  <thead>\n",
       "    <tr style=\"text-align: right;\">\n",
       "      <th></th>\n",
       "      <th>Producto_nombre</th>\n",
       "      <th>Coste</th>\n",
       "      <th>Fecha</th>\n",
       "      <th>Producto_nombre_publico</th>\n",
       "      <th>Producto_Referencia_interna</th>\n",
       "      <th>Producto_Proveedores_publico</th>\n",
       "      <th>Producto_Categoría_publico</th>\n",
       "    </tr>\n",
       "  </thead>\n",
       "  <tbody>\n",
       "    <tr>\n",
       "      <th>0</th>\n",
       "      <td>Envase Veer 33cl</td>\n",
       "      <td>0.15</td>\n",
       "      <td>2022-06-29 21:10:50</td>\n",
       "      <td>Eco</td>\n",
       "      <td>1637.0</td>\n",
       "      <td>(VEER) MISSON S.COOP.CYL.</td>\n",
       "      <td>Seco Envasado / Vinos, cervezas, sidras / Cerv...</td>\n",
       "    </tr>\n",
       "    <tr>\n",
       "      <th>1</th>\n",
       "      <td>Envase Veer 33cl</td>\n",
       "      <td>0.15</td>\n",
       "      <td>2022-06-29 20:25:26</td>\n",
       "      <td>Eco</td>\n",
       "      <td>1637.0</td>\n",
       "      <td>(VEER) MISSON S.COOP.CYL.</td>\n",
       "      <td>Seco Envasado / Vinos, cervezas, sidras / Cerv...</td>\n",
       "    </tr>\n",
       "    <tr>\n",
       "      <th>2</th>\n",
       "      <td>Fuet extra Biobardales 200 gr</td>\n",
       "      <td>2.95</td>\n",
       "      <td>2022-06-29 19:22:59</td>\n",
       "      <td>Eco</td>\n",
       "      <td>597.0</td>\n",
       "      <td>(BIOBARDALES) COMERCIAL BELDREA S.L.</td>\n",
       "      <td>Resto Producto Fresco / Charcutería animal / E...</td>\n",
       "    </tr>\n",
       "  </tbody>\n",
       "</table>\n",
       "</div>"
      ],
      "text/plain": [
       "                 Producto_nombre  Coste               Fecha  \\\n",
       "0               Envase Veer 33cl   0.15 2022-06-29 21:10:50   \n",
       "1               Envase Veer 33cl   0.15 2022-06-29 20:25:26   \n",
       "2  Fuet extra Biobardales 200 gr   2.95 2022-06-29 19:22:59   \n",
       "\n",
       "  Producto_nombre_publico  Producto_Referencia_interna  \\\n",
       "0                     Eco                       1637.0   \n",
       "1                     Eco                       1637.0   \n",
       "2                     Eco                        597.0   \n",
       "\n",
       "           Producto_Proveedores_publico  \\\n",
       "0             (VEER) MISSON S.COOP.CYL.   \n",
       "1             (VEER) MISSON S.COOP.CYL.   \n",
       "2  (BIOBARDALES) COMERCIAL BELDREA S.L.   \n",
       "\n",
       "                          Producto_Categoría_publico  \n",
       "0  Seco Envasado / Vinos, cervezas, sidras / Cerv...  \n",
       "1  Seco Envasado / Vinos, cervezas, sidras / Cerv...  \n",
       "2  Resto Producto Fresco / Charcutería animal / E...  "
      ]
     },
     "execution_count": 72,
     "metadata": {},
     "output_type": "execute_result"
    }
   ],
   "source": [
    "coste_compra_2021_2022.head(3)"
   ]
  },
  {
   "cell_type": "code",
   "execution_count": 73,
   "metadata": {
    "tags": []
   },
   "outputs": [
    {
     "data": {
      "text/plain": [
       "Index(['Producto_nombre', 'Coste', 'Fecha', 'Producto_nombre_publico',\n",
       "       'Producto_Referencia_interna', 'Producto_Proveedores_publico',\n",
       "       'Producto_Categoría_publico'],\n",
       "      dtype='object')"
      ]
     },
     "execution_count": 73,
     "metadata": {},
     "output_type": "execute_result"
    }
   ],
   "source": [
    "coste_compra_2021_2022.columns"
   ]
  },
  {
   "cell_type": "code",
   "execution_count": 74,
   "metadata": {
    "tags": []
   },
   "outputs": [
    {
     "data": {
      "text/html": [
       "<div>\n",
       "<style scoped>\n",
       "    .dataframe tbody tr th:only-of-type {\n",
       "        vertical-align: middle;\n",
       "    }\n",
       "\n",
       "    .dataframe tbody tr th {\n",
       "        vertical-align: top;\n",
       "    }\n",
       "\n",
       "    .dataframe thead th {\n",
       "        text-align: right;\n",
       "    }\n",
       "</style>\n",
       "<table border=\"1\" class=\"dataframe\">\n",
       "  <thead>\n",
       "    <tr style=\"text-align: right;\">\n",
       "      <th></th>\n",
       "      <th>Nombre_producto</th>\n",
       "      <th>Coste_compra</th>\n",
       "      <th>Fecha_compra</th>\n",
       "      <th>Tipo_producto</th>\n",
       "      <th>ID_producto</th>\n",
       "      <th>Proveedor_producto</th>\n",
       "      <th>Categoria_producto</th>\n",
       "    </tr>\n",
       "  </thead>\n",
       "  <tbody>\n",
       "    <tr>\n",
       "      <th>0</th>\n",
       "      <td>Envase Veer 33cl</td>\n",
       "      <td>0.15</td>\n",
       "      <td>2022-06-29 21:10:50</td>\n",
       "      <td>Eco</td>\n",
       "      <td>1637.0</td>\n",
       "      <td>(VEER) MISSON S.COOP.CYL.</td>\n",
       "      <td>Seco Envasado / Vinos, cervezas, sidras / Cerv...</td>\n",
       "    </tr>\n",
       "    <tr>\n",
       "      <th>1</th>\n",
       "      <td>Envase Veer 33cl</td>\n",
       "      <td>0.15</td>\n",
       "      <td>2022-06-29 20:25:26</td>\n",
       "      <td>Eco</td>\n",
       "      <td>1637.0</td>\n",
       "      <td>(VEER) MISSON S.COOP.CYL.</td>\n",
       "      <td>Seco Envasado / Vinos, cervezas, sidras / Cerv...</td>\n",
       "    </tr>\n",
       "    <tr>\n",
       "      <th>2</th>\n",
       "      <td>Fuet extra Biobardales 200 gr</td>\n",
       "      <td>2.95</td>\n",
       "      <td>2022-06-29 19:22:59</td>\n",
       "      <td>Eco</td>\n",
       "      <td>597.0</td>\n",
       "      <td>(BIOBARDALES) COMERCIAL BELDREA S.L.</td>\n",
       "      <td>Resto Producto Fresco / Charcutería animal / E...</td>\n",
       "    </tr>\n",
       "    <tr>\n",
       "      <th>3</th>\n",
       "      <td>Preparado para legumbres chorizo, morcilla, pa...</td>\n",
       "      <td>2.90</td>\n",
       "      <td>2022-06-29 19:22:59</td>\n",
       "      <td>Eco</td>\n",
       "      <td>1252.0</td>\n",
       "      <td>(BIOBARDALES) COMERCIAL BELDREA S.L.</td>\n",
       "      <td>Resto Producto Fresco / Charcutería animal / E...</td>\n",
       "    </tr>\n",
       "    <tr>\n",
       "      <th>4</th>\n",
       "      <td>Lomo extra lonchas Biobardales 100 gr</td>\n",
       "      <td>3.45</td>\n",
       "      <td>2022-06-29 19:22:59</td>\n",
       "      <td>Eco</td>\n",
       "      <td>877.0</td>\n",
       "      <td>(BIOBARDALES) COMERCIAL BELDREA S.L.</td>\n",
       "      <td>Resto Producto Fresco / Charcutería animal / E...</td>\n",
       "    </tr>\n",
       "  </tbody>\n",
       "</table>\n",
       "</div>"
      ],
      "text/plain": [
       "                                     Nombre_producto  Coste_compra  \\\n",
       "0                                   Envase Veer 33cl          0.15   \n",
       "1                                   Envase Veer 33cl          0.15   \n",
       "2                      Fuet extra Biobardales 200 gr          2.95   \n",
       "3  Preparado para legumbres chorizo, morcilla, pa...          2.90   \n",
       "4              Lomo extra lonchas Biobardales 100 gr          3.45   \n",
       "\n",
       "         Fecha_compra Tipo_producto  ID_producto  \\\n",
       "0 2022-06-29 21:10:50           Eco       1637.0   \n",
       "1 2022-06-29 20:25:26           Eco       1637.0   \n",
       "2 2022-06-29 19:22:59           Eco        597.0   \n",
       "3 2022-06-29 19:22:59           Eco       1252.0   \n",
       "4 2022-06-29 19:22:59           Eco        877.0   \n",
       "\n",
       "                     Proveedor_producto  \\\n",
       "0             (VEER) MISSON S.COOP.CYL.   \n",
       "1             (VEER) MISSON S.COOP.CYL.   \n",
       "2  (BIOBARDALES) COMERCIAL BELDREA S.L.   \n",
       "3  (BIOBARDALES) COMERCIAL BELDREA S.L.   \n",
       "4  (BIOBARDALES) COMERCIAL BELDREA S.L.   \n",
       "\n",
       "                                  Categoria_producto  \n",
       "0  Seco Envasado / Vinos, cervezas, sidras / Cerv...  \n",
       "1  Seco Envasado / Vinos, cervezas, sidras / Cerv...  \n",
       "2  Resto Producto Fresco / Charcutería animal / E...  \n",
       "3  Resto Producto Fresco / Charcutería animal / E...  \n",
       "4  Resto Producto Fresco / Charcutería animal / E...  "
      ]
     },
     "execution_count": 74,
     "metadata": {},
     "output_type": "execute_result"
    }
   ],
   "source": [
    "# Renombrar columnas\n",
    "coste_compra_2021_2022.rename(columns={'Producto_nombre':'Nombre_producto', \n",
    "                            'Coste':'Coste_compra',\n",
    "                            'Fecha':'Fecha_compra', \n",
    "                            'Producto_nombre_publico':'Tipo_producto',\n",
    "                            'Producto_Referencia_interna':'ID_producto', \n",
    "                            'Producto_Proveedores_publico':'Proveedor_producto',\n",
    "                            'Producto_Categoría_publico':'Categoria_producto'\n",
    "                             }, inplace=True)\n",
    "coste_compra_2021_2022.head(5)"
   ]
  },
  {
   "cell_type": "code",
   "execution_count": 75,
   "metadata": {
    "tags": []
   },
   "outputs": [],
   "source": [
    "# Obtén una lista con los nombres de las columnas  y el orden que queremos que tengan en el DataFrame\n",
    "orden_columnas_compras = ['ID_producto', 'Nombre_producto', 'Categoria_producto','Tipo_producto', 'Proveedor_producto','Fecha_compra','Coste_compra'] "
   ]
  },
  {
   "cell_type": "code",
   "execution_count": 76,
   "metadata": {
    "tags": []
   },
   "outputs": [
    {
     "data": {
      "text/html": [
       "<div>\n",
       "<style scoped>\n",
       "    .dataframe tbody tr th:only-of-type {\n",
       "        vertical-align: middle;\n",
       "    }\n",
       "\n",
       "    .dataframe tbody tr th {\n",
       "        vertical-align: top;\n",
       "    }\n",
       "\n",
       "    .dataframe thead th {\n",
       "        text-align: right;\n",
       "    }\n",
       "</style>\n",
       "<table border=\"1\" class=\"dataframe\">\n",
       "  <thead>\n",
       "    <tr style=\"text-align: right;\">\n",
       "      <th></th>\n",
       "      <th>ID_producto</th>\n",
       "      <th>Nombre_producto</th>\n",
       "      <th>Categoria_producto</th>\n",
       "      <th>Tipo_producto</th>\n",
       "      <th>Proveedor_producto</th>\n",
       "      <th>Fecha_compra</th>\n",
       "      <th>Coste_compra</th>\n",
       "    </tr>\n",
       "  </thead>\n",
       "  <tbody>\n",
       "    <tr>\n",
       "      <th>0</th>\n",
       "      <td>1637.0</td>\n",
       "      <td>Envase Veer 33cl</td>\n",
       "      <td>Seco Envasado / Vinos, cervezas, sidras / Cerv...</td>\n",
       "      <td>Eco</td>\n",
       "      <td>(VEER) MISSON S.COOP.CYL.</td>\n",
       "      <td>2022-06-29 21:10:50</td>\n",
       "      <td>0.15</td>\n",
       "    </tr>\n",
       "    <tr>\n",
       "      <th>1</th>\n",
       "      <td>1637.0</td>\n",
       "      <td>Envase Veer 33cl</td>\n",
       "      <td>Seco Envasado / Vinos, cervezas, sidras / Cerv...</td>\n",
       "      <td>Eco</td>\n",
       "      <td>(VEER) MISSON S.COOP.CYL.</td>\n",
       "      <td>2022-06-29 20:25:26</td>\n",
       "      <td>0.15</td>\n",
       "    </tr>\n",
       "    <tr>\n",
       "      <th>2</th>\n",
       "      <td>597.0</td>\n",
       "      <td>Fuet extra Biobardales 200 gr</td>\n",
       "      <td>Resto Producto Fresco / Charcutería animal / E...</td>\n",
       "      <td>Eco</td>\n",
       "      <td>(BIOBARDALES) COMERCIAL BELDREA S.L.</td>\n",
       "      <td>2022-06-29 19:22:59</td>\n",
       "      <td>2.95</td>\n",
       "    </tr>\n",
       "  </tbody>\n",
       "</table>\n",
       "</div>"
      ],
      "text/plain": [
       "   ID_producto                Nombre_producto  \\\n",
       "0       1637.0               Envase Veer 33cl   \n",
       "1       1637.0               Envase Veer 33cl   \n",
       "2        597.0  Fuet extra Biobardales 200 gr   \n",
       "\n",
       "                                  Categoria_producto Tipo_producto  \\\n",
       "0  Seco Envasado / Vinos, cervezas, sidras / Cerv...           Eco   \n",
       "1  Seco Envasado / Vinos, cervezas, sidras / Cerv...           Eco   \n",
       "2  Resto Producto Fresco / Charcutería animal / E...           Eco   \n",
       "\n",
       "                     Proveedor_producto        Fecha_compra  Coste_compra  \n",
       "0             (VEER) MISSON S.COOP.CYL. 2022-06-29 21:10:50          0.15  \n",
       "1             (VEER) MISSON S.COOP.CYL. 2022-06-29 20:25:26          0.15  \n",
       "2  (BIOBARDALES) COMERCIAL BELDREA S.L. 2022-06-29 19:22:59          2.95  "
      ]
     },
     "execution_count": 76,
     "metadata": {},
     "output_type": "execute_result"
    }
   ],
   "source": [
    "# Reorganizamos el DataFrame \n",
    "coste_compra_2021_2022 = coste_compra_2021_2022.reindex(columns=orden_columnas_compras)\n",
    "coste_compra_2021_2022.head(3)"
   ]
  },
  {
   "cell_type": "code",
   "execution_count": 86,
   "metadata": {
    "tags": []
   },
   "outputs": [],
   "source": [
    "coste_compra_2021_2022.ID_producto = coste_compra_2021_2022.ID_producto.astype('object')\n",
    "coste_compra_2021_2022.Fecha_compra = coste_compra_2021_2022.Fecha_compra.astype('datetime64[ns]')\n",
    "coste_compra_2021_2022['Mes_compra'] = coste_compra_2021_2022['Mes_compra'].astype('int')\n",
    "coste_compra_2021_2022['Año_compra'] = coste_compra_2021_2022['Año_compra'].astype('int')\n",
    "coste_compra_2021_2022[['ID_producto','Año_compra', 'Mes_compra','Fecha_compra']].head(5)"
   ]
  },
  {
   "cell_type": "code",
   "execution_count": 87,
   "metadata": {
    "tags": []
   },
   "outputs": [
    {
     "name": "stdout",
     "output_type": "stream",
     "text": [
      "<class 'pandas.core.frame.DataFrame'>\n",
      "Int64Index: 111268 entries, 0 to 57557\n",
      "Data columns (total 9 columns):\n",
      " #   Column              Non-Null Count   Dtype         \n",
      "---  ------              --------------   -----         \n",
      " 0   ID_producto         111268 non-null  object        \n",
      " 1   Nombre_producto     111268 non-null  object        \n",
      " 2   Categoria_producto  111268 non-null  object        \n",
      " 3   Tipo_producto       111268 non-null  object        \n",
      " 4   Proveedor_producto  111268 non-null  object        \n",
      " 5   Fecha_compra        111268 non-null  datetime64[ns]\n",
      " 6   Coste_compra        111268 non-null  float64       \n",
      " 7   Año_compra          111268 non-null  int64         \n",
      " 8   Mes_compra          111268 non-null  int64         \n",
      "dtypes: datetime64[ns](1), float64(1), int64(2), object(5)\n",
      "memory usage: 8.5+ MB\n"
     ]
    }
   ],
   "source": [
    "coste_compra_2021_2022.info()"
   ]
  },
  {
   "cell_type": "code",
   "execution_count": 88,
   "metadata": {
    "tags": []
   },
   "outputs": [
    {
     "data": {
      "text/plain": [
       "ID_producto           0\n",
       "Nombre_producto       0\n",
       "Categoria_producto    0\n",
       "Tipo_producto         0\n",
       "Proveedor_producto    0\n",
       "Fecha_compra          0\n",
       "Coste_compra          0\n",
       "Año_compra            0\n",
       "Mes_compra            0\n",
       "dtype: int64"
      ]
     },
     "execution_count": 88,
     "metadata": {},
     "output_type": "execute_result"
    }
   ],
   "source": [
    "coste_compra_2021_2022.isnull().sum()"
   ]
  },
  {
   "cell_type": "markdown",
   "metadata": {},
   "source": [
    "### Separamos el año y el mes de la fecha creando la columna año y la columna mes"
   ]
  },
  {
   "cell_type": "code",
   "execution_count": 89,
   "metadata": {
    "tags": []
   },
   "outputs": [
    {
     "data": {
      "text/html": [
       "<div>\n",
       "<style scoped>\n",
       "    .dataframe tbody tr th:only-of-type {\n",
       "        vertical-align: middle;\n",
       "    }\n",
       "\n",
       "    .dataframe tbody tr th {\n",
       "        vertical-align: top;\n",
       "    }\n",
       "\n",
       "    .dataframe thead th {\n",
       "        text-align: right;\n",
       "    }\n",
       "</style>\n",
       "<table border=\"1\" class=\"dataframe\">\n",
       "  <thead>\n",
       "    <tr style=\"text-align: right;\">\n",
       "      <th></th>\n",
       "      <th>Año_compra</th>\n",
       "      <th>Mes_compra</th>\n",
       "      <th>Fecha_compra</th>\n",
       "    </tr>\n",
       "  </thead>\n",
       "  <tbody>\n",
       "    <tr>\n",
       "      <th>0</th>\n",
       "      <td>2022</td>\n",
       "      <td>6</td>\n",
       "      <td>2022-06-29 21:10:50</td>\n",
       "    </tr>\n",
       "    <tr>\n",
       "      <th>1</th>\n",
       "      <td>2022</td>\n",
       "      <td>6</td>\n",
       "      <td>2022-06-29 20:25:26</td>\n",
       "    </tr>\n",
       "    <tr>\n",
       "      <th>2</th>\n",
       "      <td>2022</td>\n",
       "      <td>6</td>\n",
       "      <td>2022-06-29 19:22:59</td>\n",
       "    </tr>\n",
       "    <tr>\n",
       "      <th>3</th>\n",
       "      <td>2022</td>\n",
       "      <td>6</td>\n",
       "      <td>2022-06-29 19:22:59</td>\n",
       "    </tr>\n",
       "    <tr>\n",
       "      <th>4</th>\n",
       "      <td>2022</td>\n",
       "      <td>6</td>\n",
       "      <td>2022-06-29 19:22:59</td>\n",
       "    </tr>\n",
       "  </tbody>\n",
       "</table>\n",
       "</div>"
      ],
      "text/plain": [
       "   Año_compra  Mes_compra        Fecha_compra\n",
       "0        2022           6 2022-06-29 21:10:50\n",
       "1        2022           6 2022-06-29 20:25:26\n",
       "2        2022           6 2022-06-29 19:22:59\n",
       "3        2022           6 2022-06-29 19:22:59\n",
       "4        2022           6 2022-06-29 19:22:59"
      ]
     },
     "execution_count": 89,
     "metadata": {},
     "output_type": "execute_result"
    }
   ],
   "source": [
    "coste_compra_2021_2022['Año_compra'] = coste_compra_2021_2022['Fecha_compra'].dt.year \n",
    "coste_compra_2021_2022['Mes_compra'] = coste_compra_2021_2022['Fecha_compra'].dt.month \n",
    "coste_compra_2021_2022[['Año_compra', 'Mes_compra','Fecha_compra']].head(5)"
   ]
  },
  {
   "cell_type": "markdown",
   "metadata": {},
   "source": [
    "### Cambiamos el tipo de dato a int de las columnas `Mes_compra`y `Año_compra`"
   ]
  },
  {
   "cell_type": "code",
   "execution_count": 90,
   "metadata": {
    "tags": []
   },
   "outputs": [
    {
     "data": {
      "text/html": [
       "<div>\n",
       "<style scoped>\n",
       "    .dataframe tbody tr th:only-of-type {\n",
       "        vertical-align: middle;\n",
       "    }\n",
       "\n",
       "    .dataframe tbody tr th {\n",
       "        vertical-align: top;\n",
       "    }\n",
       "\n",
       "    .dataframe thead th {\n",
       "        text-align: right;\n",
       "    }\n",
       "</style>\n",
       "<table border=\"1\" class=\"dataframe\">\n",
       "  <thead>\n",
       "    <tr style=\"text-align: right;\">\n",
       "      <th></th>\n",
       "      <th>Año_compra</th>\n",
       "      <th>Mes_compra</th>\n",
       "      <th>Fecha_compra</th>\n",
       "    </tr>\n",
       "  </thead>\n",
       "  <tbody>\n",
       "    <tr>\n",
       "      <th>0</th>\n",
       "      <td>2022</td>\n",
       "      <td>6</td>\n",
       "      <td>2022-06-29 21:10:50</td>\n",
       "    </tr>\n",
       "    <tr>\n",
       "      <th>1</th>\n",
       "      <td>2022</td>\n",
       "      <td>6</td>\n",
       "      <td>2022-06-29 20:25:26</td>\n",
       "    </tr>\n",
       "    <tr>\n",
       "      <th>2</th>\n",
       "      <td>2022</td>\n",
       "      <td>6</td>\n",
       "      <td>2022-06-29 19:22:59</td>\n",
       "    </tr>\n",
       "    <tr>\n",
       "      <th>3</th>\n",
       "      <td>2022</td>\n",
       "      <td>6</td>\n",
       "      <td>2022-06-29 19:22:59</td>\n",
       "    </tr>\n",
       "    <tr>\n",
       "      <th>4</th>\n",
       "      <td>2022</td>\n",
       "      <td>6</td>\n",
       "      <td>2022-06-29 19:22:59</td>\n",
       "    </tr>\n",
       "  </tbody>\n",
       "</table>\n",
       "</div>"
      ],
      "text/plain": [
       "   Año_compra  Mes_compra        Fecha_compra\n",
       "0        2022           6 2022-06-29 21:10:50\n",
       "1        2022           6 2022-06-29 20:25:26\n",
       "2        2022           6 2022-06-29 19:22:59\n",
       "3        2022           6 2022-06-29 19:22:59\n",
       "4        2022           6 2022-06-29 19:22:59"
      ]
     },
     "execution_count": 90,
     "metadata": {},
     "output_type": "execute_result"
    }
   ],
   "source": [
    "coste_compra_2021_2022['Mes_compra'] = coste_compra_2021_2022['Mes_compra'].astype('int')\n",
    "coste_compra_2021_2022['Año_compra'] = coste_compra_2021_2022['Año_compra'].astype('int')\n",
    "coste_compra_2021_2022[['Año_compra', 'Mes_compra','Fecha_compra']].head(5)"
   ]
  },
  {
   "cell_type": "code",
   "execution_count": 91,
   "metadata": {
    "tags": []
   },
   "outputs": [
    {
     "data": {
      "text/plain": [
       "ID_producto                   object\n",
       "Nombre_producto               object\n",
       "Categoria_producto            object\n",
       "Tipo_producto                 object\n",
       "Proveedor_producto            object\n",
       "Fecha_compra          datetime64[ns]\n",
       "Coste_compra                 float64\n",
       "Año_compra                     int64\n",
       "Mes_compra                     int64\n",
       "dtype: object"
      ]
     },
     "execution_count": 91,
     "metadata": {},
     "output_type": "execute_result"
    }
   ],
   "source": [
    "coste_compra_2021_2022.dtypes"
   ]
  },
  {
   "cell_type": "markdown",
   "metadata": {},
   "source": [
    "### Generamos el csv para luego unirlo con el dataset de ventas"
   ]
  },
  {
   "cell_type": "code",
   "execution_count": 92,
   "metadata": {
    "tags": []
   },
   "outputs": [],
   "source": [
    "coste_compra_2021_2022.to_csv('coste_compra_2021_2022.csv', header=True, index=False) "
   ]
  },
  {
   "cell_type": "code",
   "execution_count": null,
   "metadata": {},
   "outputs": [],
   "source": []
  }
 ],
 "metadata": {
  "kernelspec": {
   "display_name": "Python 3 (ipykernel)",
   "language": "python",
   "name": "python3"
  },
  "language_info": {
   "codemirror_mode": {
    "name": "ipython",
    "version": 3
   },
   "file_extension": ".py",
   "mimetype": "text/x-python",
   "name": "python",
   "nbconvert_exporter": "python",
   "pygments_lexer": "ipython3",
   "version": "3.10.9"
  }
 },
 "nbformat": 4,
 "nbformat_minor": 4
}
