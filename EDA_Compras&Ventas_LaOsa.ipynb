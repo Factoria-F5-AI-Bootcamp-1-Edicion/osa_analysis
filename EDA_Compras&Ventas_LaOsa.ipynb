{
 "cells": [
  {
   "cell_type": "markdown",
   "metadata": {},
   "source": [
    "# Análsis Exploraotio de precios de compras y ventas Supermercado La Osa - Madrid"
   ]
  },
  {
   "cell_type": "code",
   "execution_count": 2,
   "metadata": {
    "collapsed": false,
    "jupyter": {
     "outputs_hidden": false
    },
    "tags": []
   },
   "outputs": [],
   "source": [
    "import pandas as pd\n",
    "import seaborn as sns\n",
    "import numpy as np\n",
    "import matplotlib.pyplot as plt\n",
    "from datetime import datetime"
   ]
  },
  {
   "cell_type": "markdown",
   "metadata": {},
   "source": [
    "## Datos de compras y ventas de productos"
   ]
  },
  {
   "cell_type": "markdown",
   "metadata": {
    "tags": []
   },
   "source": [
    "### Importamos los datasets"
   ]
  },
  {
   "cell_type": "code",
   "execution_count": 5,
   "metadata": {
    "collapsed": false,
    "jupyter": {
     "outputs_hidden": false
    },
    "tags": []
   },
   "outputs": [
    {
     "name": "stderr",
     "output_type": "stream",
     "text": [
      "/var/folders/2z/y9k9szx937n84ztg148l8rd00000gn/T/ipykernel_14707/225709479.py:2: DtypeWarning: Columns (2,3,4,5,9) have mixed types. Specify dtype option on import or set low_memory=False.\n",
      "  df= pd.read_csv(\"data_compra_venta_2021_2022_LaOsa.csv\")\n"
     ]
    },
    {
     "data": {
      "text/html": [
       "<div>\n",
       "<style scoped>\n",
       "    .dataframe tbody tr th:only-of-type {\n",
       "        vertical-align: middle;\n",
       "    }\n",
       "\n",
       "    .dataframe tbody tr th {\n",
       "        vertical-align: top;\n",
       "    }\n",
       "\n",
       "    .dataframe thead th {\n",
       "        text-align: right;\n",
       "    }\n",
       "</style>\n",
       "<table border=\"1\" class=\"dataframe\">\n",
       "  <thead>\n",
       "    <tr style=\"text-align: right;\">\n",
       "      <th></th>\n",
       "      <th>ID_producto</th>\n",
       "      <th>Nombre_producto</th>\n",
       "      <th>Categoria_producto</th>\n",
       "      <th>Tipo_producto</th>\n",
       "      <th>Proveedor_producto</th>\n",
       "      <th>Fecha_compra</th>\n",
       "      <th>Coste_compra</th>\n",
       "      <th>Cantidad_venta</th>\n",
       "      <th>Precio_medio_venta</th>\n",
       "      <th>Fecha_venta</th>\n",
       "      <th>Año_venta</th>\n",
       "      <th>Mes_venta</th>\n",
       "    </tr>\n",
       "  </thead>\n",
       "  <tbody>\n",
       "    <tr>\n",
       "      <th>0</th>\n",
       "      <td>1637.0</td>\n",
       "      <td>Envase Veer 33cl</td>\n",
       "      <td>Seco Envasado / Vinos, cervezas, sidras / Cerv...</td>\n",
       "      <td>Eco</td>\n",
       "      <td>(VEER) MISSON S.COOP.CYL.</td>\n",
       "      <td>2022-06-29 21:10:50</td>\n",
       "      <td>0.15</td>\n",
       "      <td>NaN</td>\n",
       "      <td>NaN</td>\n",
       "      <td>NaN</td>\n",
       "      <td>NaN</td>\n",
       "      <td>NaN</td>\n",
       "    </tr>\n",
       "    <tr>\n",
       "      <th>1</th>\n",
       "      <td>1637.0</td>\n",
       "      <td>Envase Veer 33cl</td>\n",
       "      <td>Seco Envasado / Vinos, cervezas, sidras / Cerv...</td>\n",
       "      <td>Eco</td>\n",
       "      <td>(VEER) MISSON S.COOP.CYL.</td>\n",
       "      <td>2022-06-29 20:25:26</td>\n",
       "      <td>0.15</td>\n",
       "      <td>NaN</td>\n",
       "      <td>NaN</td>\n",
       "      <td>NaN</td>\n",
       "      <td>NaN</td>\n",
       "      <td>NaN</td>\n",
       "    </tr>\n",
       "    <tr>\n",
       "      <th>2</th>\n",
       "      <td>1637.0</td>\n",
       "      <td>Envase Veer 33cl</td>\n",
       "      <td>Seco Envasado / Vinos, cervezas, sidras / Cerv...</td>\n",
       "      <td>Eco</td>\n",
       "      <td>(VEER) MISSON S.COOP.CYL.</td>\n",
       "      <td>2022-06-29 18:47:47</td>\n",
       "      <td>0.15</td>\n",
       "      <td>NaN</td>\n",
       "      <td>NaN</td>\n",
       "      <td>NaN</td>\n",
       "      <td>NaN</td>\n",
       "      <td>NaN</td>\n",
       "    </tr>\n",
       "    <tr>\n",
       "      <th>3</th>\n",
       "      <td>1637.0</td>\n",
       "      <td>Envase Veer 33cl</td>\n",
       "      <td>Seco Envasado / Vinos, cervezas, sidras / Cerv...</td>\n",
       "      <td>Eco</td>\n",
       "      <td>(VEER) MISSON S.COOP.CYL.</td>\n",
       "      <td>2022-06-28 19:37:37</td>\n",
       "      <td>0.15</td>\n",
       "      <td>NaN</td>\n",
       "      <td>NaN</td>\n",
       "      <td>NaN</td>\n",
       "      <td>NaN</td>\n",
       "      <td>NaN</td>\n",
       "    </tr>\n",
       "    <tr>\n",
       "      <th>4</th>\n",
       "      <td>1637.0</td>\n",
       "      <td>Envase Veer 33cl</td>\n",
       "      <td>Seco Envasado / Vinos, cervezas, sidras / Cerv...</td>\n",
       "      <td>Eco</td>\n",
       "      <td>(VEER) MISSON S.COOP.CYL.</td>\n",
       "      <td>2022-06-28 19:32:07</td>\n",
       "      <td>0.15</td>\n",
       "      <td>NaN</td>\n",
       "      <td>NaN</td>\n",
       "      <td>NaN</td>\n",
       "      <td>NaN</td>\n",
       "      <td>NaN</td>\n",
       "    </tr>\n",
       "    <tr>\n",
       "      <th>...</th>\n",
       "      <td>...</td>\n",
       "      <td>...</td>\n",
       "      <td>...</td>\n",
       "      <td>...</td>\n",
       "      <td>...</td>\n",
       "      <td>...</td>\n",
       "      <td>...</td>\n",
       "      <td>...</td>\n",
       "      <td>...</td>\n",
       "      <td>...</td>\n",
       "      <td>...</td>\n",
       "      <td>...</td>\n",
       "    </tr>\n",
       "    <tr>\n",
       "      <th>266975</th>\n",
       "      <td>6499.0</td>\n",
       "      <td>Pularda Sanchonar aprox 3 kg</td>\n",
       "      <td>NaN</td>\n",
       "      <td>NaN</td>\n",
       "      <td>NaN</td>\n",
       "      <td>NaN</td>\n",
       "      <td>NaN</td>\n",
       "      <td>0.00</td>\n",
       "      <td>0.00</td>\n",
       "      <td>2022-08-30</td>\n",
       "      <td>2022.0</td>\n",
       "      <td>8.0</td>\n",
       "    </tr>\n",
       "    <tr>\n",
       "      <th>266976</th>\n",
       "      <td>6499.0</td>\n",
       "      <td>Pularda Sanchonar aprox 3 kg</td>\n",
       "      <td>NaN</td>\n",
       "      <td>NaN</td>\n",
       "      <td>NaN</td>\n",
       "      <td>NaN</td>\n",
       "      <td>NaN</td>\n",
       "      <td>0.00</td>\n",
       "      <td>0.00</td>\n",
       "      <td>2022-09-30</td>\n",
       "      <td>2022.0</td>\n",
       "      <td>9.0</td>\n",
       "    </tr>\n",
       "    <tr>\n",
       "      <th>266977</th>\n",
       "      <td>6499.0</td>\n",
       "      <td>Pularda Sanchonar aprox 3 kg</td>\n",
       "      <td>NaN</td>\n",
       "      <td>NaN</td>\n",
       "      <td>NaN</td>\n",
       "      <td>NaN</td>\n",
       "      <td>NaN</td>\n",
       "      <td>0.00</td>\n",
       "      <td>0.00</td>\n",
       "      <td>2022-10-30</td>\n",
       "      <td>2022.0</td>\n",
       "      <td>10.0</td>\n",
       "    </tr>\n",
       "    <tr>\n",
       "      <th>266978</th>\n",
       "      <td>6499.0</td>\n",
       "      <td>Pularda Sanchonar aprox 3 kg</td>\n",
       "      <td>NaN</td>\n",
       "      <td>NaN</td>\n",
       "      <td>NaN</td>\n",
       "      <td>NaN</td>\n",
       "      <td>NaN</td>\n",
       "      <td>0.00</td>\n",
       "      <td>0.00</td>\n",
       "      <td>2022-11-30</td>\n",
       "      <td>2022.0</td>\n",
       "      <td>11.0</td>\n",
       "    </tr>\n",
       "    <tr>\n",
       "      <th>266979</th>\n",
       "      <td>6499.0</td>\n",
       "      <td>Pularda Sanchonar aprox 3 kg</td>\n",
       "      <td>NaN</td>\n",
       "      <td>NaN</td>\n",
       "      <td>NaN</td>\n",
       "      <td>NaN</td>\n",
       "      <td>NaN</td>\n",
       "      <td>11.84</td>\n",
       "      <td>13.75</td>\n",
       "      <td>2022-12-30</td>\n",
       "      <td>2022.0</td>\n",
       "      <td>12.0</td>\n",
       "    </tr>\n",
       "  </tbody>\n",
       "</table>\n",
       "<p>266980 rows × 12 columns</p>\n",
       "</div>"
      ],
      "text/plain": [
       "        ID_producto               Nombre_producto  \\\n",
       "0            1637.0              Envase Veer 33cl   \n",
       "1            1637.0              Envase Veer 33cl   \n",
       "2            1637.0              Envase Veer 33cl   \n",
       "3            1637.0              Envase Veer 33cl   \n",
       "4            1637.0              Envase Veer 33cl   \n",
       "...             ...                           ...   \n",
       "266975       6499.0  Pularda Sanchonar aprox 3 kg   \n",
       "266976       6499.0  Pularda Sanchonar aprox 3 kg   \n",
       "266977       6499.0  Pularda Sanchonar aprox 3 kg   \n",
       "266978       6499.0  Pularda Sanchonar aprox 3 kg   \n",
       "266979       6499.0  Pularda Sanchonar aprox 3 kg   \n",
       "\n",
       "                                       Categoria_producto Tipo_producto  \\\n",
       "0       Seco Envasado / Vinos, cervezas, sidras / Cerv...           Eco   \n",
       "1       Seco Envasado / Vinos, cervezas, sidras / Cerv...           Eco   \n",
       "2       Seco Envasado / Vinos, cervezas, sidras / Cerv...           Eco   \n",
       "3       Seco Envasado / Vinos, cervezas, sidras / Cerv...           Eco   \n",
       "4       Seco Envasado / Vinos, cervezas, sidras / Cerv...           Eco   \n",
       "...                                                   ...           ...   \n",
       "266975                                                NaN           NaN   \n",
       "266976                                                NaN           NaN   \n",
       "266977                                                NaN           NaN   \n",
       "266978                                                NaN           NaN   \n",
       "266979                                                NaN           NaN   \n",
       "\n",
       "               Proveedor_producto         Fecha_compra  Coste_compra  \\\n",
       "0       (VEER) MISSON S.COOP.CYL.  2022-06-29 21:10:50          0.15   \n",
       "1       (VEER) MISSON S.COOP.CYL.  2022-06-29 20:25:26          0.15   \n",
       "2       (VEER) MISSON S.COOP.CYL.  2022-06-29 18:47:47          0.15   \n",
       "3       (VEER) MISSON S.COOP.CYL.  2022-06-28 19:37:37          0.15   \n",
       "4       (VEER) MISSON S.COOP.CYL.  2022-06-28 19:32:07          0.15   \n",
       "...                           ...                  ...           ...   \n",
       "266975                        NaN                  NaN           NaN   \n",
       "266976                        NaN                  NaN           NaN   \n",
       "266977                        NaN                  NaN           NaN   \n",
       "266978                        NaN                  NaN           NaN   \n",
       "266979                        NaN                  NaN           NaN   \n",
       "\n",
       "        Cantidad_venta  Precio_medio_venta Fecha_venta  Año_venta  Mes_venta  \n",
       "0                  NaN                 NaN         NaN        NaN        NaN  \n",
       "1                  NaN                 NaN         NaN        NaN        NaN  \n",
       "2                  NaN                 NaN         NaN        NaN        NaN  \n",
       "3                  NaN                 NaN         NaN        NaN        NaN  \n",
       "4                  NaN                 NaN         NaN        NaN        NaN  \n",
       "...                ...                 ...         ...        ...        ...  \n",
       "266975            0.00                0.00  2022-08-30     2022.0        8.0  \n",
       "266976            0.00                0.00  2022-09-30     2022.0        9.0  \n",
       "266977            0.00                0.00  2022-10-30     2022.0       10.0  \n",
       "266978            0.00                0.00  2022-11-30     2022.0       11.0  \n",
       "266979           11.84               13.75  2022-12-30     2022.0       12.0  \n",
       "\n",
       "[266980 rows x 12 columns]"
      ]
     },
     "execution_count": 5,
     "metadata": {},
     "output_type": "execute_result"
    }
   ],
   "source": [
    "#Datasets de compra de productos a proveedores 2021-2022\n",
    "df= pd.read_csv(\"data_compra_venta_2021_2022_LaOsa.csv\")\n",
    "df"
   ]
  },
  {
   "cell_type": "code",
   "execution_count": 6,
   "metadata": {
    "tags": []
   },
   "outputs": [
    {
     "data": {
      "text/plain": [
       "Index(['ID_producto', 'Nombre_producto', 'Categoria_producto', 'Tipo_producto',\n",
       "       'Proveedor_producto', 'Fecha_compra', 'Coste_compra', 'Cantidad_venta',\n",
       "       'Precio_medio_venta', 'Fecha_venta', 'Año_venta', 'Mes_venta'],\n",
       "      dtype='object')"
      ]
     },
     "execution_count": 6,
     "metadata": {},
     "output_type": "execute_result"
    }
   ],
   "source": [
    "df.columns"
   ]
  },
  {
   "cell_type": "markdown",
   "metadata": {},
   "source": [
    "> #### Las columnas o variables:\n",
    "\n",
    "* ID_producto\n",
    "* Nombre_producto\n",
    "* Categoria_producto\n",
    "* Tipo_producto\n",
    "* Proveedor_producto\n",
    "* Fecha_compra\n",
    "* Coste_compra\n",
    "* Cantidad_venta\n",
    "* Precio_medio_venta\n",
    "* Fecha_venta\n",
    "* Año_venta\n",
    "* Mes_venta"
   ]
  },
  {
   "cell_type": "code",
   "execution_count": 7,
   "metadata": {
    "tags": []
   },
   "outputs": [
    {
     "data": {
      "text/html": [
       "<div>\n",
       "<style scoped>\n",
       "    .dataframe tbody tr th:only-of-type {\n",
       "        vertical-align: middle;\n",
       "    }\n",
       "\n",
       "    .dataframe tbody tr th {\n",
       "        vertical-align: top;\n",
       "    }\n",
       "\n",
       "    .dataframe thead th {\n",
       "        text-align: right;\n",
       "    }\n",
       "</style>\n",
       "<table border=\"1\" class=\"dataframe\">\n",
       "  <thead>\n",
       "    <tr style=\"text-align: right;\">\n",
       "      <th></th>\n",
       "      <th>ID_producto</th>\n",
       "      <th>Coste_compra</th>\n",
       "      <th>Cantidad_venta</th>\n",
       "      <th>Precio_medio_venta</th>\n",
       "      <th>Año_venta</th>\n",
       "      <th>Mes_venta</th>\n",
       "    </tr>\n",
       "  </thead>\n",
       "  <tbody>\n",
       "    <tr>\n",
       "      <th>count</th>\n",
       "      <td>204988.000000</td>\n",
       "      <td>111268.000000</td>\n",
       "      <td>93720.000000</td>\n",
       "      <td>93720.000000</td>\n",
       "      <td>93720.000000</td>\n",
       "      <td>93720.000000</td>\n",
       "    </tr>\n",
       "    <tr>\n",
       "      <th>mean</th>\n",
       "      <td>2969.931430</td>\n",
       "      <td>2.963484</td>\n",
       "      <td>7.263024</td>\n",
       "      <td>2.808527</td>\n",
       "      <td>2021.503713</td>\n",
       "      <td>6.500000</td>\n",
       "    </tr>\n",
       "    <tr>\n",
       "      <th>std</th>\n",
       "      <td>1730.063218</td>\n",
       "      <td>3.425243</td>\n",
       "      <td>34.071630</td>\n",
       "      <td>4.433429</td>\n",
       "      <td>0.499989</td>\n",
       "      <td>3.452071</td>\n",
       "    </tr>\n",
       "    <tr>\n",
       "      <th>min</th>\n",
       "      <td>5.000000</td>\n",
       "      <td>0.000000</td>\n",
       "      <td>-24.000000</td>\n",
       "      <td>0.000000</td>\n",
       "      <td>2021.000000</td>\n",
       "      <td>1.000000</td>\n",
       "    </tr>\n",
       "    <tr>\n",
       "      <th>25%</th>\n",
       "      <td>1342.000000</td>\n",
       "      <td>1.350000</td>\n",
       "      <td>0.000000</td>\n",
       "      <td>0.000000</td>\n",
       "      <td>2021.000000</td>\n",
       "      <td>3.750000</td>\n",
       "    </tr>\n",
       "    <tr>\n",
       "      <th>50%</th>\n",
       "      <td>3056.000000</td>\n",
       "      <td>2.010000</td>\n",
       "      <td>2.000000</td>\n",
       "      <td>1.850000</td>\n",
       "      <td>2022.000000</td>\n",
       "      <td>6.500000</td>\n",
       "    </tr>\n",
       "    <tr>\n",
       "      <th>75%</th>\n",
       "      <td>4347.000000</td>\n",
       "      <td>3.100000</td>\n",
       "      <td>7.000000</td>\n",
       "      <td>3.600000</td>\n",
       "      <td>2022.000000</td>\n",
       "      <td>9.250000</td>\n",
       "    </tr>\n",
       "    <tr>\n",
       "      <th>max</th>\n",
       "      <td>6518.000000</td>\n",
       "      <td>156.000000</td>\n",
       "      <td>2959.000000</td>\n",
       "      <td>128.050000</td>\n",
       "      <td>2022.000000</td>\n",
       "      <td>12.000000</td>\n",
       "    </tr>\n",
       "  </tbody>\n",
       "</table>\n",
       "</div>"
      ],
      "text/plain": [
       "         ID_producto   Coste_compra  Cantidad_venta  Precio_medio_venta  \\\n",
       "count  204988.000000  111268.000000    93720.000000        93720.000000   \n",
       "mean     2969.931430       2.963484        7.263024            2.808527   \n",
       "std      1730.063218       3.425243       34.071630            4.433429   \n",
       "min         5.000000       0.000000      -24.000000            0.000000   \n",
       "25%      1342.000000       1.350000        0.000000            0.000000   \n",
       "50%      3056.000000       2.010000        2.000000            1.850000   \n",
       "75%      4347.000000       3.100000        7.000000            3.600000   \n",
       "max      6518.000000     156.000000     2959.000000          128.050000   \n",
       "\n",
       "          Año_venta     Mes_venta  \n",
       "count  93720.000000  93720.000000  \n",
       "mean    2021.503713      6.500000  \n",
       "std        0.499989      3.452071  \n",
       "min     2021.000000      1.000000  \n",
       "25%     2021.000000      3.750000  \n",
       "50%     2022.000000      6.500000  \n",
       "75%     2022.000000      9.250000  \n",
       "max     2022.000000     12.000000  "
      ]
     },
     "execution_count": 7,
     "metadata": {},
     "output_type": "execute_result"
    }
   ],
   "source": [
    "df.describe()"
   ]
  },
  {
   "cell_type": "code",
   "execution_count": 8,
   "metadata": {
    "tags": []
   },
   "outputs": [
    {
     "data": {
      "text/plain": [
       "ID_producto           float64\n",
       "Nombre_producto        object\n",
       "Categoria_producto     object\n",
       "Tipo_producto          object\n",
       "Proveedor_producto     object\n",
       "Fecha_compra           object\n",
       "Coste_compra          float64\n",
       "Cantidad_venta        float64\n",
       "Precio_medio_venta    float64\n",
       "Fecha_venta            object\n",
       "Año_venta             float64\n",
       "Mes_venta             float64\n",
       "dtype: object"
      ]
     },
     "execution_count": 8,
     "metadata": {},
     "output_type": "execute_result"
    }
   ],
   "source": [
    "df.dtypes"
   ]
  },
  {
   "cell_type": "code",
   "execution_count": null,
   "metadata": {},
   "outputs": [],
   "source": [
    "compras_2021_2022.ID_producto = compras_2021_2022.ID_producto.astype('object')"
   ]
  },
  {
   "cell_type": "code",
   "execution_count": 16,
   "metadata": {
    "tags": []
   },
   "outputs": [
    {
     "data": {
      "text/plain": [
       "ID_producto            object\n",
       "Nombre_producto        object\n",
       "Categoria_producto     object\n",
       "Tipo_producto          object\n",
       "Proveedor_producto     object\n",
       "Fecha_compra           object\n",
       "Coste_compra          float64\n",
       "Cantidad_venta        float64\n",
       "Precio_medio_venta    float64\n",
       "Fecha_venta            object\n",
       "Año_venta             float64\n",
       "Mes_venta             float64\n",
       "dtype: object"
      ]
     },
     "execution_count": 16,
     "metadata": {},
     "output_type": "execute_result"
    }
   ],
   "source": [
    "df.ID_producto = df.ID_producto.astype('object')\n",
    "df.dtypes"
   ]
  },
  {
   "cell_type": "code",
   "execution_count": 21,
   "metadata": {
    "tags": []
   },
   "outputs": [
    {
     "name": "stderr",
     "output_type": "stream",
     "text": [
      "/var/folders/2z/y9k9szx937n84ztg148l8rd00000gn/T/ipykernel_14707/1425067881.py:1: FutureWarning: The default value of numeric_only in DataFrameGroupBy.sum is deprecated. In a future version, numeric_only will default to False. Either specify numeric_only or select only columns which should be valid for the function.\n",
      "  df.groupby('Tipo_producto').sum()\n"
     ]
    },
    {
     "data": {
      "text/html": [
       "<div>\n",
       "<style scoped>\n",
       "    .dataframe tbody tr th:only-of-type {\n",
       "        vertical-align: middle;\n",
       "    }\n",
       "\n",
       "    .dataframe tbody tr th {\n",
       "        vertical-align: top;\n",
       "    }\n",
       "\n",
       "    .dataframe thead th {\n",
       "        text-align: right;\n",
       "    }\n",
       "</style>\n",
       "<table border=\"1\" class=\"dataframe\">\n",
       "  <thead>\n",
       "    <tr style=\"text-align: right;\">\n",
       "      <th></th>\n",
       "      <th>Coste_compra</th>\n",
       "      <th>Cantidad_venta</th>\n",
       "      <th>Precio_medio_venta</th>\n",
       "      <th>Año_venta</th>\n",
       "      <th>Mes_venta</th>\n",
       "    </tr>\n",
       "    <tr>\n",
       "      <th>Tipo_producto</th>\n",
       "      <th></th>\n",
       "      <th></th>\n",
       "      <th></th>\n",
       "      <th></th>\n",
       "      <th></th>\n",
       "    </tr>\n",
       "  </thead>\n",
       "  <tbody>\n",
       "    <tr>\n",
       "      <th>Convencional</th>\n",
       "      <td>81580.81</td>\n",
       "      <td>0.0</td>\n",
       "      <td>0.0</td>\n",
       "      <td>0.0</td>\n",
       "      <td>0.0</td>\n",
       "    </tr>\n",
       "    <tr>\n",
       "      <th>Eco</th>\n",
       "      <td>241699.63</td>\n",
       "      <td>0.0</td>\n",
       "      <td>0.0</td>\n",
       "      <td>0.0</td>\n",
       "      <td>0.0</td>\n",
       "    </tr>\n",
       "    <tr>\n",
       "      <th>False</th>\n",
       "      <td>6460.48</td>\n",
       "      <td>0.0</td>\n",
       "      <td>0.0</td>\n",
       "      <td>0.0</td>\n",
       "      <td>0.0</td>\n",
       "    </tr>\n",
       "  </tbody>\n",
       "</table>\n",
       "</div>"
      ],
      "text/plain": [
       "               Coste_compra  Cantidad_venta  Precio_medio_venta  Año_venta  \\\n",
       "Tipo_producto                                                                \n",
       "Convencional       81580.81             0.0                 0.0        0.0   \n",
       "Eco               241699.63             0.0                 0.0        0.0   \n",
       "False               6460.48             0.0                 0.0        0.0   \n",
       "\n",
       "               Mes_venta  \n",
       "Tipo_producto             \n",
       "Convencional         0.0  \n",
       "Eco                  0.0  \n",
       "False                0.0  "
      ]
     },
     "execution_count": 21,
     "metadata": {},
     "output_type": "execute_result"
    }
   ],
   "source": [
    "df.groupby('Tipo_producto').sum()"
   ]
  },
  {
   "cell_type": "code",
   "execution_count": null,
   "metadata": {},
   "outputs": [],
   "source": [
    "### Quien es False?"
   ]
  },
  {
   "cell_type": "code",
   "execution_count": 22,
   "metadata": {
    "tags": []
   },
   "outputs": [
    {
     "name": "stderr",
     "output_type": "stream",
     "text": [
      "/var/folders/2z/y9k9szx937n84ztg148l8rd00000gn/T/ipykernel_14707/3904953780.py:1: FutureWarning: The default value of numeric_only in DataFrameGroupBy.sum is deprecated. In a future version, numeric_only will default to False. Either specify numeric_only or select only columns which should be valid for the function.\n",
      "  df.groupby('Categoria_producto').sum()\n"
     ]
    },
    {
     "data": {
      "text/html": [
       "<div>\n",
       "<style scoped>\n",
       "    .dataframe tbody tr th:only-of-type {\n",
       "        vertical-align: middle;\n",
       "    }\n",
       "\n",
       "    .dataframe tbody tr th {\n",
       "        vertical-align: top;\n",
       "    }\n",
       "\n",
       "    .dataframe thead th {\n",
       "        text-align: right;\n",
       "    }\n",
       "</style>\n",
       "<table border=\"1\" class=\"dataframe\">\n",
       "  <thead>\n",
       "    <tr style=\"text-align: right;\">\n",
       "      <th></th>\n",
       "      <th>Coste_compra</th>\n",
       "      <th>Cantidad_venta</th>\n",
       "      <th>Precio_medio_venta</th>\n",
       "      <th>Año_venta</th>\n",
       "      <th>Mes_venta</th>\n",
       "    </tr>\n",
       "    <tr>\n",
       "      <th>Categoria_producto</th>\n",
       "      <th></th>\n",
       "      <th></th>\n",
       "      <th></th>\n",
       "      <th></th>\n",
       "      <th></th>\n",
       "    </tr>\n",
       "  </thead>\n",
       "  <tbody>\n",
       "    <tr>\n",
       "      <th>All</th>\n",
       "      <td>0.00</td>\n",
       "      <td>0.0</td>\n",
       "      <td>0.0</td>\n",
       "      <td>0.0</td>\n",
       "      <td>0.0</td>\n",
       "    </tr>\n",
       "    <tr>\n",
       "      <th>Droguería, Perfumería, Limpieza, Higiene, Hogar / Droguería / Acccesorios de limpieza</th>\n",
       "      <td>723.35</td>\n",
       "      <td>0.0</td>\n",
       "      <td>0.0</td>\n",
       "      <td>0.0</td>\n",
       "      <td>0.0</td>\n",
       "    </tr>\n",
       "    <tr>\n",
       "      <th>Droguería, Perfumería, Limpieza, Higiene, Hogar / Droguería / Insecticidas</th>\n",
       "      <td>25.97</td>\n",
       "      <td>0.0</td>\n",
       "      <td>0.0</td>\n",
       "      <td>0.0</td>\n",
       "      <td>0.0</td>\n",
       "    </tr>\n",
       "    <tr>\n",
       "      <th>Droguería, Perfumería, Limpieza, Higiene, Hogar / Droguería / Jabón y detergente</th>\n",
       "      <td>1329.04</td>\n",
       "      <td>0.0</td>\n",
       "      <td>0.0</td>\n",
       "      <td>0.0</td>\n",
       "      <td>0.0</td>\n",
       "    </tr>\n",
       "    <tr>\n",
       "      <th>Droguería, Perfumería, Limpieza, Higiene, Hogar / Droguería / Otros</th>\n",
       "      <td>302.90</td>\n",
       "      <td>0.0</td>\n",
       "      <td>0.0</td>\n",
       "      <td>0.0</td>\n",
       "      <td>0.0</td>\n",
       "    </tr>\n",
       "    <tr>\n",
       "      <th>...</th>\n",
       "      <td>...</td>\n",
       "      <td>...</td>\n",
       "      <td>...</td>\n",
       "      <td>...</td>\n",
       "      <td>...</td>\n",
       "    </tr>\n",
       "    <tr>\n",
       "      <th>Seco Envasado / Vinos, cervezas, sidras / Sidras</th>\n",
       "      <td>446.73</td>\n",
       "      <td>0.0</td>\n",
       "      <td>0.0</td>\n",
       "      <td>0.0</td>\n",
       "      <td>0.0</td>\n",
       "    </tr>\n",
       "    <tr>\n",
       "      <th>Seco Envasado / Vinos, cervezas, sidras / Vinos</th>\n",
       "      <td>4088.51</td>\n",
       "      <td>0.0</td>\n",
       "      <td>0.0</td>\n",
       "      <td>0.0</td>\n",
       "      <td>0.0</td>\n",
       "    </tr>\n",
       "    <tr>\n",
       "      <th>Seco Envasado / Zumos, leche y bebidas vegetales / Bebidas vegetales</th>\n",
       "      <td>1934.44</td>\n",
       "      <td>0.0</td>\n",
       "      <td>0.0</td>\n",
       "      <td>0.0</td>\n",
       "      <td>0.0</td>\n",
       "    </tr>\n",
       "    <tr>\n",
       "      <th>Seco Envasado / Zumos, leche y bebidas vegetales / Leche y leches especiales</th>\n",
       "      <td>1204.43</td>\n",
       "      <td>0.0</td>\n",
       "      <td>0.0</td>\n",
       "      <td>0.0</td>\n",
       "      <td>0.0</td>\n",
       "    </tr>\n",
       "    <tr>\n",
       "      <th>Seco Envasado / Zumos, leche y bebidas vegetales / Zumos y néctares</th>\n",
       "      <td>2279.11</td>\n",
       "      <td>0.0</td>\n",
       "      <td>0.0</td>\n",
       "      <td>0.0</td>\n",
       "      <td>0.0</td>\n",
       "    </tr>\n",
       "  </tbody>\n",
       "</table>\n",
       "<p>131 rows × 5 columns</p>\n",
       "</div>"
      ],
      "text/plain": [
       "                                                    Coste_compra  \\\n",
       "Categoria_producto                                                 \n",
       "All                                                         0.00   \n",
       "Droguería, Perfumería, Limpieza, Higiene, Hogar...        723.35   \n",
       "Droguería, Perfumería, Limpieza, Higiene, Hogar...         25.97   \n",
       "Droguería, Perfumería, Limpieza, Higiene, Hogar...       1329.04   \n",
       "Droguería, Perfumería, Limpieza, Higiene, Hogar...        302.90   \n",
       "...                                                          ...   \n",
       "Seco Envasado / Vinos, cervezas, sidras / Sidras          446.73   \n",
       "Seco Envasado / Vinos, cervezas, sidras / Vinos          4088.51   \n",
       "Seco Envasado / Zumos, leche y bebidas vegetale...       1934.44   \n",
       "Seco Envasado / Zumos, leche y bebidas vegetale...       1204.43   \n",
       "Seco Envasado / Zumos, leche y bebidas vegetale...       2279.11   \n",
       "\n",
       "                                                    Cantidad_venta  \\\n",
       "Categoria_producto                                                   \n",
       "All                                                            0.0   \n",
       "Droguería, Perfumería, Limpieza, Higiene, Hogar...             0.0   \n",
       "Droguería, Perfumería, Limpieza, Higiene, Hogar...             0.0   \n",
       "Droguería, Perfumería, Limpieza, Higiene, Hogar...             0.0   \n",
       "Droguería, Perfumería, Limpieza, Higiene, Hogar...             0.0   \n",
       "...                                                            ...   \n",
       "Seco Envasado / Vinos, cervezas, sidras / Sidras               0.0   \n",
       "Seco Envasado / Vinos, cervezas, sidras / Vinos                0.0   \n",
       "Seco Envasado / Zumos, leche y bebidas vegetale...             0.0   \n",
       "Seco Envasado / Zumos, leche y bebidas vegetale...             0.0   \n",
       "Seco Envasado / Zumos, leche y bebidas vegetale...             0.0   \n",
       "\n",
       "                                                    Precio_medio_venta  \\\n",
       "Categoria_producto                                                       \n",
       "All                                                                0.0   \n",
       "Droguería, Perfumería, Limpieza, Higiene, Hogar...                 0.0   \n",
       "Droguería, Perfumería, Limpieza, Higiene, Hogar...                 0.0   \n",
       "Droguería, Perfumería, Limpieza, Higiene, Hogar...                 0.0   \n",
       "Droguería, Perfumería, Limpieza, Higiene, Hogar...                 0.0   \n",
       "...                                                                ...   \n",
       "Seco Envasado / Vinos, cervezas, sidras / Sidras                   0.0   \n",
       "Seco Envasado / Vinos, cervezas, sidras / Vinos                    0.0   \n",
       "Seco Envasado / Zumos, leche y bebidas vegetale...                 0.0   \n",
       "Seco Envasado / Zumos, leche y bebidas vegetale...                 0.0   \n",
       "Seco Envasado / Zumos, leche y bebidas vegetale...                 0.0   \n",
       "\n",
       "                                                    Año_venta  Mes_venta  \n",
       "Categoria_producto                                                        \n",
       "All                                                       0.0        0.0  \n",
       "Droguería, Perfumería, Limpieza, Higiene, Hogar...        0.0        0.0  \n",
       "Droguería, Perfumería, Limpieza, Higiene, Hogar...        0.0        0.0  \n",
       "Droguería, Perfumería, Limpieza, Higiene, Hogar...        0.0        0.0  \n",
       "Droguería, Perfumería, Limpieza, Higiene, Hogar...        0.0        0.0  \n",
       "...                                                       ...        ...  \n",
       "Seco Envasado / Vinos, cervezas, sidras / Sidras          0.0        0.0  \n",
       "Seco Envasado / Vinos, cervezas, sidras / Vinos           0.0        0.0  \n",
       "Seco Envasado / Zumos, leche y bebidas vegetale...        0.0        0.0  \n",
       "Seco Envasado / Zumos, leche y bebidas vegetale...        0.0        0.0  \n",
       "Seco Envasado / Zumos, leche y bebidas vegetale...        0.0        0.0  \n",
       "\n",
       "[131 rows x 5 columns]"
      ]
     },
     "execution_count": 22,
     "metadata": {},
     "output_type": "execute_result"
    }
   ],
   "source": [
    "df.groupby('Categoria_producto').sum()"
   ]
  },
  {
   "cell_type": "code",
   "execution_count": 33,
   "metadata": {
    "tags": []
   },
   "outputs": [
    {
     "data": {
      "text/plain": [
       "Fruta y Verdura / Verdura / Verdura de cocinar                                                   7689\n",
       "Resto Producto Fresco / Panadería y bollería salada / Pan                                        7571\n",
       "Resto Producto Fresco / Leche, zumos, productos lácteos / Yogures y postres                      6830\n",
       "Seco Envasado / Panes, harinas / Panes industriales                                              4071\n",
       "Fruta y Verdura / Fruta / Fruta de pepita                                                        3473\n",
       "                                                                                                 ... \n",
       "Granel / Granel droguería, perfumería, limpieza, higiene y hogar / Higiene – Higiene corporal       5\n",
       "Fruta y Verdura / Fruta / Otras frutas                                                              5\n",
       "Granel / Granel salado / Pastas y sémolas                                                           4\n",
       "Seco Envasado / Alimentación e higiene infantil / Infusiones                                        3\n",
       "All                                                                                                 2\n",
       "Name: Categoria_producto, Length: 131, dtype: int64"
      ]
     },
     "execution_count": 33,
     "metadata": {},
     "output_type": "execute_result"
    }
   ],
   "source": [
    "df.Categoria_producto.value_counts()"
   ]
  },
  {
   "cell_type": "code",
   "execution_count": null,
   "metadata": {},
   "outputs": [],
   "source": [
    "### Hay que borrar la categoria all"
   ]
  },
  {
   "cell_type": "code",
   "execution_count": 23,
   "metadata": {
    "tags": []
   },
   "outputs": [
    {
     "name": "stderr",
     "output_type": "stream",
     "text": [
      "/var/folders/2z/y9k9szx937n84ztg148l8rd00000gn/T/ipykernel_14707/3533091251.py:1: FutureWarning: The default value of numeric_only in DataFrameGroupBy.sum is deprecated. In a future version, numeric_only will default to False. Either specify numeric_only or select only columns which should be valid for the function.\n",
      "  df.groupby('Nombre_producto').sum()\n"
     ]
    },
    {
     "data": {
      "text/html": [
       "<div>\n",
       "<style scoped>\n",
       "    .dataframe tbody tr th:only-of-type {\n",
       "        vertical-align: middle;\n",
       "    }\n",
       "\n",
       "    .dataframe tbody tr th {\n",
       "        vertical-align: top;\n",
       "    }\n",
       "\n",
       "    .dataframe thead th {\n",
       "        text-align: right;\n",
       "    }\n",
       "</style>\n",
       "<table border=\"1\" class=\"dataframe\">\n",
       "  <thead>\n",
       "    <tr style=\"text-align: right;\">\n",
       "      <th></th>\n",
       "      <th>Coste_compra</th>\n",
       "      <th>Cantidad_venta</th>\n",
       "      <th>Precio_medio_venta</th>\n",
       "      <th>Año_venta</th>\n",
       "      <th>Mes_venta</th>\n",
       "    </tr>\n",
       "    <tr>\n",
       "      <th>Nombre_producto</th>\n",
       "      <th></th>\n",
       "      <th></th>\n",
       "      <th></th>\n",
       "      <th></th>\n",
       "      <th></th>\n",
       "    </tr>\n",
       "  </thead>\n",
       "  <tbody>\n",
       "    <tr>\n",
       "      <th>AJUSTE 31/12/20</th>\n",
       "      <td>0.00</td>\n",
       "      <td>0.000</td>\n",
       "      <td>0.000000</td>\n",
       "      <td>0.0</td>\n",
       "      <td>0.0</td>\n",
       "    </tr>\n",
       "    <tr>\n",
       "      <th>Abrillantador Finish 500 ml</th>\n",
       "      <td>13.98</td>\n",
       "      <td>24.000</td>\n",
       "      <td>82.200000</td>\n",
       "      <td>48516.0</td>\n",
       "      <td>156.0</td>\n",
       "    </tr>\n",
       "    <tr>\n",
       "      <th>Abrillantador lavavajillas Ecodoo 500 ml</th>\n",
       "      <td>14.28</td>\n",
       "      <td>53.000</td>\n",
       "      <td>100.225000</td>\n",
       "      <td>48516.0</td>\n",
       "      <td>156.0</td>\n",
       "    </tr>\n",
       "    <tr>\n",
       "      <th>Acedía grande limpia y entera</th>\n",
       "      <td>38.00</td>\n",
       "      <td>0.000</td>\n",
       "      <td>0.000000</td>\n",
       "      <td>0.0</td>\n",
       "      <td>0.0</td>\n",
       "    </tr>\n",
       "    <tr>\n",
       "      <th>Aceite caléndula y almendras Piel sana 100 ml</th>\n",
       "      <td>44.64</td>\n",
       "      <td>5.000</td>\n",
       "      <td>37.500000</td>\n",
       "      <td>24252.0</td>\n",
       "      <td>78.0</td>\n",
       "    </tr>\n",
       "    <tr>\n",
       "      <th>...</th>\n",
       "      <td>...</td>\n",
       "      <td>...</td>\n",
       "      <td>...</td>\n",
       "      <td>...</td>\n",
       "      <td>...</td>\n",
       "    </tr>\n",
       "    <tr>\n",
       "      <th>patata roja AgroEc.</th>\n",
       "      <td>37.50</td>\n",
       "      <td>215.294</td>\n",
       "      <td>13.500000</td>\n",
       "      <td>48516.0</td>\n",
       "      <td>156.0</td>\n",
       "    </tr>\n",
       "    <tr>\n",
       "      <th>proteina de guisante texturizada Vegetalia 250g</th>\n",
       "      <td>2.24</td>\n",
       "      <td>11.000</td>\n",
       "      <td>6.300000</td>\n",
       "      <td>24264.0</td>\n",
       "      <td>78.0</td>\n",
       "    </tr>\n",
       "    <tr>\n",
       "      <th>tomate seco unidad AgroEc</th>\n",
       "      <td>66.53</td>\n",
       "      <td>134.000</td>\n",
       "      <td>21.488106</td>\n",
       "      <td>48516.0</td>\n",
       "      <td>156.0</td>\n",
       "    </tr>\n",
       "    <tr>\n",
       "      <th>vinagre balsamico Ecovinal 500 ml</th>\n",
       "      <td>27.63</td>\n",
       "      <td>165.000</td>\n",
       "      <td>50.066667</td>\n",
       "      <td>48516.0</td>\n",
       "      <td>156.0</td>\n",
       "    </tr>\n",
       "    <tr>\n",
       "      <th>Ácido cítrico Ecodoo 350 gr</th>\n",
       "      <td>13.54</td>\n",
       "      <td>17.000</td>\n",
       "      <td>63.850000</td>\n",
       "      <td>48516.0</td>\n",
       "      <td>156.0</td>\n",
       "    </tr>\n",
       "  </tbody>\n",
       "</table>\n",
       "<p>4867 rows × 5 columns</p>\n",
       "</div>"
      ],
      "text/plain": [
       "                                                 Coste_compra  Cantidad_venta  \\\n",
       "Nombre_producto                                                                 \n",
       "AJUSTE 31/12/20                                          0.00           0.000   \n",
       "Abrillantador Finish 500 ml                             13.98          24.000   \n",
       "Abrillantador lavavajillas Ecodoo 500 ml                14.28          53.000   \n",
       "Acedía grande limpia y entera                           38.00           0.000   \n",
       "Aceite caléndula y almendras Piel sana 100 ml           44.64           5.000   \n",
       "...                                                       ...             ...   \n",
       "patata roja AgroEc.                                     37.50         215.294   \n",
       "proteina de guisante texturizada Vegetalia 250g          2.24          11.000   \n",
       "tomate seco unidad AgroEc                               66.53         134.000   \n",
       "vinagre balsamico Ecovinal 500 ml                       27.63         165.000   \n",
       "Ácido cítrico Ecodoo 350 gr                             13.54          17.000   \n",
       "\n",
       "                                                 Precio_medio_venta  \\\n",
       "Nombre_producto                                                       \n",
       "AJUSTE 31/12/20                                            0.000000   \n",
       "Abrillantador Finish 500 ml                               82.200000   \n",
       "Abrillantador lavavajillas Ecodoo 500 ml                 100.225000   \n",
       "Acedía grande limpia y entera                              0.000000   \n",
       "Aceite caléndula y almendras Piel sana 100 ml             37.500000   \n",
       "...                                                             ...   \n",
       "patata roja AgroEc.                                       13.500000   \n",
       "proteina de guisante texturizada Vegetalia 250g            6.300000   \n",
       "tomate seco unidad AgroEc                                 21.488106   \n",
       "vinagre balsamico Ecovinal 500 ml                         50.066667   \n",
       "Ácido cítrico Ecodoo 350 gr                               63.850000   \n",
       "\n",
       "                                                 Año_venta  Mes_venta  \n",
       "Nombre_producto                                                        \n",
       "AJUSTE 31/12/20                                        0.0        0.0  \n",
       "Abrillantador Finish 500 ml                        48516.0      156.0  \n",
       "Abrillantador lavavajillas Ecodoo 500 ml           48516.0      156.0  \n",
       "Acedía grande limpia y entera                          0.0        0.0  \n",
       "Aceite caléndula y almendras Piel sana 100 ml      24252.0       78.0  \n",
       "...                                                    ...        ...  \n",
       "patata roja AgroEc.                                48516.0      156.0  \n",
       "proteina de guisante texturizada Vegetalia 250g    24264.0       78.0  \n",
       "tomate seco unidad AgroEc                          48516.0      156.0  \n",
       "vinagre balsamico Ecovinal 500 ml                  48516.0      156.0  \n",
       "Ácido cítrico Ecodoo 350 gr                        48516.0      156.0  \n",
       "\n",
       "[4867 rows x 5 columns]"
      ]
     },
     "execution_count": 23,
     "metadata": {},
     "output_type": "execute_result"
    }
   ],
   "source": [
    "df.groupby('Nombre_producto').sum()"
   ]
  },
  {
   "cell_type": "code",
   "execution_count": null,
   "metadata": {},
   "outputs": [],
   "source": [
    "### Hay que chequear el nombre de producto AJUSTE 31"
   ]
  },
  {
   "cell_type": "code",
   "execution_count": 25,
   "metadata": {
    "tags": []
   },
   "outputs": [
    {
     "data": {
      "text/plain": [
       "Envase Veer 33cl                                        858\n",
       "Pan integral de espelta El árbol del pan 500 gr         758\n",
       "Pan integral de trigo El árbol del pan 500 gr           755\n",
       "Pan de cereales con semillas El árbol del pan 500 gr    752\n",
       "Pan blanco de trigo El árbol del pan 500 gr             748\n",
       "                                                       ... \n",
       "Bio Tamari . (Salsa De Soja) Vegetalia 250 Ml.            1\n",
       "Espirulina Vegetalia 120 Comprimidos.                     1\n",
       "Picles Variada Vegetalia 320g.                            1\n",
       "Picles Col Blanca Vegetalia 300g.                         1\n",
       "Miel roble Miel antonio simón 1 Kg                        1\n",
       "Name: Nombre_producto, Length: 4867, dtype: int64"
      ]
     },
     "execution_count": 25,
     "metadata": {},
     "output_type": "execute_result"
    }
   ],
   "source": [
    "df.Nombre_producto.value_counts()"
   ]
  },
  {
   "cell_type": "code",
   "execution_count": 32,
   "metadata": {
    "tags": []
   },
   "outputs": [
    {
     "data": {
      "text/plain": [
       "ID_producto            61992\n",
       "Nombre_producto        61992\n",
       "Categoria_producto    155712\n",
       "Tipo_producto         155712\n",
       "Proveedor_producto     93720\n",
       "Fecha_compra          155712\n",
       "Coste_compra          155712\n",
       "Cantidad_venta        173260\n",
       "Precio_medio_venta    173260\n",
       "Fecha_venta           173260\n",
       "Año_venta             173260\n",
       "Mes_venta             173260\n",
       "dtype: int64"
      ]
     },
     "execution_count": 32,
     "metadata": {},
     "output_type": "execute_result"
    }
   ],
   "source": [
    "df.isnull().sum()"
   ]
  },
  {
   "cell_type": "code",
   "execution_count": 39,
   "metadata": {
    "tags": []
   },
   "outputs": [
    {
     "data": {
      "text/plain": [
       "ID_producto                   object\n",
       "Nombre_producto               object\n",
       "Categoria_producto            object\n",
       "Tipo_producto                 object\n",
       "Proveedor_producto            object\n",
       "Fecha_compra          datetime64[ns]\n",
       "Coste_compra                 float64\n",
       "Cantidad_venta               float64\n",
       "Precio_medio_venta           float64\n",
       "Fecha_venta           datetime64[ns]\n",
       "Año_venta                    float64\n",
       "Mes_venta                    float64\n",
       "dtype: object"
      ]
     },
     "execution_count": 39,
     "metadata": {},
     "output_type": "execute_result"
    }
   ],
   "source": [
    "df.dtypes"
   ]
  },
  {
   "cell_type": "code",
   "execution_count": 35,
   "metadata": {
    "tags": []
   },
   "outputs": [],
   "source": [
    "df['Fecha_venta'] = pd.to_datetime(df['Fecha_venta'])"
   ]
  },
  {
   "cell_type": "code",
   "execution_count": 36,
   "metadata": {
    "tags": []
   },
   "outputs": [],
   "source": [
    "df['Fecha_compra'] = pd.to_datetime(df['Fecha_compra'])"
   ]
  },
  {
   "cell_type": "code",
   "execution_count": 41,
   "metadata": {
    "tags": []
   },
   "outputs": [
    {
     "name": "stderr",
     "output_type": "stream",
     "text": [
      "/Users/stephanievalderramacarmona/miniconda3/envs/osa/lib/python3.10/site-packages/pandas/core/arraylike.py:402: RuntimeWarning: divide by zero encountered in log1p\n",
      "  result = getattr(ufunc, method)(*inputs, **kwargs)\n",
      "/Users/stephanievalderramacarmona/miniconda3/envs/osa/lib/python3.10/site-packages/pandas/core/arraylike.py:402: RuntimeWarning: invalid value encountered in log1p\n",
      "  result = getattr(ufunc, method)(*inputs, **kwargs)\n"
     ]
    },
    {
     "data": {
      "text/plain": [
       "<Axes: xlabel='Cantidad_venta', ylabel='Count'>"
      ]
     },
     "execution_count": 41,
     "metadata": {},
     "output_type": "execute_result"
    },
    {
     "data": {
      "image/png": "[encoded data removed]",
      "text/plain": [
       "<Figure size 640x480 with 1 Axes>"
      ]
     },
     "metadata": {},
     "output_type": "display_data"
    }
   ],
   "source": [
    "sns.histplot(np.log1p(df['Cantidad_venta']), kde=True)"
   ]
  },
  {
   "cell_type": "code",
   "execution_count": 44,
   "metadata": {
    "tags": []
   },
   "outputs": [
    {
     "data": {
      "text/plain": [
       "<Axes: xlabel='Precio_medio_venta', ylabel='Count'>"
      ]
     },
     "execution_count": 44,
     "metadata": {},
     "output_type": "execute_result"
    },
    {
     "data": {
      "image/png": "[encoded data removed]",
      "text/plain": [
       "<Figure size 640x480 with 1 Axes>"
      ]
     },
     "metadata": {},
     "output_type": "display_data"
    }
   ],
   "source": [
    "sns.histplot(np.log1p(df['Precio_medio_venta']), kde=True)"
   ]
  },
  {
   "cell_type": "code",
   "execution_count": 45,
   "metadata": {
    "tags": []
   },
   "outputs": [
    {
     "data": {
      "text/plain": [
       "<Axes: xlabel='Coste_compra', ylabel='Count'>"
      ]
     },
     "execution_count": 45,
     "metadata": {},
     "output_type": "execute_result"
    },
    {
     "data": {
      "image/png": "[encoded data removed]",
      "text/plain": [
       "<Figure size 640x480 with 1 Axes>"
      ]
     },
     "metadata": {},
     "output_type": "display_data"
    }
   ],
   "source": [
    "sns.histplot(np.log1p(df['Coste_compra']), kde=True)"
   ]
  },
  {
   "cell_type": "markdown",
   "metadata": {},
   "source": [
    "### Visualizacion de los datos"
   ]
  },
  {
   "cell_type": "markdown",
   "metadata": {},
   "source": [
    "## Tal vez hay que convertir el tipo de producto en codigos:\n",
    "\n",
    "**1--> Eco**\n",
    "\n",
    "**2-->Convencional**\n",
    "\n",
    "**3--->False** -->revisar que significa esto de de False"
   ]
  },
  {
   "cell_type": "code",
   "execution_count": 46,
   "metadata": {
    "tags": []
   },
   "outputs": [
    {
     "name": "stdout",
     "output_type": "stream",
     "text": [
      "ID_producto --------------------------> 4851\n",
      "Nombre_producto --------------------------> 4867\n",
      "Categoria_producto --------------------------> 131\n",
      "Tipo_producto --------------------------> 3\n",
      "Proveedor_producto --------------------------> 132\n",
      "Fecha_compra --------------------------> 9026\n",
      "Coste_compra --------------------------> 1373\n",
      "Cantidad_venta --------------------------> 4840\n",
      "Precio_medio_venta --------------------------> 4070\n",
      "Fecha_venta --------------------------> 24\n",
      "Año_venta --------------------------> 2\n",
      "Mes_venta --------------------------> 12\n"
     ]
    }
   ],
   "source": [
    "for i in df.columns:\n",
    "    print('{} --------------------------> {}'.format(i, df[i].nunique()))"
   ]
  },
  {
   "cell_type": "code",
   "execution_count": 40,
   "metadata": {
    "tags": []
   },
   "outputs": [
    {
     "ename": "TypeError",
     "evalue": "no numeric data to plot",
     "output_type": "error",
     "traceback": [
      "\u001b[0;31m---------------------------------------------------------------------------\u001b[0m",
      "\u001b[0;31mTypeError\u001b[0m                                 Traceback (most recent call last)",
      "Cell \u001b[0;32mIn[40], line 2\u001b[0m\n\u001b[1;32m      1\u001b[0m product_type_sales_per_month \u001b[38;5;241m=\u001b[39m df\u001b[38;5;241m.\u001b[39mgroupby([\u001b[38;5;124m'\u001b[39m\u001b[38;5;124mFecha_venta\u001b[39m\u001b[38;5;124m'\u001b[39m, \u001b[38;5;124m'\u001b[39m\u001b[38;5;124mTipo_producto\u001b[39m\u001b[38;5;124m'\u001b[39m])\u001b[38;5;241m.\u001b[39maggregate({\u001b[38;5;124m'\u001b[39m\u001b[38;5;124mCantidad_venta\u001b[39m\u001b[38;5;124m'\u001b[39m: \u001b[38;5;124m'\u001b[39m\u001b[38;5;124msum\u001b[39m\u001b[38;5;124m'\u001b[39m})\u001b[38;5;241m.\u001b[39munstack()\u001b[38;5;241m.\u001b[39mresample(\u001b[38;5;124m'\u001b[39m\u001b[38;5;124m1M\u001b[39m\u001b[38;5;124m'\u001b[39m)\u001b[38;5;241m.\u001b[39msum()\n\u001b[0;32m----> 2\u001b[0m \u001b[43mproduct_type_sales_per_month\u001b[49m\u001b[38;5;241;43m.\u001b[39;49m\u001b[43mplot\u001b[49m\u001b[43m(\u001b[49m\u001b[43mfigsize\u001b[49m\u001b[38;5;241;43m=\u001b[39;49m\u001b[43m(\u001b[49m\u001b[38;5;241;43m21\u001b[39;49m\u001b[43m,\u001b[49m\u001b[38;5;241;43m5\u001b[39;49m\u001b[43m)\u001b[49m\u001b[43m)\u001b[49m\n\u001b[1;32m      3\u001b[0m plt\u001b[38;5;241m.\u001b[39mlegend(bbox_to_anchor\u001b[38;5;241m=\u001b[39m(\u001b[38;5;241m1\u001b[39m, \u001b[38;5;241m-\u001b[39m\u001b[38;5;241m.2\u001b[39m), ncol\u001b[38;5;241m=\u001b[39m\u001b[38;5;241m6\u001b[39m)\n\u001b[1;32m      4\u001b[0m plt\u001b[38;5;241m.\u001b[39mtitle(\u001b[38;5;124m\"\u001b[39m\u001b[38;5;124mproduct_type_sales_per_month\u001b[39m\u001b[38;5;124m\"\u001b[39m)\n",
      "File \u001b[0;32m~/miniconda3/envs/osa/lib/python3.10/site-packages/pandas/plotting/_core.py:1000\u001b[0m, in \u001b[0;36mPlotAccessor.__call__\u001b[0;34m(self, *args, **kwargs)\u001b[0m\n\u001b[1;32m    997\u001b[0m             label_name \u001b[38;5;241m=\u001b[39m label_kw \u001b[38;5;129;01mor\u001b[39;00m data\u001b[38;5;241m.\u001b[39mcolumns\n\u001b[1;32m    998\u001b[0m             data\u001b[38;5;241m.\u001b[39mcolumns \u001b[38;5;241m=\u001b[39m label_name\n\u001b[0;32m-> 1000\u001b[0m \u001b[38;5;28;01mreturn\u001b[39;00m \u001b[43mplot_backend\u001b[49m\u001b[38;5;241;43m.\u001b[39;49m\u001b[43mplot\u001b[49m\u001b[43m(\u001b[49m\u001b[43mdata\u001b[49m\u001b[43m,\u001b[49m\u001b[43m \u001b[49m\u001b[43mkind\u001b[49m\u001b[38;5;241;43m=\u001b[39;49m\u001b[43mkind\u001b[49m\u001b[43m,\u001b[49m\u001b[43m \u001b[49m\u001b[38;5;241;43m*\u001b[39;49m\u001b[38;5;241;43m*\u001b[39;49m\u001b[43mkwargs\u001b[49m\u001b[43m)\u001b[49m\n",
      "File \u001b[0;32m~/miniconda3/envs/osa/lib/python3.10/site-packages/pandas/plotting/_matplotlib/__init__.py:71\u001b[0m, in \u001b[0;36mplot\u001b[0;34m(data, kind, **kwargs)\u001b[0m\n\u001b[1;32m     69\u001b[0m         kwargs[\u001b[38;5;124m\"\u001b[39m\u001b[38;5;124max\u001b[39m\u001b[38;5;124m\"\u001b[39m] \u001b[38;5;241m=\u001b[39m \u001b[38;5;28mgetattr\u001b[39m(ax, \u001b[38;5;124m\"\u001b[39m\u001b[38;5;124mleft_ax\u001b[39m\u001b[38;5;124m\"\u001b[39m, ax)\n\u001b[1;32m     70\u001b[0m plot_obj \u001b[38;5;241m=\u001b[39m PLOT_CLASSES[kind](data, \u001b[38;5;241m*\u001b[39m\u001b[38;5;241m*\u001b[39mkwargs)\n\u001b[0;32m---> 71\u001b[0m \u001b[43mplot_obj\u001b[49m\u001b[38;5;241;43m.\u001b[39;49m\u001b[43mgenerate\u001b[49m\u001b[43m(\u001b[49m\u001b[43m)\u001b[49m\n\u001b[1;32m     72\u001b[0m plot_obj\u001b[38;5;241m.\u001b[39mdraw()\n\u001b[1;32m     73\u001b[0m \u001b[38;5;28;01mreturn\u001b[39;00m plot_obj\u001b[38;5;241m.\u001b[39mresult\n",
      "File \u001b[0;32m~/miniconda3/envs/osa/lib/python3.10/site-packages/pandas/plotting/_matplotlib/core.py:450\u001b[0m, in \u001b[0;36mMPLPlot.generate\u001b[0;34m(self)\u001b[0m\n\u001b[1;32m    448\u001b[0m \u001b[38;5;28;01mdef\u001b[39;00m \u001b[38;5;21mgenerate\u001b[39m(\u001b[38;5;28mself\u001b[39m) \u001b[38;5;241m-\u001b[39m\u001b[38;5;241m>\u001b[39m \u001b[38;5;28;01mNone\u001b[39;00m:\n\u001b[1;32m    449\u001b[0m     \u001b[38;5;28mself\u001b[39m\u001b[38;5;241m.\u001b[39m_args_adjust()\n\u001b[0;32m--> 450\u001b[0m     \u001b[38;5;28;43mself\u001b[39;49m\u001b[38;5;241;43m.\u001b[39;49m\u001b[43m_compute_plot_data\u001b[49m\u001b[43m(\u001b[49m\u001b[43m)\u001b[49m\n\u001b[1;32m    451\u001b[0m     \u001b[38;5;28mself\u001b[39m\u001b[38;5;241m.\u001b[39m_setup_subplots()\n\u001b[1;32m    452\u001b[0m     \u001b[38;5;28mself\u001b[39m\u001b[38;5;241m.\u001b[39m_make_plot()\n",
      "File \u001b[0;32m~/miniconda3/envs/osa/lib/python3.10/site-packages/pandas/plotting/_matplotlib/core.py:635\u001b[0m, in \u001b[0;36mMPLPlot._compute_plot_data\u001b[0;34m(self)\u001b[0m\n\u001b[1;32m    633\u001b[0m \u001b[38;5;66;03m# no non-numeric frames or series allowed\u001b[39;00m\n\u001b[1;32m    634\u001b[0m \u001b[38;5;28;01mif\u001b[39;00m is_empty:\n\u001b[0;32m--> 635\u001b[0m     \u001b[38;5;28;01mraise\u001b[39;00m \u001b[38;5;167;01mTypeError\u001b[39;00m(\u001b[38;5;124m\"\u001b[39m\u001b[38;5;124mno numeric data to plot\u001b[39m\u001b[38;5;124m\"\u001b[39m)\n\u001b[1;32m    637\u001b[0m \u001b[38;5;28mself\u001b[39m\u001b[38;5;241m.\u001b[39mdata \u001b[38;5;241m=\u001b[39m numeric_data\u001b[38;5;241m.\u001b[39mapply(\u001b[38;5;28mself\u001b[39m\u001b[38;5;241m.\u001b[39m_convert_to_ndarray)\n",
      "\u001b[0;31mTypeError\u001b[0m: no numeric data to plot"
     ]
    }
   ],
   "source": [
    "product_type_sales_per_month = df.groupby(['Fecha_venta', 'Tipo_producto']).aggregate({'Cantidad_venta': 'sum'}).unstack().resample('1M').sum()\n",
    "product_type_sales_per_month.plot(figsize=(21,5))\n",
    "plt.legend(bbox_to_anchor=(1, -.2), ncol=6)\n",
    "plt.title(\"product_type_sales_per_month\")"
   ]
  },
  {
   "cell_type": "code",
   "execution_count": 26,
   "metadata": {},
   "outputs": [
    {
     "data": {
      "text/plain": [
       "\"sns.lineplot(x='Fecha', y='Coste', data=precios_compra_2022, hue='Producto_nombre')\\nplt.xlabel('Fecha')\\nplt.ylabel('Coste')\\nplt.title('Coste del producto a lo largo del tiempo')\""
      ]
     },
     "execution_count": 26,
     "metadata": {},
     "output_type": "execute_result"
    }
   ],
   "source": [
    "# Utilizando seaborn\n",
    "'''sns.lineplot(x='Fecha', y='Coste', data=precios_compra_2022, hue='Producto_nombre')\n",
    "plt.xlabel('Fecha')\n",
    "plt.ylabel('Coste')\n",
    "plt.title('Coste del producto a lo largo del tiempo')'''"
   ]
  },
  {
   "cell_type": "code",
   "execution_count": 27,
   "metadata": {},
   "outputs": [
    {
     "data": {
      "image/png": "[encoded data removed]",
      "text/plain": [
       "<Figure size 432x288 with 1 Axes>"
      ]
     },
     "metadata": {
      "needs_background": "light"
     },
     "output_type": "display_data"
    }
   ],
   "source": [
    "plt.scatter(precios_compra_2022['Fecha'], precios_compra_2022['Coste'])\n",
    "plt.xlabel('Fecha')\n",
    "plt.ylabel('Coste')\n",
    "plt.title('Coste del producto a lo largo del tiempo')\n",
    "plt.show()"
   ]
  },
  {
   "cell_type": "markdown",
   "metadata": {},
   "source": [
    "## ASPECTOS ESENCIALES\n",
    "### 1. Analisis exploratorio de los datos\n",
    "### 2. Visualizacion de los datos en una herramienta interactiva de facil utilizacion\n",
    "\n",
    "\n",
    "\n",
    "## ASPECTOS OPCIONALES\n",
    "### 1. Predecir los valores de venta y /o de inflacion para los siguiente meses (o año)\n",
    "### 2. Analisis de series temporales "
   ]
  },
  {
   "cell_type": "markdown",
   "metadata": {},
   "source": [
    "## Asunciones de la primer reunión con el stakeholder\n",
    "* #### ¿A que precio compra la OSA sus productos?\n",
    "* #### ¿Hay algun producto, categoria o proveedor que los precios sean mas altos?\n",
    "* #### ¿Cual es la implicacion en la canasta del comprador, la subida de precios de los productos que compra la Osa?\n",
    "* #### Analizar los productos que mas se consumen en la cesta familiar y su precio (de compra y venta?)\n",
    "* #### Variacion de los precios de cada producto y cada categoría\n",
    "* #### ¿Cómo afecta esta variación de los productos en la compra de los usuarios?\n",
    "* #### Agrupar las comnpras por tipos de productos, categorías, tipo de comprador"
   ]
  },
  {
   "cell_type": "markdown",
   "metadata": {
    "tags": []
   },
   "source": [
    "## Se rellenan todos los nulos de las ventas con ceros --> de acuerdo a la reunion con el stakeholder"
   ]
  },
  {
   "cell_type": "markdown",
   "metadata": {},
   "source": [
    "nota: quitar corchetes y ceros de referencia interna para que queden igual a los de arriba"
   ]
  }
 ],
 "metadata": {
  "kernelspec": {
   "display_name": "Python 3 (ipykernel)",
   "language": "python",
   "name": "python3"
  },
  "language_info": {
   "codemirror_mode": {
    "name": "ipython",
    "version": 3
   },
   "file_extension": ".py",
   "mimetype": "text/x-python",
   "name": "python",
   "nbconvert_exporter": "python",
   "pygments_lexer": "ipython3",
   "version": "3.10.9"
  }
 },
 "nbformat": 4,
 "nbformat_minor": 4
}
