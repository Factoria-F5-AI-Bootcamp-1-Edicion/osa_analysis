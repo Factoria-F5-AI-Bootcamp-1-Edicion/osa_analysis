{
 "cells": [
  {
   "cell_type": "markdown",
   "metadata": {},
   "source": [
    "# Análsis Exploraotio de precios de compras y ventas Supermercado La Osa - Madrid"
   ]
  },
  {
   "cell_type": "code",
   "execution_count": 2,
   "metadata": {
    "collapsed": false,
    "jupyter": {
     "outputs_hidden": false
    },
    "tags": []
   },
   "outputs": [],
   "source": [
    "import pandas as pd\n",
    "import seaborn as sns\n",
    "import numpy as np\n",
    "import matplotlib.pyplot as plt\n",
    "from datetime import datetime"
   ]
  },
  {
   "cell_type": "markdown",
   "metadata": {
    "tags": []
   },
   "source": [
    "### Importamos los datasets"
   ]
  },
  {
   "cell_type": "code",
   "execution_count": 3,
   "metadata": {},
   "outputs": [],
   "source": [
    "#pip install xlrd\n"
   ]
  },
  {
   "cell_type": "markdown",
   "metadata": {},
   "source": [
    "# Datos de compras de productos"
   ]
  },
  {
   "cell_type": "code",
   "execution_count": 4,
   "metadata": {
    "collapsed": false,
    "jupyter": {
     "outputs_hidden": false
    },
    "tags": []
   },
   "outputs": [],
   "source": [
    "#Datasets de compra de productos a proveedores 2021-2022\n",
    "precio_enejun= pd.read_excel(\"Evolución_precio_enerojunio22.xls\")\n",
    "precio_juldic= pd.read_excel(\"Evolución_precio_juliodiciembre22.xls\")\n",
    "precio_2021= pd.read_excel(\"Price_history_2021.xls\")\n",
    "precio_2022= pd.read_excel(\"Price_history_122022.xls\")"
   ]
  },
  {
   "cell_type": "markdown",
   "metadata": {},
   "source": [
    "# Datos de ventas de productos"
   ]
  },
  {
   "cell_type": "code",
   "execution_count": 5,
   "metadata": {
    "tags": []
   },
   "outputs": [],
   "source": [
    "#Datasets de venta de productis al publico 2021-2022\n",
    "ventas_2021= pd.read_excel(\"inflacion_osa_2021.xls\")\n",
    "ventas_2022= pd.read_excel(\"inflacion_osa_2022.xls\")\n",
    "ejemplo_ventas= pd.read_excel(\"ejemplo_tabla_ventas.xls\")"
   ]
  },
  {
   "cell_type": "markdown",
   "metadata": {},
   "source": [
    "### Exploramos los datasets de precio\n",
    "* `Price_history_122022.xls` -->Hay información de Diciembre del 2022, la cual aparentemente ya está en el archivo `Evolución_precio_juliodiciembre22.xls`\n",
    "* Tenemos que corroborar si esta es informacion adicional del mes de Diciembre del 2022 o es información duplicada (Preguntar al Stakeholder)\n",
    "* El supermercado comenzó en el año 2020 --> Preguntar si hay información de Dicembre 2020\n",
    "* ¿Puede haber erro en los nombres de los archivos?"
   ]
  },
  {
   "cell_type": "markdown",
   "metadata": {
    "tags": []
   },
   "source": [
    "### Precios de Compra de Productos a Proveedores\n",
    "* Se revisan los archivos:\n",
    "\n",
    "`Evolución_precio_enerojunio22.xls` \n",
    "\n",
    "`Evolución_precio_juliodiciembre22.xls`\n",
    "\n",
    "`Price_history_2021.xls`\n",
    "\n",
    "`Price_history_122022.xls`\n",
    "\n",
    "\n"
   ]
  },
  {
   "cell_type": "code",
   "execution_count": 6,
   "metadata": {
    "collapsed": false,
    "jupyter": {
     "outputs_hidden": false
    },
    "tags": []
   },
   "outputs": [
    {
     "name": "stdout",
     "output_type": "stream",
     "text": [
      "<class 'pandas.core.frame.DataFrame'>\n",
      "RangeIndex: 33361 entries, 0 to 33360\n",
      "Data columns (total 8 columns):\n",
      " #   Column                                                  Non-Null Count  Dtype         \n",
      "---  ------                                                  --------------  -----         \n",
      " 0   External ID                                             21005 non-null  object        \n",
      " 1   Producto/Nombre                                         21005 non-null  object        \n",
      " 2   Coste                                                   21005 non-null  float64       \n",
      " 3   Fecha                                                   21005 non-null  datetime64[ns]\n",
      " 4   Producto/Cuenta analítica para gastos/Nombre a mostrar  21005 non-null  object        \n",
      " 5   Producto/Referencia interna                             21005 non-null  float64       \n",
      " 6   Producto/Proveedores/Nombre a mostrar                   33361 non-null  object        \n",
      " 7   Producto/Categoría de producto/Nombre a mostrar         21005 non-null  object        \n",
      "dtypes: datetime64[ns](1), float64(2), object(5)\n",
      "memory usage: 2.0+ MB\n"
     ]
    }
   ],
   "source": [
    "precio_enejun.info()"
   ]
  },
  {
   "cell_type": "code",
   "execution_count": 7,
   "metadata": {
    "collapsed": false,
    "jupyter": {
     "outputs_hidden": false
    },
    "tags": []
   },
   "outputs": [
    {
     "name": "stdout",
     "output_type": "stream",
     "text": [
      "<class 'pandas.core.frame.DataFrame'>\n",
      "RangeIndex: 24783 entries, 0 to 24782\n",
      "Data columns (total 8 columns):\n",
      " #   Column                                                  Non-Null Count  Dtype         \n",
      "---  ------                                                  --------------  -----         \n",
      " 0   External ID                                             16217 non-null  object        \n",
      " 1   Producto/Nombre                                         16217 non-null  object        \n",
      " 2   Coste                                                   16217 non-null  float64       \n",
      " 3   Fecha                                                   16217 non-null  datetime64[ns]\n",
      " 4   Producto/Cuenta analítica para gastos/Nombre a mostrar  16217 non-null  object        \n",
      " 5   Producto/Referencia interna                             16217 non-null  float64       \n",
      " 6   Producto/Proveedores/Nombre a mostrar                   24783 non-null  object        \n",
      " 7   Producto/Categoría de producto/Nombre a mostrar         16217 non-null  object        \n",
      "dtypes: datetime64[ns](1), float64(2), object(5)\n",
      "memory usage: 1.5+ MB\n"
     ]
    }
   ],
   "source": [
    "precio_juldic.info()"
   ]
  },
  {
   "cell_type": "code",
   "execution_count": 8,
   "metadata": {},
   "outputs": [
    {
     "name": "stdout",
     "output_type": "stream",
     "text": [
      "<class 'pandas.core.frame.DataFrame'>\n",
      "RangeIndex: 57558 entries, 0 to 57557\n",
      "Data columns (total 8 columns):\n",
      " #   Column                                                  Non-Null Count  Dtype         \n",
      "---  ------                                                  --------------  -----         \n",
      " 0   External ID                                             37023 non-null  object        \n",
      " 1   Producto/Nombre                                         37023 non-null  object        \n",
      " 2   Coste                                                   37023 non-null  float64       \n",
      " 3   Fecha                                                   37023 non-null  datetime64[ns]\n",
      " 4   Producto/Cuenta analítica para gastos/Nombre a mostrar  37023 non-null  object        \n",
      " 5   Producto/Referencia interna                             37023 non-null  float64       \n",
      " 6   Producto/Proveedores/Nombre a mostrar                   57558 non-null  object        \n",
      " 7   Producto/Categoría de producto/Nombre a mostrar         37023 non-null  object        \n",
      "dtypes: datetime64[ns](1), float64(2), object(5)\n",
      "memory usage: 3.5+ MB\n"
     ]
    }
   ],
   "source": [
    "precio_2021.info()"
   ]
  },
  {
   "cell_type": "code",
   "execution_count": 9,
   "metadata": {
    "tags": []
   },
   "outputs": [
    {
     "name": "stdout",
     "output_type": "stream",
     "text": [
      "<class 'pandas.core.frame.DataFrame'>\n",
      "RangeIndex: 4254 entries, 0 to 4253\n",
      "Data columns (total 8 columns):\n",
      " #   Column                                                  Non-Null Count  Dtype         \n",
      "---  ------                                                  --------------  -----         \n",
      " 0   External ID                                             2809 non-null   object        \n",
      " 1   Producto/Nombre                                         2809 non-null   object        \n",
      " 2   Coste                                                   2809 non-null   float64       \n",
      " 3   Fecha                                                   2809 non-null   datetime64[ns]\n",
      " 4   Producto/Cuenta analítica para gastos/Nombre a mostrar  2809 non-null   object        \n",
      " 5   Producto/Referencia interna                             2809 non-null   float64       \n",
      " 6   Producto/Proveedores/Nombre a mostrar                   4254 non-null   object        \n",
      " 7   Producto/Categoría de producto/Nombre a mostrar         2809 non-null   object        \n",
      "dtypes: datetime64[ns](1), float64(2), object(5)\n",
      "memory usage: 266.0+ KB\n"
     ]
    }
   ],
   "source": [
    "precio_2022.info()"
   ]
  },
  {
   "cell_type": "markdown",
   "metadata": {},
   "source": [
    "> #### Los 4 archivos de precios de compra tienen las mismas 8 columnas.\n",
    "> #### Se concatenarán los 4 archivos en un solo dataframe `precios_compra_2022` para su manipulación.\n",
    "\n",
    "> #### Las columnas o variables:\n",
    "\n",
    "* External ID\n",
    "* Producto/Nombre\n",
    "* Coste\n",
    "* Fecha\n",
    "* Producto/Cuenta analítica para gastos/Nombre a mostrar\n",
    "* Producto/Referencia interna\n",
    "* Producto/Proveedores/Nombre a mostrar\n",
    "* Producto/Categoría de producto/Nombre a mostrar\n"
   ]
  },
  {
   "cell_type": "code",
   "execution_count": 10,
   "metadata": {
    "tags": []
   },
   "outputs": [
    {
     "name": "stdout",
     "output_type": "stream",
     "text": [
      "<class 'pandas.core.frame.DataFrame'>\n",
      "Int64Index: 173260 entries, 0 to 57557\n",
      "Data columns (total 8 columns):\n",
      " #   Column                                                  Non-Null Count   Dtype         \n",
      "---  ------                                                  --------------   -----         \n",
      " 0   External ID                                             111268 non-null  object        \n",
      " 1   Producto/Nombre                                         111268 non-null  object        \n",
      " 2   Coste                                                   111268 non-null  float64       \n",
      " 3   Fecha                                                   111268 non-null  datetime64[ns]\n",
      " 4   Producto/Cuenta analítica para gastos/Nombre a mostrar  111268 non-null  object        \n",
      " 5   Producto/Referencia interna                             111268 non-null  float64       \n",
      " 6   Producto/Proveedores/Nombre a mostrar                   173260 non-null  object        \n",
      " 7   Producto/Categoría de producto/Nombre a mostrar         111268 non-null  object        \n",
      "dtypes: datetime64[ns](1), float64(2), object(5)\n",
      "memory usage: 11.9+ MB\n"
     ]
    }
   ],
   "source": [
    "precios_compra_2022 = pd.concat([precio_enejun, precio_juldic,precio_2021,precio_2021])\n",
    "precios_compra_2022.info()\n"
   ]
  },
  {
   "cell_type": "code",
   "execution_count": 11,
   "metadata": {
    "tags": []
   },
   "outputs": [
    {
     "data": {
      "text/plain": [
       "Index(['External ID', 'Producto/Nombre', 'Coste', 'Fecha',\n",
       "       'Producto/Cuenta analítica para gastos/Nombre a mostrar',\n",
       "       'Producto/Referencia interna', 'Producto/Proveedores/Nombre a mostrar',\n",
       "       'Producto/Categoría de producto/Nombre a mostrar'],\n",
       "      dtype='object')"
      ]
     },
     "execution_count": 11,
     "metadata": {},
     "output_type": "execute_result"
    }
   ],
   "source": [
    "precios_compra_2022.columns"
   ]
  },
  {
   "cell_type": "markdown",
   "metadata": {},
   "source": [
    "### Renombramos las columnas para que sea más fácil su manipulación"
   ]
  },
  {
   "cell_type": "code",
   "execution_count": 12,
   "metadata": {
    "tags": []
   },
   "outputs": [],
   "source": [
    "precios_compra_2022.rename(columns={'External ID':'External_ID',\n",
    "                              'Producto/Nombre':'Producto_nombre', \n",
    "                              'Coste':'Coste',\n",
    "                             'Fecha':'Fecha', \n",
    "                              'Producto/Cuenta analítica para gastos/Nombre a mostrar':'Producto_nombre_publico',\n",
    "                             'Producto/Referencia interna':'Producto_Referencia_interna', \n",
    "                              'Producto/Proveedores/Nombre a mostrar':'Producto_Proveedores_publico',\n",
    "                              'Producto/Categoría de producto/Nombre a mostrar':'Producto_Categoría_publico'\n",
    "                             }, inplace=True)"
   ]
  },
  {
   "cell_type": "markdown",
   "metadata": {
    "tags": []
   },
   "source": [
    "### Ordenamos los valores por fecha"
   ]
  },
  {
   "cell_type": "code",
   "execution_count": 13,
   "metadata": {
    "jupyter": {
     "source_hidden": true
    },
    "tags": []
   },
   "outputs": [
    {
     "data": {
      "text/html": [
       "<div>\n",
       "<style scoped>\n",
       "    .dataframe tbody tr th:only-of-type {\n",
       "        vertical-align: middle;\n",
       "    }\n",
       "\n",
       "    .dataframe tbody tr th {\n",
       "        vertical-align: top;\n",
       "    }\n",
       "\n",
       "    .dataframe thead th {\n",
       "        text-align: right;\n",
       "    }\n",
       "</style>\n",
       "<table border=\"1\" class=\"dataframe\">\n",
       "  <thead>\n",
       "    <tr style=\"text-align: right;\">\n",
       "      <th></th>\n",
       "      <th>External_ID</th>\n",
       "      <th>Producto_nombre</th>\n",
       "      <th>Coste</th>\n",
       "      <th>Fecha</th>\n",
       "      <th>Producto_nombre_publico</th>\n",
       "      <th>Producto_Referencia_interna</th>\n",
       "      <th>Producto_Proveedores_publico</th>\n",
       "      <th>Producto_Categoría_publico</th>\n",
       "    </tr>\n",
       "  </thead>\n",
       "  <tbody>\n",
       "    <tr>\n",
       "      <th>57557</th>\n",
       "      <td>__export__.product_price_history_17315_175465d1</td>\n",
       "      <td>Gofio maíz bio La Piña 500 gr</td>\n",
       "      <td>1.81</td>\n",
       "      <td>2021-01-01 12:18:55</td>\n",
       "      <td>Eco</td>\n",
       "      <td>6129.0</td>\n",
       "      <td>(BIOGRAN) BIOGRAN S.L.</td>\n",
       "      <td>Seco Envasado / Panes, harinas / Harinas</td>\n",
       "    </tr>\n",
       "    <tr>\n",
       "      <th>57557</th>\n",
       "      <td>__export__.product_price_history_17315_175465d1</td>\n",
       "      <td>Gofio maíz bio La Piña 500 gr</td>\n",
       "      <td>1.81</td>\n",
       "      <td>2021-01-01 12:18:55</td>\n",
       "      <td>Eco</td>\n",
       "      <td>6129.0</td>\n",
       "      <td>(BIOGRAN) BIOGRAN S.L.</td>\n",
       "      <td>Seco Envasado / Panes, harinas / Harinas</td>\n",
       "    </tr>\n",
       "    <tr>\n",
       "      <th>57556</th>\n",
       "      <td>__export__.product_price_history_17316_a7765be4</td>\n",
       "      <td>Copos amaranto bio El Granero Integral 250 gr</td>\n",
       "      <td>2.21</td>\n",
       "      <td>2021-01-01 12:22:37</td>\n",
       "      <td>Eco</td>\n",
       "      <td>3732.0</td>\n",
       "      <td>(BIOGRAN) BIOGRAN S.L.</td>\n",
       "      <td>Seco Envasado / Cereales y semillas / Cereales</td>\n",
       "    </tr>\n",
       "    <tr>\n",
       "      <th>57556</th>\n",
       "      <td>__export__.product_price_history_17316_a7765be4</td>\n",
       "      <td>Copos amaranto bio El Granero Integral 250 gr</td>\n",
       "      <td>2.21</td>\n",
       "      <td>2021-01-01 12:22:37</td>\n",
       "      <td>Eco</td>\n",
       "      <td>3732.0</td>\n",
       "      <td>(BIOGRAN) BIOGRAN S.L.</td>\n",
       "      <td>Seco Envasado / Cereales y semillas / Cereales</td>\n",
       "    </tr>\n",
       "    <tr>\n",
       "      <th>57555</th>\n",
       "      <td>__export__.product_price_history_17317_607ad568</td>\n",
       "      <td>Copos 5 cereales bio El Granero Integral 500 gr</td>\n",
       "      <td>1.37</td>\n",
       "      <td>2021-01-01 12:23:33</td>\n",
       "      <td>Eco</td>\n",
       "      <td>3733.0</td>\n",
       "      <td>(BIOGRAN) BIOGRAN S.L.</td>\n",
       "      <td>Seco Envasado / Desayunos y merienda / Cereales</td>\n",
       "    </tr>\n",
       "    <tr>\n",
       "      <th>...</th>\n",
       "      <td>...</td>\n",
       "      <td>...</td>\n",
       "      <td>...</td>\n",
       "      <td>...</td>\n",
       "      <td>...</td>\n",
       "      <td>...</td>\n",
       "      <td>...</td>\n",
       "      <td>...</td>\n",
       "    </tr>\n",
       "    <tr>\n",
       "      <th>57539</th>\n",
       "      <td>NaN</td>\n",
       "      <td>NaN</td>\n",
       "      <td>NaN</td>\n",
       "      <td>NaT</td>\n",
       "      <td>NaN</td>\n",
       "      <td>NaN</td>\n",
       "      <td>(EL ARBOL DEL PAN) SEBASTIAN GONZALEZ LOPEZ</td>\n",
       "      <td>NaN</td>\n",
       "    </tr>\n",
       "    <tr>\n",
       "      <th>57541</th>\n",
       "      <td>NaN</td>\n",
       "      <td>NaN</td>\n",
       "      <td>NaN</td>\n",
       "      <td>NaT</td>\n",
       "      <td>NaN</td>\n",
       "      <td>NaN</td>\n",
       "      <td>(EL ARBOL DEL PAN) EL ARBOL DEL PAN S.L.</td>\n",
       "      <td>NaN</td>\n",
       "    </tr>\n",
       "    <tr>\n",
       "      <th>57543</th>\n",
       "      <td>NaN</td>\n",
       "      <td>NaN</td>\n",
       "      <td>NaN</td>\n",
       "      <td>NaT</td>\n",
       "      <td>NaN</td>\n",
       "      <td>NaN</td>\n",
       "      <td>(EL ARBOL DEL PAN) SEBASTIAN GONZALEZ LOPEZ</td>\n",
       "      <td>NaN</td>\n",
       "    </tr>\n",
       "    <tr>\n",
       "      <th>57545</th>\n",
       "      <td>NaN</td>\n",
       "      <td>NaN</td>\n",
       "      <td>NaN</td>\n",
       "      <td>NaT</td>\n",
       "      <td>NaN</td>\n",
       "      <td>NaN</td>\n",
       "      <td>(EL ARBOL DEL PAN) EL ARBOL DEL PAN S.L.</td>\n",
       "      <td>NaN</td>\n",
       "    </tr>\n",
       "    <tr>\n",
       "      <th>57547</th>\n",
       "      <td>NaN</td>\n",
       "      <td>NaN</td>\n",
       "      <td>NaN</td>\n",
       "      <td>NaT</td>\n",
       "      <td>NaN</td>\n",
       "      <td>NaN</td>\n",
       "      <td>(EL ARBOL DEL PAN) SEBASTIAN GONZALEZ LOPEZ</td>\n",
       "      <td>NaN</td>\n",
       "    </tr>\n",
       "  </tbody>\n",
       "</table>\n",
       "<p>173260 rows × 8 columns</p>\n",
       "</div>"
      ],
      "text/plain": [
       "                                           External_ID  \\\n",
       "57557  __export__.product_price_history_17315_175465d1   \n",
       "57557  __export__.product_price_history_17315_175465d1   \n",
       "57556  __export__.product_price_history_17316_a7765be4   \n",
       "57556  __export__.product_price_history_17316_a7765be4   \n",
       "57555  __export__.product_price_history_17317_607ad568   \n",
       "...                                                ...   \n",
       "57539                                              NaN   \n",
       "57541                                              NaN   \n",
       "57543                                              NaN   \n",
       "57545                                              NaN   \n",
       "57547                                              NaN   \n",
       "\n",
       "                                       Producto_nombre  Coste  \\\n",
       "57557                    Gofio maíz bio La Piña 500 gr   1.81   \n",
       "57557                    Gofio maíz bio La Piña 500 gr   1.81   \n",
       "57556    Copos amaranto bio El Granero Integral 250 gr   2.21   \n",
       "57556    Copos amaranto bio El Granero Integral 250 gr   2.21   \n",
       "57555  Copos 5 cereales bio El Granero Integral 500 gr   1.37   \n",
       "...                                                ...    ...   \n",
       "57539                                              NaN    NaN   \n",
       "57541                                              NaN    NaN   \n",
       "57543                                              NaN    NaN   \n",
       "57545                                              NaN    NaN   \n",
       "57547                                              NaN    NaN   \n",
       "\n",
       "                    Fecha Producto_nombre_publico  \\\n",
       "57557 2021-01-01 12:18:55                     Eco   \n",
       "57557 2021-01-01 12:18:55                     Eco   \n",
       "57556 2021-01-01 12:22:37                     Eco   \n",
       "57556 2021-01-01 12:22:37                     Eco   \n",
       "57555 2021-01-01 12:23:33                     Eco   \n",
       "...                   ...                     ...   \n",
       "57539                 NaT                     NaN   \n",
       "57541                 NaT                     NaN   \n",
       "57543                 NaT                     NaN   \n",
       "57545                 NaT                     NaN   \n",
       "57547                 NaT                     NaN   \n",
       "\n",
       "       Producto_Referencia_interna  \\\n",
       "57557                       6129.0   \n",
       "57557                       6129.0   \n",
       "57556                       3732.0   \n",
       "57556                       3732.0   \n",
       "57555                       3733.0   \n",
       "...                            ...   \n",
       "57539                          NaN   \n",
       "57541                          NaN   \n",
       "57543                          NaN   \n",
       "57545                          NaN   \n",
       "57547                          NaN   \n",
       "\n",
       "                      Producto_Proveedores_publico  \\\n",
       "57557                       (BIOGRAN) BIOGRAN S.L.   \n",
       "57557                       (BIOGRAN) BIOGRAN S.L.   \n",
       "57556                       (BIOGRAN) BIOGRAN S.L.   \n",
       "57556                       (BIOGRAN) BIOGRAN S.L.   \n",
       "57555                       (BIOGRAN) BIOGRAN S.L.   \n",
       "...                                            ...   \n",
       "57539  (EL ARBOL DEL PAN) SEBASTIAN GONZALEZ LOPEZ   \n",
       "57541     (EL ARBOL DEL PAN) EL ARBOL DEL PAN S.L.   \n",
       "57543  (EL ARBOL DEL PAN) SEBASTIAN GONZALEZ LOPEZ   \n",
       "57545     (EL ARBOL DEL PAN) EL ARBOL DEL PAN S.L.   \n",
       "57547  (EL ARBOL DEL PAN) SEBASTIAN GONZALEZ LOPEZ   \n",
       "\n",
       "                            Producto_Categoría_publico  \n",
       "57557         Seco Envasado / Panes, harinas / Harinas  \n",
       "57557         Seco Envasado / Panes, harinas / Harinas  \n",
       "57556   Seco Envasado / Cereales y semillas / Cereales  \n",
       "57556   Seco Envasado / Cereales y semillas / Cereales  \n",
       "57555  Seco Envasado / Desayunos y merienda / Cereales  \n",
       "...                                                ...  \n",
       "57539                                              NaN  \n",
       "57541                                              NaN  \n",
       "57543                                              NaN  \n",
       "57545                                              NaN  \n",
       "57547                                              NaN  \n",
       "\n",
       "[173260 rows x 8 columns]"
      ]
     },
     "execution_count": 13,
     "metadata": {},
     "output_type": "execute_result"
    }
   ],
   "source": [
    "precios_compra_2022 = precios_compra_2022.sort_values(by='Fecha')\n",
    "precios_compra_2022"
   ]
  },
  {
   "cell_type": "code",
   "execution_count": 14,
   "metadata": {
    "jupyter": {
     "source_hidden": true
    },
    "tags": []
   },
   "outputs": [
    {
     "name": "stdout",
     "output_type": "stream",
     "text": [
      "<class 'pandas.core.frame.DataFrame'>\n",
      "Int64Index: 173260 entries, 57557 to 57547\n",
      "Data columns (total 8 columns):\n",
      " #   Column                        Non-Null Count   Dtype         \n",
      "---  ------                        --------------   -----         \n",
      " 0   External_ID                   111268 non-null  object        \n",
      " 1   Producto_nombre               111268 non-null  object        \n",
      " 2   Coste                         111268 non-null  float64       \n",
      " 3   Fecha                         111268 non-null  datetime64[ns]\n",
      " 4   Producto_nombre_publico       111268 non-null  object        \n",
      " 5   Producto_Referencia_interna   111268 non-null  float64       \n",
      " 6   Producto_Proveedores_publico  173260 non-null  object        \n",
      " 7   Producto_Categoría_publico    111268 non-null  object        \n",
      "dtypes: datetime64[ns](1), float64(2), object(5)\n",
      "memory usage: 11.9+ MB\n"
     ]
    }
   ],
   "source": [
    "precios_compra_2022.info()"
   ]
  },
  {
   "cell_type": "markdown",
   "metadata": {},
   "source": [
    "### Revisamos que si hay valores duplicados en los dataset de compra de productos para el mes de Diciembre de 2022."
   ]
  },
  {
   "cell_type": "code",
   "execution_count": 15,
   "metadata": {
    "tags": []
   },
   "outputs": [
    {
     "data": {
      "text/html": [
       "<div>\n",
       "<style scoped>\n",
       "    .dataframe tbody tr th:only-of-type {\n",
       "        vertical-align: middle;\n",
       "    }\n",
       "\n",
       "    .dataframe tbody tr th {\n",
       "        vertical-align: top;\n",
       "    }\n",
       "\n",
       "    .dataframe thead th {\n",
       "        text-align: right;\n",
       "    }\n",
       "</style>\n",
       "<table border=\"1\" class=\"dataframe\">\n",
       "  <thead>\n",
       "    <tr style=\"text-align: right;\">\n",
       "      <th></th>\n",
       "      <th>External_ID</th>\n",
       "      <th>Producto_nombre</th>\n",
       "      <th>Coste</th>\n",
       "      <th>Fecha</th>\n",
       "      <th>Producto_nombre_publico</th>\n",
       "      <th>Producto_Referencia_interna</th>\n",
       "      <th>Producto_Proveedores_publico</th>\n",
       "      <th>Producto_Categoría_publico</th>\n",
       "    </tr>\n",
       "  </thead>\n",
       "  <tbody>\n",
       "    <tr>\n",
       "      <th>52632</th>\n",
       "      <td>__export__.product_price_history_20750_5ef29dee</td>\n",
       "      <td>Yogur desnatado vainilla Casa grande xanceda 2...</td>\n",
       "      <td>1.45</td>\n",
       "      <td>2021-02-04 14:38:32</td>\n",
       "      <td>Eco</td>\n",
       "      <td>1559.0</td>\n",
       "      <td>(CASA GRANDE XANCEDA) CASA GRANDE DE XANCEDA S.L.</td>\n",
       "      <td>Resto Producto Fresco / Leche, zumos, producto...</td>\n",
       "    </tr>\n",
       "    <tr>\n",
       "      <th>52632</th>\n",
       "      <td>__export__.product_price_history_20750_5ef29dee</td>\n",
       "      <td>Yogur desnatado vainilla Casa grande xanceda 2...</td>\n",
       "      <td>1.45</td>\n",
       "      <td>2021-02-04 14:38:32</td>\n",
       "      <td>Eco</td>\n",
       "      <td>1559.0</td>\n",
       "      <td>(CASA GRANDE XANCEDA) CASA GRANDE DE XANCEDA S.L.</td>\n",
       "      <td>Resto Producto Fresco / Leche, zumos, producto...</td>\n",
       "    </tr>\n",
       "    <tr>\n",
       "      <th>50411</th>\n",
       "      <td>__export__.product_price_history_23664_d513e609</td>\n",
       "      <td>Yogur desnatado vainilla Casa grande xanceda 2...</td>\n",
       "      <td>1.45</td>\n",
       "      <td>2021-02-17 10:48:40</td>\n",
       "      <td>Eco</td>\n",
       "      <td>1559.0</td>\n",
       "      <td>(CASA GRANDE XANCEDA) CASA GRANDE DE XANCEDA S.L.</td>\n",
       "      <td>Resto Producto Fresco / Leche, zumos, producto...</td>\n",
       "    </tr>\n",
       "    <tr>\n",
       "      <th>50411</th>\n",
       "      <td>__export__.product_price_history_23664_d513e609</td>\n",
       "      <td>Yogur desnatado vainilla Casa grande xanceda 2...</td>\n",
       "      <td>1.45</td>\n",
       "      <td>2021-02-17 10:48:40</td>\n",
       "      <td>Eco</td>\n",
       "      <td>1559.0</td>\n",
       "      <td>(CASA GRANDE XANCEDA) CASA GRANDE DE XANCEDA S.L.</td>\n",
       "      <td>Resto Producto Fresco / Leche, zumos, producto...</td>\n",
       "    </tr>\n",
       "    <tr>\n",
       "      <th>48590</th>\n",
       "      <td>__export__.product_price_history_24956_2f82915f</td>\n",
       "      <td>Yogur desnatado vainilla Casa grande xanceda 2...</td>\n",
       "      <td>1.45</td>\n",
       "      <td>2021-03-02 12:11:16</td>\n",
       "      <td>Eco</td>\n",
       "      <td>1559.0</td>\n",
       "      <td>(CASA GRANDE XANCEDA) CASA GRANDE DE XANCEDA S.L.</td>\n",
       "      <td>Resto Producto Fresco / Leche, zumos, producto...</td>\n",
       "    </tr>\n",
       "    <tr>\n",
       "      <th>...</th>\n",
       "      <td>...</td>\n",
       "      <td>...</td>\n",
       "      <td>...</td>\n",
       "      <td>...</td>\n",
       "      <td>...</td>\n",
       "      <td>...</td>\n",
       "      <td>...</td>\n",
       "      <td>...</td>\n",
       "    </tr>\n",
       "    <tr>\n",
       "      <th>11712</th>\n",
       "      <td>__export__.product_price_history_87371_bf9be6b3</td>\n",
       "      <td>Yogur desnatado vainilla Casa grande xanceda 2...</td>\n",
       "      <td>1.45</td>\n",
       "      <td>2022-10-04 11:01:07</td>\n",
       "      <td>Eco</td>\n",
       "      <td>1559.0</td>\n",
       "      <td>(CASA GRANDE XANCEDA) CASA GRANDE DE XANCEDA S.L.</td>\n",
       "      <td>Resto Producto Fresco / Leche, zumos, producto...</td>\n",
       "    </tr>\n",
       "    <tr>\n",
       "      <th>9416</th>\n",
       "      <td>__export__.product_price_history_89042_40e3206f</td>\n",
       "      <td>Yogur desnatado vainilla Casa grande xanceda 2...</td>\n",
       "      <td>1.45</td>\n",
       "      <td>2022-10-18 11:07:36</td>\n",
       "      <td>Eco</td>\n",
       "      <td>1559.0</td>\n",
       "      <td>(CASA GRANDE XANCEDA) CASA GRANDE DE XANCEDA S.L.</td>\n",
       "      <td>Resto Producto Fresco / Leche, zumos, producto...</td>\n",
       "    </tr>\n",
       "    <tr>\n",
       "      <th>7856</th>\n",
       "      <td>__export__.product_price_history_90044_5da42c4b</td>\n",
       "      <td>Yogur desnatado vainilla Casa grande xanceda 2...</td>\n",
       "      <td>1.45</td>\n",
       "      <td>2022-10-27 08:49:33</td>\n",
       "      <td>Eco</td>\n",
       "      <td>1559.0</td>\n",
       "      <td>(CASA GRANDE XANCEDA) CASA GRANDE DE XANCEDA S.L.</td>\n",
       "      <td>Resto Producto Fresco / Leche, zumos, producto...</td>\n",
       "    </tr>\n",
       "    <tr>\n",
       "      <th>4249</th>\n",
       "      <td>__export__.product_price_history_92400_f9738168</td>\n",
       "      <td>Yogur desnatado vainilla Casa grande xanceda 2...</td>\n",
       "      <td>1.45</td>\n",
       "      <td>2022-11-17 11:41:15</td>\n",
       "      <td>Eco</td>\n",
       "      <td>1559.0</td>\n",
       "      <td>(CASA GRANDE XANCEDA) CASA GRANDE DE XANCEDA S.L.</td>\n",
       "      <td>Resto Producto Fresco / Leche, zumos, producto...</td>\n",
       "    </tr>\n",
       "    <tr>\n",
       "      <th>1324</th>\n",
       "      <td>__export__.product_price_history_94435_e43798c8</td>\n",
       "      <td>Yogur desnatado vainilla Casa grande xanceda 2...</td>\n",
       "      <td>1.45</td>\n",
       "      <td>2022-12-03 10:10:18</td>\n",
       "      <td>Eco</td>\n",
       "      <td>1559.0</td>\n",
       "      <td>(CASA GRANDE XANCEDA) CASA GRANDE DE XANCEDA S.L.</td>\n",
       "      <td>Resto Producto Fresco / Leche, zumos, producto...</td>\n",
       "    </tr>\n",
       "  </tbody>\n",
       "</table>\n",
       "<p>81 rows × 8 columns</p>\n",
       "</div>"
      ],
      "text/plain": [
       "                                           External_ID  \\\n",
       "52632  __export__.product_price_history_20750_5ef29dee   \n",
       "52632  __export__.product_price_history_20750_5ef29dee   \n",
       "50411  __export__.product_price_history_23664_d513e609   \n",
       "50411  __export__.product_price_history_23664_d513e609   \n",
       "48590  __export__.product_price_history_24956_2f82915f   \n",
       "...                                                ...   \n",
       "11712  __export__.product_price_history_87371_bf9be6b3   \n",
       "9416   __export__.product_price_history_89042_40e3206f   \n",
       "7856   __export__.product_price_history_90044_5da42c4b   \n",
       "4249   __export__.product_price_history_92400_f9738168   \n",
       "1324   __export__.product_price_history_94435_e43798c8   \n",
       "\n",
       "                                         Producto_nombre  Coste  \\\n",
       "52632  Yogur desnatado vainilla Casa grande xanceda 2...   1.45   \n",
       "52632  Yogur desnatado vainilla Casa grande xanceda 2...   1.45   \n",
       "50411  Yogur desnatado vainilla Casa grande xanceda 2...   1.45   \n",
       "50411  Yogur desnatado vainilla Casa grande xanceda 2...   1.45   \n",
       "48590  Yogur desnatado vainilla Casa grande xanceda 2...   1.45   \n",
       "...                                                  ...    ...   \n",
       "11712  Yogur desnatado vainilla Casa grande xanceda 2...   1.45   \n",
       "9416   Yogur desnatado vainilla Casa grande xanceda 2...   1.45   \n",
       "7856   Yogur desnatado vainilla Casa grande xanceda 2...   1.45   \n",
       "4249   Yogur desnatado vainilla Casa grande xanceda 2...   1.45   \n",
       "1324   Yogur desnatado vainilla Casa grande xanceda 2...   1.45   \n",
       "\n",
       "                    Fecha Producto_nombre_publico  \\\n",
       "52632 2021-02-04 14:38:32                     Eco   \n",
       "52632 2021-02-04 14:38:32                     Eco   \n",
       "50411 2021-02-17 10:48:40                     Eco   \n",
       "50411 2021-02-17 10:48:40                     Eco   \n",
       "48590 2021-03-02 12:11:16                     Eco   \n",
       "...                   ...                     ...   \n",
       "11712 2022-10-04 11:01:07                     Eco   \n",
       "9416  2022-10-18 11:07:36                     Eco   \n",
       "7856  2022-10-27 08:49:33                     Eco   \n",
       "4249  2022-11-17 11:41:15                     Eco   \n",
       "1324  2022-12-03 10:10:18                     Eco   \n",
       "\n",
       "       Producto_Referencia_interna  \\\n",
       "52632                       1559.0   \n",
       "52632                       1559.0   \n",
       "50411                       1559.0   \n",
       "50411                       1559.0   \n",
       "48590                       1559.0   \n",
       "...                            ...   \n",
       "11712                       1559.0   \n",
       "9416                        1559.0   \n",
       "7856                        1559.0   \n",
       "4249                        1559.0   \n",
       "1324                        1559.0   \n",
       "\n",
       "                            Producto_Proveedores_publico  \\\n",
       "52632  (CASA GRANDE XANCEDA) CASA GRANDE DE XANCEDA S.L.   \n",
       "52632  (CASA GRANDE XANCEDA) CASA GRANDE DE XANCEDA S.L.   \n",
       "50411  (CASA GRANDE XANCEDA) CASA GRANDE DE XANCEDA S.L.   \n",
       "50411  (CASA GRANDE XANCEDA) CASA GRANDE DE XANCEDA S.L.   \n",
       "48590  (CASA GRANDE XANCEDA) CASA GRANDE DE XANCEDA S.L.   \n",
       "...                                                  ...   \n",
       "11712  (CASA GRANDE XANCEDA) CASA GRANDE DE XANCEDA S.L.   \n",
       "9416   (CASA GRANDE XANCEDA) CASA GRANDE DE XANCEDA S.L.   \n",
       "7856   (CASA GRANDE XANCEDA) CASA GRANDE DE XANCEDA S.L.   \n",
       "4249   (CASA GRANDE XANCEDA) CASA GRANDE DE XANCEDA S.L.   \n",
       "1324   (CASA GRANDE XANCEDA) CASA GRANDE DE XANCEDA S.L.   \n",
       "\n",
       "                              Producto_Categoría_publico  \n",
       "52632  Resto Producto Fresco / Leche, zumos, producto...  \n",
       "52632  Resto Producto Fresco / Leche, zumos, producto...  \n",
       "50411  Resto Producto Fresco / Leche, zumos, producto...  \n",
       "50411  Resto Producto Fresco / Leche, zumos, producto...  \n",
       "48590  Resto Producto Fresco / Leche, zumos, producto...  \n",
       "...                                                  ...  \n",
       "11712  Resto Producto Fresco / Leche, zumos, producto...  \n",
       "9416   Resto Producto Fresco / Leche, zumos, producto...  \n",
       "7856   Resto Producto Fresco / Leche, zumos, producto...  \n",
       "4249   Resto Producto Fresco / Leche, zumos, producto...  \n",
       "1324   Resto Producto Fresco / Leche, zumos, producto...  \n",
       "\n",
       "[81 rows x 8 columns]"
      ]
     },
     "execution_count": 15,
     "metadata": {},
     "output_type": "execute_result"
    }
   ],
   "source": [
    "precios_compra_2022[precios_compra_2022['Producto_nombre']=='Yogur desnatado vainilla Casa grande xanceda 2 x 125 g']"
   ]
  },
  {
   "cell_type": "code",
   "execution_count": 16,
   "metadata": {
    "tags": []
   },
   "outputs": [
    {
     "data": {
      "text/html": [
       "<div>\n",
       "<style scoped>\n",
       "    .dataframe tbody tr th:only-of-type {\n",
       "        vertical-align: middle;\n",
       "    }\n",
       "\n",
       "    .dataframe tbody tr th {\n",
       "        vertical-align: top;\n",
       "    }\n",
       "\n",
       "    .dataframe thead th {\n",
       "        text-align: right;\n",
       "    }\n",
       "</style>\n",
       "<table border=\"1\" class=\"dataframe\">\n",
       "  <thead>\n",
       "    <tr style=\"text-align: right;\">\n",
       "      <th></th>\n",
       "      <th>Coste</th>\n",
       "      <th>Producto_Referencia_interna</th>\n",
       "    </tr>\n",
       "  </thead>\n",
       "  <tbody>\n",
       "    <tr>\n",
       "      <th>count</th>\n",
       "      <td>111268.000000</td>\n",
       "      <td>111268.000000</td>\n",
       "    </tr>\n",
       "    <tr>\n",
       "      <th>mean</th>\n",
       "      <td>2.963484</td>\n",
       "      <td>2678.294640</td>\n",
       "    </tr>\n",
       "    <tr>\n",
       "      <th>std</th>\n",
       "      <td>3.425243</td>\n",
       "      <td>1691.079528</td>\n",
       "    </tr>\n",
       "    <tr>\n",
       "      <th>min</th>\n",
       "      <td>0.000000</td>\n",
       "      <td>5.000000</td>\n",
       "    </tr>\n",
       "    <tr>\n",
       "      <th>25%</th>\n",
       "      <td>1.350000</td>\n",
       "      <td>1113.000000</td>\n",
       "    </tr>\n",
       "    <tr>\n",
       "      <th>50%</th>\n",
       "      <td>2.010000</td>\n",
       "      <td>2668.000000</td>\n",
       "    </tr>\n",
       "    <tr>\n",
       "      <th>75%</th>\n",
       "      <td>3.100000</td>\n",
       "      <td>4087.000000</td>\n",
       "    </tr>\n",
       "    <tr>\n",
       "      <th>max</th>\n",
       "      <td>156.000000</td>\n",
       "      <td>6499.000000</td>\n",
       "    </tr>\n",
       "  </tbody>\n",
       "</table>\n",
       "</div>"
      ],
      "text/plain": [
       "               Coste  Producto_Referencia_interna\n",
       "count  111268.000000                111268.000000\n",
       "mean        2.963484                  2678.294640\n",
       "std         3.425243                  1691.079528\n",
       "min         0.000000                     5.000000\n",
       "25%         1.350000                  1113.000000\n",
       "50%         2.010000                  2668.000000\n",
       "75%         3.100000                  4087.000000\n",
       "max       156.000000                  6499.000000"
      ]
     },
     "execution_count": 16,
     "metadata": {},
     "output_type": "execute_result"
    }
   ],
   "source": [
    "precios_compra_2022.describe()"
   ]
  },
  {
   "cell_type": "code",
   "execution_count": 17,
   "metadata": {
    "tags": []
   },
   "outputs": [
    {
     "data": {
      "text/plain": [
       "External_ID                             object\n",
       "Producto_nombre                         object\n",
       "Coste                                  float64\n",
       "Fecha                           datetime64[ns]\n",
       "Producto_nombre_publico                 object\n",
       "Producto_Referencia_interna            float64\n",
       "Producto_Proveedores_publico            object\n",
       "Producto_Categoría_publico              object\n",
       "dtype: object"
      ]
     },
     "execution_count": 17,
     "metadata": {},
     "output_type": "execute_result"
    }
   ],
   "source": [
    "precios_compra_2022.dtypes"
   ]
  },
  {
   "cell_type": "code",
   "execution_count": 18,
   "metadata": {
    "tags": []
   },
   "outputs": [
    {
     "data": {
      "text/html": [
       "<div>\n",
       "<style scoped>\n",
       "    .dataframe tbody tr th:only-of-type {\n",
       "        vertical-align: middle;\n",
       "    }\n",
       "\n",
       "    .dataframe tbody tr th {\n",
       "        vertical-align: top;\n",
       "    }\n",
       "\n",
       "    .dataframe thead th {\n",
       "        text-align: right;\n",
       "    }\n",
       "</style>\n",
       "<table border=\"1\" class=\"dataframe\">\n",
       "  <thead>\n",
       "    <tr style=\"text-align: right;\">\n",
       "      <th></th>\n",
       "      <th>External_ID</th>\n",
       "      <th>Producto_nombre</th>\n",
       "      <th>Coste</th>\n",
       "      <th>Fecha</th>\n",
       "      <th>Producto_nombre_publico</th>\n",
       "      <th>Producto_Referencia_interna</th>\n",
       "      <th>Producto_Proveedores_publico</th>\n",
       "      <th>Producto_Categoría_publico</th>\n",
       "    </tr>\n",
       "  </thead>\n",
       "  <tbody>\n",
       "    <tr>\n",
       "      <th>57557</th>\n",
       "      <td>__export__.product_price_history_17315_175465d1</td>\n",
       "      <td>Gofio maíz bio La Piña 500 gr</td>\n",
       "      <td>1.81</td>\n",
       "      <td>2021-01-01 12:18:55</td>\n",
       "      <td>Eco</td>\n",
       "      <td>6129.0</td>\n",
       "      <td>(BIOGRAN) BIOGRAN S.L.</td>\n",
       "      <td>Seco Envasado / Panes, harinas / Harinas</td>\n",
       "    </tr>\n",
       "    <tr>\n",
       "      <th>57557</th>\n",
       "      <td>__export__.product_price_history_17315_175465d1</td>\n",
       "      <td>Gofio maíz bio La Piña 500 gr</td>\n",
       "      <td>1.81</td>\n",
       "      <td>2021-01-01 12:18:55</td>\n",
       "      <td>Eco</td>\n",
       "      <td>6129.0</td>\n",
       "      <td>(BIOGRAN) BIOGRAN S.L.</td>\n",
       "      <td>Seco Envasado / Panes, harinas / Harinas</td>\n",
       "    </tr>\n",
       "    <tr>\n",
       "      <th>57556</th>\n",
       "      <td>__export__.product_price_history_17316_a7765be4</td>\n",
       "      <td>Copos amaranto bio El Granero Integral 250 gr</td>\n",
       "      <td>2.21</td>\n",
       "      <td>2021-01-01 12:22:37</td>\n",
       "      <td>Eco</td>\n",
       "      <td>3732.0</td>\n",
       "      <td>(BIOGRAN) BIOGRAN S.L.</td>\n",
       "      <td>Seco Envasado / Cereales y semillas / Cereales</td>\n",
       "    </tr>\n",
       "    <tr>\n",
       "      <th>57556</th>\n",
       "      <td>__export__.product_price_history_17316_a7765be4</td>\n",
       "      <td>Copos amaranto bio El Granero Integral 250 gr</td>\n",
       "      <td>2.21</td>\n",
       "      <td>2021-01-01 12:22:37</td>\n",
       "      <td>Eco</td>\n",
       "      <td>3732.0</td>\n",
       "      <td>(BIOGRAN) BIOGRAN S.L.</td>\n",
       "      <td>Seco Envasado / Cereales y semillas / Cereales</td>\n",
       "    </tr>\n",
       "    <tr>\n",
       "      <th>57555</th>\n",
       "      <td>__export__.product_price_history_17317_607ad568</td>\n",
       "      <td>Copos 5 cereales bio El Granero Integral 500 gr</td>\n",
       "      <td>1.37</td>\n",
       "      <td>2021-01-01 12:23:33</td>\n",
       "      <td>Eco</td>\n",
       "      <td>3733.0</td>\n",
       "      <td>(BIOGRAN) BIOGRAN S.L.</td>\n",
       "      <td>Seco Envasado / Desayunos y merienda / Cereales</td>\n",
       "    </tr>\n",
       "  </tbody>\n",
       "</table>\n",
       "</div>"
      ],
      "text/plain": [
       "                                           External_ID  \\\n",
       "57557  __export__.product_price_history_17315_175465d1   \n",
       "57557  __export__.product_price_history_17315_175465d1   \n",
       "57556  __export__.product_price_history_17316_a7765be4   \n",
       "57556  __export__.product_price_history_17316_a7765be4   \n",
       "57555  __export__.product_price_history_17317_607ad568   \n",
       "\n",
       "                                       Producto_nombre  Coste  \\\n",
       "57557                    Gofio maíz bio La Piña 500 gr   1.81   \n",
       "57557                    Gofio maíz bio La Piña 500 gr   1.81   \n",
       "57556    Copos amaranto bio El Granero Integral 250 gr   2.21   \n",
       "57556    Copos amaranto bio El Granero Integral 250 gr   2.21   \n",
       "57555  Copos 5 cereales bio El Granero Integral 500 gr   1.37   \n",
       "\n",
       "                    Fecha Producto_nombre_publico  \\\n",
       "57557 2021-01-01 12:18:55                     Eco   \n",
       "57557 2021-01-01 12:18:55                     Eco   \n",
       "57556 2021-01-01 12:22:37                     Eco   \n",
       "57556 2021-01-01 12:22:37                     Eco   \n",
       "57555 2021-01-01 12:23:33                     Eco   \n",
       "\n",
       "       Producto_Referencia_interna Producto_Proveedores_publico  \\\n",
       "57557                       6129.0       (BIOGRAN) BIOGRAN S.L.   \n",
       "57557                       6129.0       (BIOGRAN) BIOGRAN S.L.   \n",
       "57556                       3732.0       (BIOGRAN) BIOGRAN S.L.   \n",
       "57556                       3732.0       (BIOGRAN) BIOGRAN S.L.   \n",
       "57555                       3733.0       (BIOGRAN) BIOGRAN S.L.   \n",
       "\n",
       "                            Producto_Categoría_publico  \n",
       "57557         Seco Envasado / Panes, harinas / Harinas  \n",
       "57557         Seco Envasado / Panes, harinas / Harinas  \n",
       "57556   Seco Envasado / Cereales y semillas / Cereales  \n",
       "57556   Seco Envasado / Cereales y semillas / Cereales  \n",
       "57555  Seco Envasado / Desayunos y merienda / Cereales  "
      ]
     },
     "execution_count": 18,
     "metadata": {},
     "output_type": "execute_result"
    }
   ],
   "source": [
    "precios_compra_2022.head(5)"
   ]
  },
  {
   "cell_type": "code",
   "execution_count": 19,
   "metadata": {},
   "outputs": [
    {
     "data": {
      "text/plain": [
       "Index(['External_ID', 'Producto_nombre', 'Coste', 'Fecha',\n",
       "       'Producto_nombre_publico', 'Producto_Referencia_interna',\n",
       "       'Producto_Proveedores_publico', 'Producto_Categoría_publico'],\n",
       "      dtype='object')"
      ]
     },
     "execution_count": 19,
     "metadata": {},
     "output_type": "execute_result"
    }
   ],
   "source": [
    "precios_compra_2022.columns"
   ]
  },
  {
   "cell_type": "markdown",
   "metadata": {},
   "source": [
    "### visualizacion de los datos"
   ]
  },
  {
   "cell_type": "code",
   "execution_count": 25,
   "metadata": {},
   "outputs": [
    {
     "data": {
      "text/plain": [
       "Text(0.5, 1.0, 'Coste del producto a lo largo del tiempo')"
      ]
     },
     "execution_count": 25,
     "metadata": {},
     "output_type": "execute_result"
    },
    {
     "data": {
      "image/png": "[encoded data removed]",
      "text/plain": [
       "<Figure size 432x288 with 1 Axes>"
      ]
     },
     "metadata": {
      "needs_background": "light"
     },
     "output_type": "display_data"
    }
   ],
   "source": [
    "# Utilizando matplotlib\n",
    "\n",
    "plt.plot(precios_compra_2022['Fecha'], precios_compra_2022['Coste'], label='Coste')\n",
    "plt.legend()\n",
    "plt.xlabel('Fecha')\n",
    "plt.ylabel('Coste')\n",
    "plt.title('Coste del producto a lo largo del tiempo')"
   ]
  },
  {
   "cell_type": "code",
   "execution_count": 26,
   "metadata": {},
   "outputs": [
    {
     "data": {
      "text/plain": [
       "\"sns.lineplot(x='Fecha', y='Coste', data=precios_compra_2022, hue='Producto_nombre')\\nplt.xlabel('Fecha')\\nplt.ylabel('Coste')\\nplt.title('Coste del producto a lo largo del tiempo')\""
      ]
     },
     "execution_count": 26,
     "metadata": {},
     "output_type": "execute_result"
    }
   ],
   "source": [
    "# Utilizando seaborn\n",
    "'''sns.lineplot(x='Fecha', y='Coste', data=precios_compra_2022, hue='Producto_nombre')\n",
    "plt.xlabel('Fecha')\n",
    "plt.ylabel('Coste')\n",
    "plt.title('Coste del producto a lo largo del tiempo')'''"
   ]
  },
  {
   "cell_type": "code",
   "execution_count": 27,
   "metadata": {},
   "outputs": [
    {
     "data": {
      "image/png": "[encoded data removed]",
      "text/plain": [
       "<Figure size 432x288 with 1 Axes>"
      ]
     },
     "metadata": {
      "needs_background": "light"
     },
     "output_type": "display_data"
    }
   ],
   "source": [
    "plt.scatter(precios_compra_2022['Fecha'], precios_compra_2022['Coste'])\n",
    "plt.xlabel('Fecha')\n",
    "plt.ylabel('Coste')\n",
    "plt.title('Coste del producto a lo largo del tiempo')\n",
    "plt.show()"
   ]
  },
  {
   "cell_type": "code",
   "execution_count": 24,
   "metadata": {},
   "outputs": [
    {
     "data": {
      "text/html": [
       "<div>\n",
       "<style scoped>\n",
       "    .dataframe tbody tr th:only-of-type {\n",
       "        vertical-align: middle;\n",
       "    }\n",
       "\n",
       "    .dataframe tbody tr th {\n",
       "        vertical-align: top;\n",
       "    }\n",
       "\n",
       "    .dataframe thead th {\n",
       "        text-align: right;\n",
       "    }\n",
       "</style>\n",
       "<table border=\"1\" class=\"dataframe\">\n",
       "  <thead>\n",
       "    <tr style=\"text-align: right;\">\n",
       "      <th></th>\n",
       "      <th>External_ID</th>\n",
       "      <th>Producto_nombre</th>\n",
       "      <th>Coste</th>\n",
       "      <th>Fecha</th>\n",
       "      <th>Producto_nombre_publico</th>\n",
       "      <th>Producto_Referencia_interna</th>\n",
       "      <th>Producto_Proveedores_publico</th>\n",
       "      <th>Producto_Categoría_publico</th>\n",
       "    </tr>\n",
       "  </thead>\n",
       "  <tbody>\n",
       "    <tr>\n",
       "      <th>57557</th>\n",
       "      <td>__export__.product_price_history_17315_175465d1</td>\n",
       "      <td>Gofio maíz bio La Piña 500 gr</td>\n",
       "      <td>1.81</td>\n",
       "      <td>2021-01-01 12:18:55</td>\n",
       "      <td>Eco</td>\n",
       "      <td>6129.0</td>\n",
       "      <td>(BIOGRAN) BIOGRAN S.L.</td>\n",
       "      <td>Seco Envasado / Panes, harinas / Harinas</td>\n",
       "    </tr>\n",
       "    <tr>\n",
       "      <th>57557</th>\n",
       "      <td>__export__.product_price_history_17315_175465d1</td>\n",
       "      <td>Gofio maíz bio La Piña 500 gr</td>\n",
       "      <td>1.81</td>\n",
       "      <td>2021-01-01 12:18:55</td>\n",
       "      <td>Eco</td>\n",
       "      <td>6129.0</td>\n",
       "      <td>(BIOGRAN) BIOGRAN S.L.</td>\n",
       "      <td>Seco Envasado / Panes, harinas / Harinas</td>\n",
       "    </tr>\n",
       "    <tr>\n",
       "      <th>57556</th>\n",
       "      <td>__export__.product_price_history_17316_a7765be4</td>\n",
       "      <td>Copos amaranto bio El Granero Integral 250 gr</td>\n",
       "      <td>2.21</td>\n",
       "      <td>2021-01-01 12:22:37</td>\n",
       "      <td>Eco</td>\n",
       "      <td>3732.0</td>\n",
       "      <td>(BIOGRAN) BIOGRAN S.L.</td>\n",
       "      <td>Seco Envasado / Cereales y semillas / Cereales</td>\n",
       "    </tr>\n",
       "    <tr>\n",
       "      <th>57556</th>\n",
       "      <td>__export__.product_price_history_17316_a7765be4</td>\n",
       "      <td>Copos amaranto bio El Granero Integral 250 gr</td>\n",
       "      <td>2.21</td>\n",
       "      <td>2021-01-01 12:22:37</td>\n",
       "      <td>Eco</td>\n",
       "      <td>3732.0</td>\n",
       "      <td>(BIOGRAN) BIOGRAN S.L.</td>\n",
       "      <td>Seco Envasado / Cereales y semillas / Cereales</td>\n",
       "    </tr>\n",
       "    <tr>\n",
       "      <th>57555</th>\n",
       "      <td>__export__.product_price_history_17317_607ad568</td>\n",
       "      <td>Copos 5 cereales bio El Granero Integral 500 gr</td>\n",
       "      <td>1.37</td>\n",
       "      <td>2021-01-01 12:23:33</td>\n",
       "      <td>Eco</td>\n",
       "      <td>3733.0</td>\n",
       "      <td>(BIOGRAN) BIOGRAN S.L.</td>\n",
       "      <td>Seco Envasado / Desayunos y merienda / Cereales</td>\n",
       "    </tr>\n",
       "    <tr>\n",
       "      <th>...</th>\n",
       "      <td>...</td>\n",
       "      <td>...</td>\n",
       "      <td>...</td>\n",
       "      <td>...</td>\n",
       "      <td>...</td>\n",
       "      <td>...</td>\n",
       "      <td>...</td>\n",
       "      <td>...</td>\n",
       "    </tr>\n",
       "    <tr>\n",
       "      <th>57539</th>\n",
       "      <td>NaN</td>\n",
       "      <td>NaN</td>\n",
       "      <td>NaN</td>\n",
       "      <td>NaT</td>\n",
       "      <td>NaN</td>\n",
       "      <td>NaN</td>\n",
       "      <td>(EL ARBOL DEL PAN) SEBASTIAN GONZALEZ LOPEZ</td>\n",
       "      <td>NaN</td>\n",
       "    </tr>\n",
       "    <tr>\n",
       "      <th>57541</th>\n",
       "      <td>NaN</td>\n",
       "      <td>NaN</td>\n",
       "      <td>NaN</td>\n",
       "      <td>NaT</td>\n",
       "      <td>NaN</td>\n",
       "      <td>NaN</td>\n",
       "      <td>(EL ARBOL DEL PAN) EL ARBOL DEL PAN S.L.</td>\n",
       "      <td>NaN</td>\n",
       "    </tr>\n",
       "    <tr>\n",
       "      <th>57543</th>\n",
       "      <td>NaN</td>\n",
       "      <td>NaN</td>\n",
       "      <td>NaN</td>\n",
       "      <td>NaT</td>\n",
       "      <td>NaN</td>\n",
       "      <td>NaN</td>\n",
       "      <td>(EL ARBOL DEL PAN) SEBASTIAN GONZALEZ LOPEZ</td>\n",
       "      <td>NaN</td>\n",
       "    </tr>\n",
       "    <tr>\n",
       "      <th>57545</th>\n",
       "      <td>NaN</td>\n",
       "      <td>NaN</td>\n",
       "      <td>NaN</td>\n",
       "      <td>NaT</td>\n",
       "      <td>NaN</td>\n",
       "      <td>NaN</td>\n",
       "      <td>(EL ARBOL DEL PAN) EL ARBOL DEL PAN S.L.</td>\n",
       "      <td>NaN</td>\n",
       "    </tr>\n",
       "    <tr>\n",
       "      <th>57547</th>\n",
       "      <td>NaN</td>\n",
       "      <td>NaN</td>\n",
       "      <td>NaN</td>\n",
       "      <td>NaT</td>\n",
       "      <td>NaN</td>\n",
       "      <td>NaN</td>\n",
       "      <td>(EL ARBOL DEL PAN) SEBASTIAN GONZALEZ LOPEZ</td>\n",
       "      <td>NaN</td>\n",
       "    </tr>\n",
       "  </tbody>\n",
       "</table>\n",
       "<p>173260 rows × 8 columns</p>\n",
       "</div>"
      ],
      "text/plain": [
       "                                           External_ID  \\\n",
       "57557  __export__.product_price_history_17315_175465d1   \n",
       "57557  __export__.product_price_history_17315_175465d1   \n",
       "57556  __export__.product_price_history_17316_a7765be4   \n",
       "57556  __export__.product_price_history_17316_a7765be4   \n",
       "57555  __export__.product_price_history_17317_607ad568   \n",
       "...                                                ...   \n",
       "57539                                              NaN   \n",
       "57541                                              NaN   \n",
       "57543                                              NaN   \n",
       "57545                                              NaN   \n",
       "57547                                              NaN   \n",
       "\n",
       "                                       Producto_nombre  Coste  \\\n",
       "57557                    Gofio maíz bio La Piña 500 gr   1.81   \n",
       "57557                    Gofio maíz bio La Piña 500 gr   1.81   \n",
       "57556    Copos amaranto bio El Granero Integral 250 gr   2.21   \n",
       "57556    Copos amaranto bio El Granero Integral 250 gr   2.21   \n",
       "57555  Copos 5 cereales bio El Granero Integral 500 gr   1.37   \n",
       "...                                                ...    ...   \n",
       "57539                                              NaN    NaN   \n",
       "57541                                              NaN    NaN   \n",
       "57543                                              NaN    NaN   \n",
       "57545                                              NaN    NaN   \n",
       "57547                                              NaN    NaN   \n",
       "\n",
       "                    Fecha Producto_nombre_publico  \\\n",
       "57557 2021-01-01 12:18:55                     Eco   \n",
       "57557 2021-01-01 12:18:55                     Eco   \n",
       "57556 2021-01-01 12:22:37                     Eco   \n",
       "57556 2021-01-01 12:22:37                     Eco   \n",
       "57555 2021-01-01 12:23:33                     Eco   \n",
       "...                   ...                     ...   \n",
       "57539                 NaT                     NaN   \n",
       "57541                 NaT                     NaN   \n",
       "57543                 NaT                     NaN   \n",
       "57545                 NaT                     NaN   \n",
       "57547                 NaT                     NaN   \n",
       "\n",
       "       Producto_Referencia_interna  \\\n",
       "57557                       6129.0   \n",
       "57557                       6129.0   \n",
       "57556                       3732.0   \n",
       "57556                       3732.0   \n",
       "57555                       3733.0   \n",
       "...                            ...   \n",
       "57539                          NaN   \n",
       "57541                          NaN   \n",
       "57543                          NaN   \n",
       "57545                          NaN   \n",
       "57547                          NaN   \n",
       "\n",
       "                      Producto_Proveedores_publico  \\\n",
       "57557                       (BIOGRAN) BIOGRAN S.L.   \n",
       "57557                       (BIOGRAN) BIOGRAN S.L.   \n",
       "57556                       (BIOGRAN) BIOGRAN S.L.   \n",
       "57556                       (BIOGRAN) BIOGRAN S.L.   \n",
       "57555                       (BIOGRAN) BIOGRAN S.L.   \n",
       "...                                            ...   \n",
       "57539  (EL ARBOL DEL PAN) SEBASTIAN GONZALEZ LOPEZ   \n",
       "57541     (EL ARBOL DEL PAN) EL ARBOL DEL PAN S.L.   \n",
       "57543  (EL ARBOL DEL PAN) SEBASTIAN GONZALEZ LOPEZ   \n",
       "57545     (EL ARBOL DEL PAN) EL ARBOL DEL PAN S.L.   \n",
       "57547  (EL ARBOL DEL PAN) SEBASTIAN GONZALEZ LOPEZ   \n",
       "\n",
       "                            Producto_Categoría_publico  \n",
       "57557         Seco Envasado / Panes, harinas / Harinas  \n",
       "57557         Seco Envasado / Panes, harinas / Harinas  \n",
       "57556   Seco Envasado / Cereales y semillas / Cereales  \n",
       "57556   Seco Envasado / Cereales y semillas / Cereales  \n",
       "57555  Seco Envasado / Desayunos y merienda / Cereales  \n",
       "...                                                ...  \n",
       "57539                                              NaN  \n",
       "57541                                              NaN  \n",
       "57543                                              NaN  \n",
       "57545                                              NaN  \n",
       "57547                                              NaN  \n",
       "\n",
       "[173260 rows x 8 columns]"
      ]
     },
     "execution_count": 24,
     "metadata": {},
     "output_type": "execute_result"
    }
   ],
   "source": [
    "precios_compra_2022"
   ]
  },
  {
   "cell_type": "code",
   "execution_count": null,
   "metadata": {
    "tags": []
   },
   "outputs": [],
   "source": [
    "ventas_2021.info()"
   ]
  },
  {
   "cell_type": "code",
   "execution_count": null,
   "metadata": {
    "tags": []
   },
   "outputs": [],
   "source": [
    "ventas_2021.head()"
   ]
  },
  {
   "cell_type": "markdown",
   "metadata": {},
   "source": [
    "## ASPECTOS ESENCIALES\n",
    "### 1. Analisis exploratorio de los datos\n",
    "### 2. Visualizacion de los datos en una herramienta interactiva de facil utilizacion\n",
    "\n",
    "\n",
    "\n",
    "## ASPECTOS OPCIONALES\n",
    "### 1. Predecir los valores de venta y /o de inflacion para los siguiente meses (o año)\n",
    "### 2. Analisis de series temporales "
   ]
  },
  {
   "cell_type": "markdown",
   "metadata": {},
   "source": [
    "## Ventas de Productos 2021 - 2022"
   ]
  },
  {
   "cell_type": "code",
   "execution_count": null,
   "metadata": {
    "tags": []
   },
   "outputs": [],
   "source": [
    "#Datasets de venta de productis al publico 2021-2022\n",
    "ventas_2021= pd.read_excel(\"inflacion_osa_2021.xls\")\n",
    "ventas_2022= pd.read_excel(\"inflacion_osa_2022.xls\")"
   ]
  },
  {
   "cell_type": "code",
   "execution_count": null,
   "metadata": {
    "tags": []
   },
   "outputs": [],
   "source": [
    "ventas_2021.info()"
   ]
  },
  {
   "cell_type": "code",
   "execution_count": null,
   "metadata": {
    "tags": []
   },
   "outputs": [],
   "source": [
    "ventas_2021.head(10)"
   ]
  },
  {
   "cell_type": "code",
   "execution_count": null,
   "metadata": {
    "tags": []
   },
   "outputs": [],
   "source": [
    "ventas_2022.info()"
   ]
  },
  {
   "cell_type": "code",
   "execution_count": null,
   "metadata": {
    "tags": []
   },
   "outputs": [],
   "source": [
    "ventas_2021.head(10)"
   ]
  },
  {
   "cell_type": "markdown",
   "metadata": {},
   "source": [
    "### Se concatenan los dos datasets de productos vendidos en el 2021 y 2022"
   ]
  },
  {
   "cell_type": "code",
   "execution_count": null,
   "metadata": {
    "tags": []
   },
   "outputs": [],
   "source": [
    "precios_ventas = pd.concat([ventas_2021, ventas_2022])\n",
    "precios_ventas.info()"
   ]
  },
  {
   "cell_type": "code",
   "execution_count": null,
   "metadata": {
    "tags": []
   },
   "outputs": [],
   "source": [
    "precios_ventas.isnull().sum()"
   ]
  },
  {
   "cell_type": "markdown",
   "metadata": {},
   "source": [
    "## Asunciones de la primer reunión con el stakeholder\n",
    "* #### ¿A que precio compra la OSA sus productos?\n",
    "* #### ¿Hay algun producto, categoria o proveedor que los precios sean mas altos?\n",
    "* #### ¿Cual es la implicacion en la canasta del comprador, la subida de precios de los productos que compra la Osa?\n",
    "* #### Analizar los productos que mas se consumen en la cesta familiar y su precio (de compra y venta?)\n",
    "* #### Variacion de los precios de cada producto y cada categoría\n",
    "* #### ¿Cómo afecta esta variación de los productos en la compra de los usuarios?\n",
    "* #### Agrupar las comnpras por tipos de productos, categorías, tipo de comprador"
   ]
  },
  {
   "cell_type": "markdown",
   "metadata": {
    "tags": []
   },
   "source": [
    "## Se rellenan todos los nulos de las ventas con ceros --> de acuerdo a la reunion con el stakeholder"
   ]
  },
  {
   "cell_type": "markdown",
   "metadata": {},
   "source": [
    "nota: quitar corchetes y ceros de referencia interna para que queden igual a los de arriba"
   ]
  },
  {
   "cell_type": "code",
   "execution_count": null,
   "metadata": {
    "tags": []
   },
   "outputs": [],
   "source": [
    "ventas= precios_ventas.fillna(0)\n",
    "ventas"
   ]
  },
  {
   "cell_type": "markdown",
   "metadata": {},
   "source": [
    "### Seria bueno poder tener todos los nombres de los meses en una columna, las unidades vendidas de cada cada producto por mes en otra columna  y el precio medio para esas ventas mensuales."
   ]
  },
  {
   "cell_type": "markdown",
   "metadata": {},
   "source": [
    "### Este es un ejemplo con dos productos.\n",
    "\n",
    "### ¿Cómo poder hacerlo con Pandas?"
   ]
  },
  {
   "cell_type": "code",
   "execution_count": null,
   "metadata": {
    "tags": []
   },
   "outputs": [],
   "source": [
    "#Datasets de venta de productis al publico 2021-2022\n",
    "ejemplo_ventas_2021= pd.read_excel(\"ejemplo_tabla_ventas.xls\")\n",
    "ejemplo_ventas_2021"
   ]
  },
  {
   "cell_type": "code",
   "execution_count": null,
   "metadata": {},
   "outputs": [],
   "source": [
    "df = pd.ejemplo_ventas_2021({\n",
    "    \"x\": range(100),\n",
    "    \"y\": np.random.randn(100).cumsum()\n",
    "})\n",
    "\n",
    "sns.relplot(x = \"Mes\", y = \"Price_mes\", data = df, kind = \"line\");"
   ]
  },
  {
   "cell_type": "code",
   "execution_count": null,
   "metadata": {
    "tags": []
   },
   "outputs": [],
   "source": [
    "precios_ventas.columns.tolist()"
   ]
  },
  {
   "cell_type": "code",
   "execution_count": null,
   "metadata": {
    "tags": []
   },
   "outputs": [],
   "source": [
    "columnas = precios_ventas.columns.values[2:25]"
   ]
  },
  {
   "cell_type": "code",
   "execution_count": null,
   "metadata": {
    "tags": []
   },
   "outputs": [],
   "source": [
    "df = pd.pivot_table(precios_ventas, columns=['Producto_Referencia_interna','Producto_nombre'] , values=columnas).reset_index()"
   ]
  },
  {
   "cell_type": "code",
   "execution_count": null,
   "metadata": {
    "tags": []
   },
   "outputs": [],
   "source": [
    "df"
   ]
  },
  {
   "cell_type": "markdown",
   "metadata": {},
   "source": [
    "### Intentamos modificar la estructura del dataframe ventas para facilitar la visualizacion de precios -->Funcion `pivot_table()`"
   ]
  },
  {
   "cell_type": "code",
   "execution_count": null,
   "metadata": {
    "tags": []
   },
   "outputs": [],
   "source": [
    "#Se crean 3 columnas vacias para jugar un poco con pivot_table()\n",
    "precios_ventas['Fecha_venta']=\"\"\n",
    "precios_ventas['price_mean_month']=\"\"\n",
    "precios_ventas['total_units_month']=\"\""
   ]
  },
  {
   "cell_type": "code",
   "execution_count": null,
   "metadata": {
    "tags": []
   },
   "outputs": [],
   "source": [
    "#Chequeamos las nuevas columnas creadas\n",
    "precios_ventas.info()"
   ]
  },
  {
   "cell_type": "markdown",
   "metadata": {},
   "source": [
    "#### Ahora extraemos los valores de las columnas de interes para trasnponer y los valores"
   ]
  },
  {
   "cell_type": "code",
   "execution_count": null,
   "metadata": {
    "tags": []
   },
   "outputs": [],
   "source": [
    "# se crea el objeto columnas con los valores de las columnas 26 a 31\n",
    "columnas =precios_ventas.columns.values[26:28]"
   ]
  },
  {
   "cell_type": "code",
   "execution_count": null,
   "metadata": {
    "tags": []
   },
   "outputs": [],
   "source": [
    "# se crea el objeto valores con los valores de las columnas 2 a 25\n",
    "valores = precios_ventas.columns.values[2:25]"
   ]
  },
  {
   "cell_type": "code",
   "execution_count": null,
   "metadata": {
    "tags": []
   },
   "outputs": [],
   "source": [
    "# Chequeamos el nombre de las columnas\n",
    "precios_ventas.columns"
   ]
  },
  {
   "cell_type": "code",
   "execution_count": null,
   "metadata": {},
   "outputs": [],
   "source": [
    "#Funcion pivot_table()"
   ]
  },
  {
   "cell_type": "code",
   "execution_count": null,
   "metadata": {
    "tags": []
   },
   "outputs": [],
   "source": [
    "ventas= pd.pivot_table(precios_ventas, index=['Producto_Referencia_interna','Producto_nombre', 'Año','Fecha_venta', 'price_mean_month', 'total_units_month'],\n",
    "                       columns=['Unidades_vendidas','Precio_medio'], values=valores,  aggfunc=np.sum)\n",
    "ventas"
   ]
  },
  {
   "cell_type": "code",
   "execution_count": null,
   "metadata": {
    "tags": []
   },
   "outputs": [],
   "source": [
    "ventas= pd.pivot_table(precios_ventas, index=['Producto_Referencia_interna','Producto_nombre'] , columns=['Unidades_vendidas', 'Precio_medio', 'Año'], \n",
    "                       values=valores, aggfunc=np.sum)\n",
    "ventas"
   ]
  },
  {
   "cell_type": "code",
   "execution_count": null,
   "metadata": {},
   "outputs": [],
   "source": [
    "### Aun no logramos teenr la tabla bien "
   ]
  },
  {
   "cell_type": "markdown",
   "metadata": {
    "tags": []
   },
   "source": [
    "### FORECASTING PRECIO/COMPRAS SUPERMERCADO LA OSA"
   ]
  },
  {
   "cell_type": "code",
   "execution_count": null,
   "metadata": {},
   "outputs": [],
   "source": [
    "sns.histplot(np.log1p(precios_ventas ['Unidades_vendidas']), kde=True)"
   ]
  },
  {
   "cell_type": "code",
   "execution_count": null,
   "metadata": {},
   "outputs": [],
   "source": [
    "ejemplo_ventas_2021.head(5)"
   ]
  },
  {
   "cell_type": "code",
   "execution_count": null,
   "metadata": {},
   "outputs": [],
   "source": [
    "month= {'Enero':1, 'Febrero':2, 'Marzo':3, 'Abril':4, 'Mayo':5, 'Junio':6, 'Julio':7, 'Agosto':8, 'Septiembre':9, 'Octubre':10, 'Noviembre':11, 'Diciembre':12}\n",
    "ejemplo_ventas_2021['month'] = ejemplo_ventas_2021['Mes'].map(fecha.get)\n",
    "ejemplo_ventas_2021['month'] = ejemplo_ventas_2021['month'].astype(int)\n",
    "ejemplo_ventas_2021.head(5)\n"
   ]
  },
  {
   "cell_type": "code",
   "execution_count": null,
   "metadata": {
    "tags": []
   },
   "outputs": [],
   "source": [
    "ejemplo_ventas_2021['fecha'] = ejemplo_ventas_2021.apply(lambda row: datetime(row['year'], row['month'], 1), axis=1)\n",
    "ejemplo_ventas_2021.head(5)\n"
   ]
  },
  {
   "cell_type": "code",
   "execution_count": null,
   "metadata": {},
   "outputs": [],
   "source": [
    "ejemplo_ventas_2021['fecha'] = pd.PeriodIndex(ejemplo_ventas_2021['fecha'], freq='M')\n",
    "ejemplo_ventas_2021.head(10)"
   ]
  },
  {
   "cell_type": "code",
   "execution_count": null,
   "metadata": {},
   "outputs": [],
   "source": []
  },
  {
   "cell_type": "code",
   "execution_count": null,
   "metadata": {},
   "outputs": [],
   "source": []
  },
  {
   "cell_type": "code",
   "execution_count": null,
   "metadata": {},
   "outputs": [],
   "source": []
  }
 ],
 "metadata": {
  "kernelspec": {
   "display_name": "Python 3 (ipykernel)",
   "language": "python",
   "name": "python3"
  },
  "language_info": {
   "codemirror_mode": {
    "name": "ipython",
    "version": 3
   },
   "file_extension": ".py",
   "mimetype": "text/x-python",
   "name": "python",
   "nbconvert_exporter": "python",
   "pygments_lexer": "ipython3",
   "version": "3.10.6"
  }
 },
 "nbformat": 4,
 "nbformat_minor": 4
}
