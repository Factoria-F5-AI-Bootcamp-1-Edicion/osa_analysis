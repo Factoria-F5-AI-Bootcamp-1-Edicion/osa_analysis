{
 "cells": [
  {
   "cell_type": "markdown",
   "id": "eaf73ec6",
   "metadata": {},
   "source": [
    "# Análsis Exploraotio de precios de compras y ventas Supermercado La Osa - Madrid\n"
   ]
  },
  {
   "cell_type": "code",
   "execution_count": 1,
   "id": "9507b555",
   "metadata": {},
   "outputs": [],
   "source": [
    "import pandas as pd\n",
    "import seaborn as sn\n",
    "import numpy as np\n",
    "import matplotlib as ploty"
   ]
  },
  {
   "cell_type": "markdown",
   "id": "6d5b608b",
   "metadata": {},
   "source": [
    "### Importamos los datasets"
   ]
  },
  {
   "cell_type": "code",
   "execution_count": 2,
   "id": "8fd189e1",
   "metadata": {},
   "outputs": [],
   "source": [
    "#Datasets de compra de productos a proveedores 2021-2022\n",
    "precio_enejun= pd.read_excel(\"Evolución_precio_enerojunio22.xls\")\n",
    "precio_juldic= pd.read_excel(\"Evolución_precio_juliodiciembre22.xls\")\n",
    "precio_2021= pd.read_excel(\"Price_history_2021.xls\")\n",
    "precio_2022= pd.read_excel(\"Price_history_122022.xls\")"
   ]
  },
  {
   "cell_type": "code",
   "execution_count": 3,
   "id": "12083f7f",
   "metadata": {},
   "outputs": [],
   "source": [
    "#Datasets de venta de productis al publico 2021-2022\n",
    "ventas_2021= pd.read_excel(\"inflacion_osa_2021.xls\")\n",
    "ventas_2022= pd.read_excel(\"inflacion_osa_2022.xls\")"
   ]
  },
  {
   "cell_type": "code",
   "execution_count": 4,
   "id": "93ed22be",
   "metadata": {},
   "outputs": [
    {
     "name": "stdout",
     "output_type": "stream",
     "text": [
      "<class 'pandas.core.frame.DataFrame'>\n",
      "RangeIndex: 33361 entries, 0 to 33360\n",
      "Data columns (total 8 columns):\n",
      " #   Column                                                  Non-Null Count  Dtype         \n",
      "---  ------                                                  --------------  -----         \n",
      " 0   External ID                                             21005 non-null  object        \n",
      " 1   Producto/Nombre                                         21005 non-null  object        \n",
      " 2   Coste                                                   21005 non-null  float64       \n",
      " 3   Fecha                                                   21005 non-null  datetime64[ns]\n",
      " 4   Producto/Cuenta analítica para gastos/Nombre a mostrar  21005 non-null  object        \n",
      " 5   Producto/Referencia interna                             21005 non-null  float64       \n",
      " 6   Producto/Proveedores/Nombre a mostrar                   33361 non-null  object        \n",
      " 7   Producto/Categoría de producto/Nombre a mostrar         21005 non-null  object        \n",
      "dtypes: datetime64[ns](1), float64(2), object(5)\n",
      "memory usage: 2.0+ MB\n"
     ]
    }
   ],
   "source": [
    "precio_enejun.info()"
   ]
  },
  {
   "cell_type": "code",
   "execution_count": 5,
   "id": "d7ea45b6",
   "metadata": {},
   "outputs": [
    {
     "name": "stdout",
     "output_type": "stream",
     "text": [
      "<class 'pandas.core.frame.DataFrame'>\n",
      "RangeIndex: 119956 entries, 0 to 119955\n",
      "Data columns (total 8 columns):\n",
      " #   Column                                                  Non-Null Count   Dtype         \n",
      "---  ------                                                  --------------   -----         \n",
      " 0   External ID                                             77054 non-null   object        \n",
      " 1   Producto/Nombre                                         77054 non-null   object        \n",
      " 2   Coste                                                   77054 non-null   float64       \n",
      " 3   Fecha                                                   77054 non-null   datetime64[ns]\n",
      " 4   Producto/Cuenta analítica para gastos/Nombre a mostrar  77054 non-null   object        \n",
      " 5   Producto/Referencia interna                             77054 non-null   float64       \n",
      " 6   Producto/Proveedores/Nombre a mostrar                   119956 non-null  object        \n",
      " 7   Producto/Categoría de producto/Nombre a mostrar         77054 non-null   object        \n",
      "dtypes: datetime64[ns](1), float64(2), object(5)\n",
      "memory usage: 7.3+ MB\n"
     ]
    }
   ],
   "source": [
    "precios = pd.concat([precio_enejun,precio_juldic,precio_2021,precio_2022], ignore_index=True)\n",
    "precios.info()"
   ]
  },
  {
   "cell_type": "code",
   "execution_count": 6,
   "id": "a0fdf3df",
   "metadata": {},
   "outputs": [
    {
     "data": {
      "text/plain": [
       "External ID                                               42902\n",
       "Producto/Nombre                                           42902\n",
       "Coste                                                     42902\n",
       "Fecha                                                     42902\n",
       "Producto/Cuenta analítica para gastos/Nombre a mostrar    42902\n",
       "Producto/Referencia interna                               42902\n",
       "Producto/Proveedores/Nombre a mostrar                         0\n",
       "Producto/Categoría de producto/Nombre a mostrar           42902\n",
       "dtype: int64"
      ]
     },
     "execution_count": 6,
     "metadata": {},
     "output_type": "execute_result"
    }
   ],
   "source": [
    "#Checking For Null Values in Data\n",
    "precios.isnull().sum(axis=0)"
   ]
  },
  {
   "cell_type": "code",
   "execution_count": 7,
   "id": "fbe1bff1",
   "metadata": {},
   "outputs": [
    {
     "name": "stdout",
     "output_type": "stream",
     "text": [
      "<class 'pandas.core.frame.DataFrame'>\n",
      "Int64Index: 77054 entries, 0 to 119953\n",
      "Data columns (total 8 columns):\n",
      " #   Column                                                  Non-Null Count  Dtype         \n",
      "---  ------                                                  --------------  -----         \n",
      " 0   External ID                                             77054 non-null  object        \n",
      " 1   Producto/Nombre                                         77054 non-null  object        \n",
      " 2   Coste                                                   77054 non-null  float64       \n",
      " 3   Fecha                                                   77054 non-null  datetime64[ns]\n",
      " 4   Producto/Cuenta analítica para gastos/Nombre a mostrar  77054 non-null  object        \n",
      " 5   Producto/Referencia interna                             77054 non-null  int64         \n",
      " 6   Producto/Proveedores/Nombre a mostrar                   77054 non-null  object        \n",
      " 7   Producto/Categoría de producto/Nombre a mostrar         77054 non-null  object        \n",
      "dtypes: datetime64[ns](1), float64(1), int64(1), object(5)\n",
      "memory usage: 5.3+ MB\n"
     ]
    },
    {
     "name": "stderr",
     "output_type": "stream",
     "text": [
      "/var/folders/ss/hj4zvr2n1bq4m0rs9tdnf0440000gn/T/ipykernel_32893/2481191600.py:2: SettingWithCopyWarning: \n",
      "A value is trying to be set on a copy of a slice from a DataFrame.\n",
      "Try using .loc[row_indexer,col_indexer] = value instead\n",
      "\n",
      "See the caveats in the documentation: https://pandas.pydata.org/pandas-docs/stable/user_guide/indexing.html#returning-a-view-versus-a-copy\n",
      "  precios2['Producto/Referencia interna'] =precios2['Producto/Referencia interna'].astype(int)\n"
     ]
    }
   ],
   "source": [
    "precios2 = precios.dropna(thresh=7)\n",
    "precios2['Producto/Referencia interna'] =precios2['Producto/Referencia interna'].astype(int)\n",
    "precios2.info()"
   ]
  },
  {
   "cell_type": "code",
   "execution_count": 8,
   "id": "5d317243",
   "metadata": {},
   "outputs": [
    {
     "data": {
      "text/plain": [
       "1036"
      ]
     },
     "execution_count": 8,
     "metadata": {},
     "output_type": "execute_result"
    }
   ],
   "source": [
    "#Checking For Duplicated Rows in Data\n",
    "precios2.duplicated().sum() "
   ]
  },
  {
   "cell_type": "code",
   "execution_count": 9,
   "id": "7e30ea50",
   "metadata": {},
   "outputs": [
    {
     "name": "stdout",
     "output_type": "stream",
     "text": [
      "<class 'pandas.core.frame.DataFrame'>\n",
      "Int64Index: 76018 entries, 0 to 119950\n",
      "Data columns (total 8 columns):\n",
      " #   Column                                                  Non-Null Count  Dtype         \n",
      "---  ------                                                  --------------  -----         \n",
      " 0   External ID                                             76018 non-null  object        \n",
      " 1   Producto/Nombre                                         76018 non-null  object        \n",
      " 2   Coste                                                   76018 non-null  float64       \n",
      " 3   Fecha                                                   76018 non-null  datetime64[ns]\n",
      " 4   Producto/Cuenta analítica para gastos/Nombre a mostrar  76018 non-null  object        \n",
      " 5   Producto/Referencia interna                             76018 non-null  int64         \n",
      " 6   Producto/Proveedores/Nombre a mostrar                   76018 non-null  object        \n",
      " 7   Producto/Categoría de producto/Nombre a mostrar         76018 non-null  object        \n",
      "dtypes: datetime64[ns](1), float64(1), int64(1), object(5)\n",
      "memory usage: 5.2+ MB\n"
     ]
    }
   ],
   "source": [
    "precios3=precios2.drop_duplicates() #删除数据记录中所有列值相同的记录\n",
    "precios3.info()"
   ]
  },
  {
   "cell_type": "code",
   "execution_count": 10,
   "id": "20b3fe8f",
   "metadata": {},
   "outputs": [
    {
     "data": {
      "text/html": [
       "<div>\n",
       "<style scoped>\n",
       "    .dataframe tbody tr th:only-of-type {\n",
       "        vertical-align: middle;\n",
       "    }\n",
       "\n",
       "    .dataframe tbody tr th {\n",
       "        vertical-align: top;\n",
       "    }\n",
       "\n",
       "    .dataframe thead th {\n",
       "        text-align: right;\n",
       "    }\n",
       "</style>\n",
       "<table border=\"1\" class=\"dataframe\">\n",
       "  <thead>\n",
       "    <tr style=\"text-align: right;\">\n",
       "      <th></th>\n",
       "      <th>External ID</th>\n",
       "      <th>Producto/Nombre</th>\n",
       "      <th>Coste</th>\n",
       "      <th>Fecha</th>\n",
       "      <th>Producto/Cuenta analítica para gastos/Nombre a mostrar</th>\n",
       "      <th>Producto/Referencia interna</th>\n",
       "      <th>Producto/Proveedores/Nombre a mostrar</th>\n",
       "      <th>Producto/Categoría de producto/Nombre a mostrar</th>\n",
       "    </tr>\n",
       "  </thead>\n",
       "  <tbody>\n",
       "    <tr>\n",
       "      <th>0</th>\n",
       "      <td>__export__.product_price_history_78926_abded360</td>\n",
       "      <td>Envase Veer 33cl</td>\n",
       "      <td>0.15</td>\n",
       "      <td>2022-06-29 21:10:50</td>\n",
       "      <td>Eco</td>\n",
       "      <td>1637</td>\n",
       "      <td>(VEER) MISSON S.COOP.CYL.</td>\n",
       "      <td>Seco Envasado / Vinos, cervezas, sidras / Cerv...</td>\n",
       "    </tr>\n",
       "    <tr>\n",
       "      <th>1</th>\n",
       "      <td>__export__.product_price_history_78925_30713b35</td>\n",
       "      <td>Envase Veer 33cl</td>\n",
       "      <td>0.15</td>\n",
       "      <td>2022-06-29 20:25:26</td>\n",
       "      <td>Eco</td>\n",
       "      <td>1637</td>\n",
       "      <td>(VEER) MISSON S.COOP.CYL.</td>\n",
       "      <td>Seco Envasado / Vinos, cervezas, sidras / Cerv...</td>\n",
       "    </tr>\n",
       "    <tr>\n",
       "      <th>2</th>\n",
       "      <td>__export__.product_price_history_78916_73aa1b21</td>\n",
       "      <td>Fuet extra Biobardales 200 gr</td>\n",
       "      <td>2.95</td>\n",
       "      <td>2022-06-29 19:22:59</td>\n",
       "      <td>Eco</td>\n",
       "      <td>597</td>\n",
       "      <td>(BIOBARDALES) COMERCIAL BELDREA S.L.</td>\n",
       "      <td>Resto Producto Fresco / Charcutería animal / E...</td>\n",
       "    </tr>\n",
       "    <tr>\n",
       "      <th>3</th>\n",
       "      <td>__export__.product_price_history_78919_197ec6c0</td>\n",
       "      <td>Preparado para legumbres chorizo, morcilla, pa...</td>\n",
       "      <td>2.90</td>\n",
       "      <td>2022-06-29 19:22:59</td>\n",
       "      <td>Eco</td>\n",
       "      <td>1252</td>\n",
       "      <td>(BIOBARDALES) COMERCIAL BELDREA S.L.</td>\n",
       "      <td>Resto Producto Fresco / Charcutería animal / E...</td>\n",
       "    </tr>\n",
       "    <tr>\n",
       "      <th>4</th>\n",
       "      <td>__export__.product_price_history_78918_c43ac4cb</td>\n",
       "      <td>Lomo extra lonchas Biobardales 100 gr</td>\n",
       "      <td>3.45</td>\n",
       "      <td>2022-06-29 19:22:59</td>\n",
       "      <td>Eco</td>\n",
       "      <td>877</td>\n",
       "      <td>(BIOBARDALES) COMERCIAL BELDREA S.L.</td>\n",
       "      <td>Resto Producto Fresco / Charcutería animal / E...</td>\n",
       "    </tr>\n",
       "  </tbody>\n",
       "</table>\n",
       "</div>"
      ],
      "text/plain": [
       "                                       External ID  \\\n",
       "0  __export__.product_price_history_78926_abded360   \n",
       "1  __export__.product_price_history_78925_30713b35   \n",
       "2  __export__.product_price_history_78916_73aa1b21   \n",
       "3  __export__.product_price_history_78919_197ec6c0   \n",
       "4  __export__.product_price_history_78918_c43ac4cb   \n",
       "\n",
       "                                     Producto/Nombre  Coste  \\\n",
       "0                                   Envase Veer 33cl   0.15   \n",
       "1                                   Envase Veer 33cl   0.15   \n",
       "2                      Fuet extra Biobardales 200 gr   2.95   \n",
       "3  Preparado para legumbres chorizo, morcilla, pa...   2.90   \n",
       "4              Lomo extra lonchas Biobardales 100 gr   3.45   \n",
       "\n",
       "                Fecha Producto/Cuenta analítica para gastos/Nombre a mostrar  \\\n",
       "0 2022-06-29 21:10:50                                                Eco       \n",
       "1 2022-06-29 20:25:26                                                Eco       \n",
       "2 2022-06-29 19:22:59                                                Eco       \n",
       "3 2022-06-29 19:22:59                                                Eco       \n",
       "4 2022-06-29 19:22:59                                                Eco       \n",
       "\n",
       "   Producto/Referencia interna Producto/Proveedores/Nombre a mostrar  \\\n",
       "0                         1637             (VEER) MISSON S.COOP.CYL.   \n",
       "1                         1637             (VEER) MISSON S.COOP.CYL.   \n",
       "2                          597  (BIOBARDALES) COMERCIAL BELDREA S.L.   \n",
       "3                         1252  (BIOBARDALES) COMERCIAL BELDREA S.L.   \n",
       "4                          877  (BIOBARDALES) COMERCIAL BELDREA S.L.   \n",
       "\n",
       "     Producto/Categoría de producto/Nombre a mostrar  \n",
       "0  Seco Envasado / Vinos, cervezas, sidras / Cerv...  \n",
       "1  Seco Envasado / Vinos, cervezas, sidras / Cerv...  \n",
       "2  Resto Producto Fresco / Charcutería animal / E...  \n",
       "3  Resto Producto Fresco / Charcutería animal / E...  \n",
       "4  Resto Producto Fresco / Charcutería animal / E...  "
      ]
     },
     "execution_count": 10,
     "metadata": {},
     "output_type": "execute_result"
    }
   ],
   "source": [
    "precios3.head(5)"
   ]
  },
  {
   "cell_type": "code",
   "execution_count": 11,
   "id": "dbebff3a",
   "metadata": {},
   "outputs": [
    {
     "data": {
      "text/plain": [
       "(76018, 8)"
      ]
     },
     "execution_count": 11,
     "metadata": {},
     "output_type": "execute_result"
    }
   ],
   "source": [
    "precios3.shape"
   ]
  },
  {
   "cell_type": "code",
   "execution_count": 12,
   "id": "e907d3f8",
   "metadata": {},
   "outputs": [
    {
     "data": {
      "text/html": [
       "<div>\n",
       "<style scoped>\n",
       "    .dataframe tbody tr th:only-of-type {\n",
       "        vertical-align: middle;\n",
       "    }\n",
       "\n",
       "    .dataframe tbody tr th {\n",
       "        vertical-align: top;\n",
       "    }\n",
       "\n",
       "    .dataframe thead th {\n",
       "        text-align: right;\n",
       "    }\n",
       "</style>\n",
       "<table border=\"1\" class=\"dataframe\">\n",
       "  <thead>\n",
       "    <tr style=\"text-align: right;\">\n",
       "      <th></th>\n",
       "      <th>Coste</th>\n",
       "      <th>Producto/Referencia interna</th>\n",
       "    </tr>\n",
       "  </thead>\n",
       "  <tbody>\n",
       "    <tr>\n",
       "      <th>count</th>\n",
       "      <td>76018.000000</td>\n",
       "      <td>76018.000000</td>\n",
       "    </tr>\n",
       "    <tr>\n",
       "      <th>mean</th>\n",
       "      <td>3.027626</td>\n",
       "      <td>2750.053711</td>\n",
       "    </tr>\n",
       "    <tr>\n",
       "      <th>std</th>\n",
       "      <td>3.503690</td>\n",
       "      <td>1746.733376</td>\n",
       "    </tr>\n",
       "    <tr>\n",
       "      <th>min</th>\n",
       "      <td>0.000000</td>\n",
       "      <td>5.000000</td>\n",
       "    </tr>\n",
       "    <tr>\n",
       "      <th>25%</th>\n",
       "      <td>1.380000</td>\n",
       "      <td>1113.000000</td>\n",
       "    </tr>\n",
       "    <tr>\n",
       "      <th>50%</th>\n",
       "      <td>2.030000</td>\n",
       "      <td>2780.000000</td>\n",
       "    </tr>\n",
       "    <tr>\n",
       "      <th>75%</th>\n",
       "      <td>3.150000</td>\n",
       "      <td>4232.000000</td>\n",
       "    </tr>\n",
       "    <tr>\n",
       "      <th>max</th>\n",
       "      <td>156.000000</td>\n",
       "      <td>6518.000000</td>\n",
       "    </tr>\n",
       "  </tbody>\n",
       "</table>\n",
       "</div>"
      ],
      "text/plain": [
       "              Coste  Producto/Referencia interna\n",
       "count  76018.000000                 76018.000000\n",
       "mean       3.027626                  2750.053711\n",
       "std        3.503690                  1746.733376\n",
       "min        0.000000                     5.000000\n",
       "25%        1.380000                  1113.000000\n",
       "50%        2.030000                  2780.000000\n",
       "75%        3.150000                  4232.000000\n",
       "max      156.000000                  6518.000000"
      ]
     },
     "execution_count": 12,
     "metadata": {},
     "output_type": "execute_result"
    }
   ],
   "source": [
    "precios3.describe()"
   ]
  },
  {
   "cell_type": "code",
   "execution_count": 13,
   "id": "8fe70c1c",
   "metadata": {},
   "outputs": [
    {
     "name": "stderr",
     "output_type": "stream",
     "text": [
      "/var/folders/ss/hj4zvr2n1bq4m0rs9tdnf0440000gn/T/ipykernel_32893/3689246809.py:1: SettingWithCopyWarning: \n",
      "A value is trying to be set on a copy of a slice from a DataFrame\n",
      "\n",
      "See the caveats in the documentation: https://pandas.pydata.org/pandas-docs/stable/user_guide/indexing.html#returning-a-view-versus-a-copy\n",
      "  precios3.rename(columns=lambda x: x.replace(' ', '_').replace('-', '_'), inplace=True)\n"
     ]
    },
    {
     "data": {
      "text/plain": [
       "Index(['External_ID', 'Producto/Nombre', 'Coste', 'Fecha',\n",
       "       'Producto/Cuenta_analítica_para_gastos/Nombre_a_mostrar',\n",
       "       'Producto/Referencia_interna', 'Producto/Proveedores/Nombre_a_mostrar',\n",
       "       'Producto/Categoría_de_producto/Nombre_a_mostrar'],\n",
       "      dtype='object')"
      ]
     },
     "execution_count": 13,
     "metadata": {},
     "output_type": "execute_result"
    }
   ],
   "source": [
    "precios3.rename(columns=lambda x: x.replace(' ', '_').replace('-', '_'), inplace=True)\n",
    "precios3.columns"
   ]
  },
  {
   "cell_type": "code",
   "execution_count": 14,
   "id": "542c39a8",
   "metadata": {},
   "outputs": [
    {
     "data": {
      "text/plain": [
       "External_ID                                                       object\n",
       "Producto/Nombre                                                   object\n",
       "Coste                                                            float64\n",
       "Fecha                                                     datetime64[ns]\n",
       "Producto/Cuenta_analítica_para_gastos/Nombre_a_mostrar            object\n",
       "Producto/Referencia_interna                                        int64\n",
       "Producto/Proveedores/Nombre_a_mostrar                             object\n",
       "Producto/Categoría_de_producto/Nombre_a_mostrar                   object\n",
       "dtype: object"
      ]
     },
     "execution_count": 14,
     "metadata": {},
     "output_type": "execute_result"
    }
   ],
   "source": [
    "precios3.dtypes"
   ]
  },
  {
   "cell_type": "code",
   "execution_count": 15,
   "id": "67427622",
   "metadata": {},
   "outputs": [
    {
     "name": "stderr",
     "output_type": "stream",
     "text": [
      "/var/folders/ss/hj4zvr2n1bq4m0rs9tdnf0440000gn/T/ipykernel_32893/3051049538.py:1: SettingWithCopyWarning: \n",
      "A value is trying to be set on a copy of a slice from a DataFrame.\n",
      "Try using .loc[row_indexer,col_indexer] = value instead\n",
      "\n",
      "See the caveats in the documentation: https://pandas.pydata.org/pandas-docs/stable/user_guide/indexing.html#returning-a-view-versus-a-copy\n",
      "  precios3['Year'] = precios3['Fecha'].dt.year\n",
      "/var/folders/ss/hj4zvr2n1bq4m0rs9tdnf0440000gn/T/ipykernel_32893/3051049538.py:2: SettingWithCopyWarning: \n",
      "A value is trying to be set on a copy of a slice from a DataFrame.\n",
      "Try using .loc[row_indexer,col_indexer] = value instead\n",
      "\n",
      "See the caveats in the documentation: https://pandas.pydata.org/pandas-docs/stable/user_guide/indexing.html#returning-a-view-versus-a-copy\n",
      "  precios3['Month'] = precios3['Fecha'].dt.month\n",
      "/var/folders/ss/hj4zvr2n1bq4m0rs9tdnf0440000gn/T/ipykernel_32893/3051049538.py:3: SettingWithCopyWarning: \n",
      "A value is trying to be set on a copy of a slice from a DataFrame.\n",
      "Try using .loc[row_indexer,col_indexer] = value instead\n",
      "\n",
      "See the caveats in the documentation: https://pandas.pydata.org/pandas-docs/stable/user_guide/indexing.html#returning-a-view-versus-a-copy\n",
      "  precios3['Day'] = precios3['Fecha'].values.astype('datetime64[ns]')\n"
     ]
    },
    {
     "data": {
      "text/html": [
       "<div>\n",
       "<style scoped>\n",
       "    .dataframe tbody tr th:only-of-type {\n",
       "        vertical-align: middle;\n",
       "    }\n",
       "\n",
       "    .dataframe tbody tr th {\n",
       "        vertical-align: top;\n",
       "    }\n",
       "\n",
       "    .dataframe thead th {\n",
       "        text-align: right;\n",
       "    }\n",
       "</style>\n",
       "<table border=\"1\" class=\"dataframe\">\n",
       "  <thead>\n",
       "    <tr style=\"text-align: right;\">\n",
       "      <th></th>\n",
       "      <th>Year</th>\n",
       "      <th>Month</th>\n",
       "      <th>Day</th>\n",
       "    </tr>\n",
       "  </thead>\n",
       "  <tbody>\n",
       "    <tr>\n",
       "      <th>0</th>\n",
       "      <td>2022</td>\n",
       "      <td>6</td>\n",
       "      <td>2022-06-29 21:10:50</td>\n",
       "    </tr>\n",
       "    <tr>\n",
       "      <th>1</th>\n",
       "      <td>2022</td>\n",
       "      <td>6</td>\n",
       "      <td>2022-06-29 20:25:26</td>\n",
       "    </tr>\n",
       "    <tr>\n",
       "      <th>2</th>\n",
       "      <td>2022</td>\n",
       "      <td>6</td>\n",
       "      <td>2022-06-29 19:22:59</td>\n",
       "    </tr>\n",
       "    <tr>\n",
       "      <th>3</th>\n",
       "      <td>2022</td>\n",
       "      <td>6</td>\n",
       "      <td>2022-06-29 19:22:59</td>\n",
       "    </tr>\n",
       "    <tr>\n",
       "      <th>4</th>\n",
       "      <td>2022</td>\n",
       "      <td>6</td>\n",
       "      <td>2022-06-29 19:22:59</td>\n",
       "    </tr>\n",
       "  </tbody>\n",
       "</table>\n",
       "</div>"
      ],
      "text/plain": [
       "   Year  Month                 Day\n",
       "0  2022      6 2022-06-29 21:10:50\n",
       "1  2022      6 2022-06-29 20:25:26\n",
       "2  2022      6 2022-06-29 19:22:59\n",
       "3  2022      6 2022-06-29 19:22:59\n",
       "4  2022      6 2022-06-29 19:22:59"
      ]
     },
     "execution_count": 15,
     "metadata": {},
     "output_type": "execute_result"
    }
   ],
   "source": [
    "precios3['Year'] = precios3['Fecha'].dt.year\n",
    "precios3['Month'] = precios3['Fecha'].dt.month\n",
    "precios3['Day'] = precios3['Fecha'].values.astype('datetime64[ns]')\n",
    "precios3[['Year', 'Month','Day']].head(5)"
   ]
  }
 ],
 "metadata": {
  "kernelspec": {
   "display_name": "Python 3 (ipykernel)",
   "language": "python",
   "name": "python3"
  },
  "language_info": {
   "codemirror_mode": {
    "name": "ipython",
    "version": 3
   },
   "file_extension": ".py",
   "mimetype": "text/x-python",
   "name": "python",
   "nbconvert_exporter": "python",
   "pygments_lexer": "ipython3",
   "version": "3.9.13"
  }
 },
 "nbformat": 4,
 "nbformat_minor": 5
}
